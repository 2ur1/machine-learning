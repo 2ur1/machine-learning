{
 "cells": [
  {
   "cell_type": "code",
   "execution_count": 1,
   "metadata": {
    "collapsed": true
   },
   "outputs": [],
   "source": [
    "import numpy as np\n",
    "import pandas as pd\n",
    "from pandas import DataFrame, Series\n",
    "\n",
    "import matplotlib as mpl\n",
    "import matplotlib.pyplot as plt\n",
    "import seaborn as sns\n",
    "\n",
    "# 日本語フォントを設定\n",
    "font = {'family': 'AppleGothic'}\n",
    "mpl.rc('font', **font)\n",
    "\n",
    "%matplotlib inline"
   ]
  },
  {
   "cell_type": "markdown",
   "metadata": {},
   "source": [
    "# what is EMアルゴリズム\n",
    "データの欠測等の不完全な状態で観測されたデータに基づく最尤推定値を求めるためのアルゴリズム\n",
    "\n",
    "通常、欠測データが存在しないときの最尤推定法では、対数尤度関数\n",
    "$$\n",
    "\\log {L\\left( \\theta;x \\right)} = \\sum {\\log {f\\left( x;\\theta \\right)}}\n",
    "$$\n",
    "を最大にする$\\theta$を求めるが、欠測データが存在するためこの操作が行えない。このような問題を解決するために、EMアルゴリズムを用いる。"
   ]
  },
  {
   "cell_type": "markdown",
   "metadata": {},
   "source": [
    "# EMアルゴリズム\n",
    "\n",
    " - $Y$: **観測されたデータ**$y$に対応する確率変数\n",
    " - $f\\left({y}|{\\theta}\\right)$: 確率密度関数\n",
    " - $\\theta = \\left( \\theta_{1}, \\dots, \\theta_{d} \\right)^{T}$: パラメータ空間($R^{d}$次元)上のベクトル\n",
    " - $Z$: **欠測データ**$z$に対応する確率変数\n",
    " - $X^{T} = \\left( Y^{T}, Z^{T} \\right)$: **完全データ**に対応する確率変数\n",
    " - $L\\left( x;\\theta \\right) = \\prod _{i=1}^{n}{f\\left( x_{i};\\theta \\right)}$: 尤度関数\n",
    "\n",
    "一般的な表記では、EMアルゴリズムは次のような計算手順で定式化されている。\n",
    "\n",
    "\n",
    "> 1. パラメータに初期値$\\theta^{(0)}$を設定する\n",
    "\n",
    "> 2. **<font color=\"blue\">期待値</font>**(Expectation)ステップ:<br>\n",
    "> 欠測データ$Z$について、観測値$y$と確率密度関数のパラメータ$\\theta^{(j)}$が与えられたという条件のもとで、その条件付き期待値を求め、欠測となっている観測$z$について擬似的な観測値として代入する。<br>\n",
    "> *$\\theta^{(j)}$, $y$が与えられたという条件のもとでの$z$の期待値を計算→完全データを生成→対数尤度の期待値を計算*\n",
    "> $j$ステップで、\n",
    "> $$\n",
    "Q\\left( \\theta^{\\prime} \\theta^{(j)} \\right) = E_{\\theta^{(j)}}\\left[ {\\log {L\\left( \\theta;x \\right)}}|{Y = y} \\right]\n",
    "$$\n",
    "> をパラメータ$\\theta^{\\prime}$の関数として計算する\n",
    "\n",
    "> 3. **<font color=\"blue\">最大化</font>**(Maximization)ステップ:<br>\n",
    "> $Q\\left( \\theta^{\\prime}, \\theta^{(j)} \\right)$を$\\theta^{\\prime}$に関して最大化し、その解を新しい推定量$\\theta^{(j + 1)}$として定める。\n",
    "> $$\n",
    "Q\\left(\\theta^{(j+1)}, \\theta^{(j)}\\right) \\ge Q\\left(\\theta, \\theta^{(j)}\\right)\n",
    "$$\n",
    "> となるパラメータ$\\theta^{(j+1)}$を求める。\n",
    "> $$\n",
    "M\\left( \\theta^{(j)} \\right) = arg \\max _{\\theta}{Q\\left( \\theta^{(j)} \\right)}\n",
    "$$\n",
    ">\n",
    "> 4. ステップ2,3を収束するまで繰り返す。\n",
    "> 収束条件としては、$\\left\\| \\cdot \\right\\|$を$d$次元ユークリッド空間$R^{d}$の適当なノルムとして\n",
    ">$$\n",
    "\\left\\| \\theta^{(j+1)} - \\theta^{(j)} \\right\\|\n",
    "$$\n",
    "> が十分小のとき、あるいは、\n",
    ">$$\n",
    "\\left\\| Q\\left(\\theta^{(j+1)} \\theta^{(j)}\\right) - Q\\left( \\theta^{(j)} \\theta^{(j)} \\right) \\right\\|\n",
    "$$\n",
    ">などが十分小さいことを条件として使う。\n"
   ]
  },
  {
   "cell_type": "code",
   "execution_count": null,
   "metadata": {
    "collapsed": true
   },
   "outputs": [],
   "source": []
  }
 ],
 "metadata": {
  "kernelspec": {
   "display_name": "Python 3",
   "language": "python",
   "name": "python3"
  },
  "language_info": {
   "codemirror_mode": {
    "name": "ipython",
    "version": 3
   },
   "file_extension": ".py",
   "mimetype": "text/x-python",
   "name": "python",
   "nbconvert_exporter": "python",
   "pygments_lexer": "ipython3",
   "version": "3.6.3"
  },
  "toc": {
   "nav_menu": {},
   "number_sections": true,
   "sideBar": true,
   "skip_h1_title": false,
   "toc_cell": false,
   "toc_position": {},
   "toc_section_display": "block",
   "toc_window_display": false
  }
 },
 "nbformat": 4,
 "nbformat_minor": 2
}
