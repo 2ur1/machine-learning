{
 "cells": [
  {
   "cell_type": "markdown",
   "metadata": {
    "collapsed": true
   },
   "source": [
    "# 比率の検定"
   ]
  },
  {
   "cell_type": "markdown",
   "metadata": {},
   "source": [
    "### 1) あるサイコロを500回投げて95回3の目が出た。このサイコロは正確に作られているかどうかを有意水準5%で検定せよ。"
   ]
  },
  {
   "cell_type": "markdown",
   "metadata": {},
   "source": [
    "(1)**仮説**を設ける。\n",
    "\n",
    "帰無仮説(${ H }_{ 0 }$)：このサイコロの各目は1/6の比率で出るという仮説を設ける。\n",
    "$$\n",
    "{ H }_{ 0 } : p = \\frac {1}{6}\n",
    "$$\n",
    "$$\n",
    "{ H }_{ 1 }: p \\neq \\frac {1}{6}\n",
    "$$\n",
    "\n",
    "(2)仮説を検定するために適当な**検定統計量**を選ぶ\n",
    "$$\n",
    "{ z }_{ 0 } = \\frac { \\frac {x}{n} - \\frac { 1 }{ 6 } }{ \\sqrt{ \\frac { x }{ n } \\left( 1 - \\frac { x }{ n } \\right) / n} }\n",
    "$$\n",
    "\n",
    "(3)その検定統計量の値について**有意水準$\\alpha$**を定める\n",
    "$$\n",
    "\\alpha = 0.05\n",
    "$$\n",
    "\n",
    "(4)標本観察の数値による検定統計量の値が棄却域に落ちるかどうかを確かめる\n",
    "\n",
    "今回は両側検定を行うため棄却域は以下の通り。\n",
    "$$\n",
    "z<-z\\left(\\frac {\\alpha}{2} \\right), z\\left(\\frac {\\alpha}{2} \\right)<z\n",
    "$$"
   ]
  },
  {
   "cell_type": "code",
   "execution_count": 34,
   "metadata": {},
   "outputs": [
    {
     "name": "stdout",
     "output_type": "stream",
     "text": [
      "z値:1.32997193789\n",
      "帰無仮説は棄却されない\n",
      "サイコロは正確に作られている。\n"
     ]
    }
   ],
   "source": [
    "import numpy as np\n",
    "from scipy.stats import norm #正規分布\n",
    "\n",
    "n = 500\n",
    "x = 95\n",
    "p = 1/6\n",
    "alpha = 0.05\n",
    "\n",
    "# 検定統計量\n",
    "sample_rate = 95/500\n",
    "z = (sample_rate - p) * np.sqrt(n / (sample_rate * (1 - sample_rate)))\n",
    "\n",
    "# 棄却域（両側検定）\n",
    "a, b = norm.interval(1-alpha)\n",
    "\n",
    "print('z値:'+str(z))\n",
    "if (z < a) or (b < z):\n",
    "    print('帰無仮説は棄却される')\n",
    "    print('サイコロは正確に作られていない。')\n",
    "else:\n",
    "    print('帰無仮説は棄却されない')\n",
    "    print('サイコロは正確に作られている。')"
   ]
  },
  {
   "cell_type": "markdown",
   "metadata": {},
   "source": [
    "# 比率の差の検定"
   ]
  },
  {
   "cell_type": "markdown",
   "metadata": {},
   "source": [
    "### 9) ある学校で英語の試験を行ったところ、50点以上をとった者は男子学生２４０人中１４４人、女子学生１８０人中９２人であった。男女間で５０点以上をとれる力のある者の割合に差があるかどうかを有意水準５％で検定せよ。"
   ]
  },
  {
   "cell_type": "markdown",
   "metadata": {},
   "source": [
    "(1)**仮説**を設ける。\n",
    "\n",
    "帰無仮説(${ H }_{ 0 }$)：このサイコロの各目は1/6の比率で出るという仮説を設ける。\n",
    "\n",
    "${p}_{1}:$ 男子学生の割合\n",
    "\n",
    "${p}_{2}:$ 女子学生の割合\n",
    "\n",
    "$$\n",
    "{ H }_{ 0 } : {p}_{1} = {p}_{2} (=p)\n",
    "$$\n",
    "$$\n",
    "{ H }_{ 1 }: {p}_{1} \\neq {p}_{2}\n",
    "$$\n",
    "\n",
    "(2)仮説を検定するために適当な**検定統計量**を選ぶ\n",
    "$$\n",
    "\\widehat { p } = \\frac { {x}_{1} + {x}_{2} }{ {n}_{1} + {n}_{2} }\n",
    "$$\n",
    "\n",
    "$$\n",
    "{ z }_{ 0 } = \\frac { \\frac {{x}_{1}}{{n}_{1}} - \\frac { {x}_{2} }{ {n}_{2} } }{ \\sqrt{ \\widehat { p } \\left(1-\\widehat { p } \\right) \\left( \\frac {1}{ {n}_{1} } + \\frac {1}{ {n}_{2} } \\right) } }\n",
    "$$\n",
    "\n",
    "(3)その検定統計量の値について**有意水準$\\alpha$**を定める\n",
    "$$\n",
    "\\alpha = 0.05\n",
    "$$\n",
    "\n",
    "(4)標本観察の数値による検定統計量の値が棄却域に落ちるかどうかを確かめる\n",
    "\n",
    "今回は両側検定を行うため棄却域は以下の通り。\n",
    "$$\n",
    "z<-z\\left(\\frac {\\alpha}{2} \\right), z\\left(\\frac {\\alpha}{2} \\right)<z\n",
    "$$"
   ]
  },
  {
   "cell_type": "code",
   "execution_count": 35,
   "metadata": {},
   "outputs": [
    {
     "name": "stdout",
     "output_type": "stream",
     "text": [
      "z値:1.81697554947\n",
      "帰無仮説は棄却されない\n",
      "男女間で５０点以上をとれる力のある者の割合に差はない。\n"
     ]
    }
   ],
   "source": [
    "n_men = 240\n",
    "x_men = 144\n",
    "men_rate = x_men/n_men\n",
    "\n",
    "n_women = 180\n",
    "x_women = 92\n",
    "women_rate = x_women/n_women\n",
    "\n",
    "e_p = (x_men + x_women)/(n_men + n_women)\n",
    "\n",
    "# 有意水準\n",
    "alpha = 0.05\n",
    "\n",
    "# 検定統計量\n",
    "z = (men_rate - women_rate)/np.sqrt(e_p*(1 - e_p)*(1/n_men + 1/n_women))\n",
    "\n",
    "a, b = norm.interval(1-alpha)\n",
    "\n",
    "print('z値:'+str(z))\n",
    "if (z < a) or (b < z):\n",
    "    print('帰無仮説は棄却される')\n",
    "    print('男女間で５０点以上をとれる力のある者の割合に差がある。')\n",
    "else:\n",
    "    print('帰無仮説は棄却されない')\n",
    "    print('男女間で５０点以上をとれる力のある者の割合に差はない。')"
   ]
  },
  {
   "cell_type": "code",
   "execution_count": null,
   "metadata": {
    "collapsed": true
   },
   "outputs": [],
   "source": []
  }
 ],
 "metadata": {
  "kernelspec": {
   "display_name": "Python 3",
   "language": "python",
   "name": "python3"
  },
  "language_info": {
   "codemirror_mode": {
    "name": "ipython",
    "version": 3
   },
   "file_extension": ".py",
   "mimetype": "text/x-python",
   "name": "python",
   "nbconvert_exporter": "python",
   "pygments_lexer": "ipython3",
   "version": "3.4.5"
  }
 },
 "nbformat": 4,
 "nbformat_minor": 1
}
