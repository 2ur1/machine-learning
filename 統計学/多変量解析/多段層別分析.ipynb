{
 "cells": [
  {
   "cell_type": "markdown",
   "metadata": {},
   "source": [
    "# 多段層別分析(２進木解析法、CART法)\n",
    "\n",
    " - 多段層別分析(AID : Automatic Interaction Detector)\n",
    " - CART : Classfication and Regression Trees\n",
    "\n",
    "**<font color=\"red\">サンプルサイズが大きい場合</font>**に、サンプルデータの分類を目的として、目的変数$y$の違いをできるだけ際立たせる説明変数を用いて逐次サンプルを2分割していく方法。"
   ]
  },
  {
   "cell_type": "markdown",
   "metadata": {},
   "source": [
    "<div style=\"text-align:center\">\n",
    "    データ形式\n",
    "</div>\n",
    "\n",
    "| No. | $x_{1}$ | $x_{2}$ | $\\cdots$ | $x_{p}$ | $y$ |\n",
    "|:----:|:-----------:|:----------:|:------------:|:-----------:|:-----:|\n",
    "| 1   | $x_{11}$ | $x_{12}$ | $\\cdots$ | $x_{1p}$ | $y_{1}$ |\n",
    "| 2   | $x_{21}$ | $x_{22}$ | $\\cdots$ | $x_{2p}$ | $y_{2}$ |\n",
    "| $\\vdots $ | $\\vdots $ | $\\vdots $ | $\\cdots$ | $\\vdots $ | $\\vdots $ |\n",
    "| $i$ | $x_{i1}$ | $x_{i2}$ | $\\cdots$ | $x_{ip}$ | $y_{i}$ |\n",
    "| $\\vdots $ | $\\vdots $ | $\\vdots $ | $\\cdots$ | $\\vdots $ | $\\vdots $ |\n",
    "| $n$ | $x_{n1}$ | $x_{n2}$ | $\\cdots$ | $x_{np}$ | $y_{n}$ |"
   ]
  },
  {
   "attachments": {},
   "cell_type": "markdown",
   "metadata": {},
   "source": [
    "例えば、説明変数が$x_{1}, x_{2}, x_{3}$と3つあり、すべて量的変数(連続変数)であるとする。\n",
    "\n",
    "まず、全サンプルを2分割する\n",
    "\n"
   ]
  },
  {
   "cell_type": "markdown",
   "metadata": {},
   "source": [
    "「２つの母平均の差の検定」で用いる検定統計量tの２乗になっている。\n",
    "$$\n",
    "{ F }_{ 0 }=\\cfrac { { \\left( { \\overline { y }  }_{ 1 }-{ \\overline { y }  }_{ 2 } \\right)  }^{ 2 } }{ V\\cdot \\left( \\frac { 1 }{ { n }_{ 1 } } +\\frac { 1 }{ { n }_{ 2 } }  \\right)  } \\\\ V=\\cfrac { ({ n }_{ 1 }-1){ \\hat { \\sigma  }  }_{ 1 }^{ 2 }+({ n }_{ 2 }-1){ \\hat { \\sigma  }  }_{ 2 }^{ 2 } }{ ({ n }_{ 1 }-1)+({ n }_{ 2 }-1) } \n",
    "$$"
   ]
  },
  {
   "cell_type": "code",
   "execution_count": null,
   "metadata": {},
   "outputs": [],
   "source": []
  },
  {
   "cell_type": "markdown",
   "metadata": {},
   "source": [
    "# 実装編"
   ]
  },
  {
   "cell_type": "code",
   "execution_count": 1,
   "metadata": {},
   "outputs": [],
   "source": [
    "import numpy as np\n",
    "import pandas as pd\n",
    "\n",
    "import seaborn as sns\n",
    "import matplotlib.pyplot as plt\n",
    "\n",
    "%matplotlib inline"
   ]
  },
  {
   "cell_type": "code",
   "execution_count": 2,
   "metadata": {},
   "outputs": [],
   "source": [
    "from sklearn.datasets import load_iris\n",
    "\n",
    "# データセットの読み込み\n",
    "iris = load_iris()\n",
    "\n",
    "# 説明変数 (それぞれ、がく片や花弁の幅、長さを示します)\n",
    "x_arr = iris['data']\n",
    "# 目的変数 (0, 1, 2 がそれぞれの品種を表します)\n",
    "y_arr = iris['target']"
   ]
  },
  {
   "cell_type": "markdown",
   "metadata": {},
   "source": [
    "## モデリング"
   ]
  },
  {
   "cell_type": "markdown",
   "metadata": {},
   "source": [
    " - [sklearn.tree.DecisionTreeClassifier — scikit-learn 0.19.2 documentation](http://scikit-learn.org/stable/modules/generated/sklearn.tree.DecisionTreeClassifier.html)\n",
    " - [scikit-learn で決定木分析 (CART 法) – Python でデータサイエンス](https://pythondatascience.plavox.info/scikit-learn/scikit-learn%E3%81%A7%E6%B1%BA%E5%AE%9A%E6%9C%A8%E5%88%86%E6%9E%90)\n",
    " - [決定木アルゴリズムを実装してみる - Pythonと機械学習](http://darden.hatenablog.com/entry/2016/12/15/222447)"
   ]
  },
  {
   "cell_type": "code",
   "execution_count": 20,
   "metadata": {},
   "outputs": [
    {
     "data": {
      "text/plain": [
       "DecisionTreeClassifier(class_weight=None, criterion='gini', max_depth=2,\n",
       "            max_features=None, max_leaf_nodes=None,\n",
       "            min_impurity_decrease=0.0, min_impurity_split=None,\n",
       "            min_samples_leaf=1, min_samples_split=2,\n",
       "            min_weight_fraction_leaf=0.0, presort=False, random_state=None,\n",
       "            splitter='best')"
      ]
     },
     "execution_count": 20,
     "metadata": {},
     "output_type": "execute_result"
    }
   ],
   "source": [
    "from sklearn.tree import DecisionTreeClassifier # 決定木による分類機\n",
    "\n",
    "\n",
    "decision_tree_clf = DecisionTreeClassifier(\n",
    "                    class_weight=None, \n",
    "                    criterion='gini', \n",
    "                    max_depth=2,\n",
    "                    max_features=None, \n",
    "                    max_leaf_nodes=None,\n",
    "                    min_impurity_decrease=0.0, \n",
    "                    min_impurity_split=None,\n",
    "                    min_samples_leaf=1, \n",
    "                    min_samples_split=2,\n",
    "                    min_weight_fraction_leaf=0.0, \n",
    "                    presort=False, random_state=None,\n",
    "                    splitter='best'\n",
    "        )\n",
    "decision_tree_clf.fit(x_arr, y_arr)"
   ]
  },
  {
   "cell_type": "markdown",
   "metadata": {},
   "source": [
    "## 分割図の可視化"
   ]
  },
  {
   "cell_type": "code",
   "execution_count": 17,
   "metadata": {
    "scrolled": true
   },
   "outputs": [],
   "source": [
    "# 作成した決定木を可視化 (pydotplus パッケージを利用)\n",
    "import pydotplus\n",
    "from sklearn.externals.six import StringIO\n",
    "from sklearn.tree import export_graphviz\n",
    "\n",
    "\n",
    "dot_data = StringIO()\n",
    "export_graphviz(decision_tree_clf, out_file=dot_data)\n",
    "\n",
    "graph = pydotplus.graph_from_dot_data(dot_data.getvalue())\n",
    "# PDFファイルに出力\n",
    "# graph.write_png('boston_tree.png')"
   ]
  },
  {
   "cell_type": "code",
   "execution_count": 18,
   "metadata": {},
   "outputs": [],
   "source": [
    "# InvocationException: GraphViz's executables not found\n",
    "# とエラーが出たら以下のコマンドを実行するように！\n",
    "\n",
    "# brew install graphviz"
   ]
  },
  {
   "cell_type": "code",
   "execution_count": 19,
   "metadata": {},
   "outputs": [
    {
     "data": {
      "image/png": "[encoded data removed]",
      "text/plain": [
       "<IPython.core.display.Image object>"
      ]
     },
     "execution_count": 19,
     "metadata": {},
     "output_type": "execute_result"
    }
   ],
   "source": [
    "# ノートブックに可視化\n",
    "from IPython.display import Image\n",
    "\n",
    "Image(graph.create_png())"
   ]
  },
  {
   "cell_type": "markdown",
   "metadata": {},
   "source": [
    "## データ分け"
   ]
  },
  {
   "cell_type": "code",
   "execution_count": 21,
   "metadata": {},
   "outputs": [
    {
     "data": {
      "text/plain": [
       "array([0, 0, 0, 0, 0, 0, 0, 0, 0, 0, 0, 0, 0, 0, 0, 0, 0, 0, 0, 0, 0, 0, 0,\n",
       "       0, 0, 0, 0, 0, 0, 0, 0, 0, 0, 0, 0, 0, 0, 0, 0, 0, 0, 0, 0, 0, 0, 0,\n",
       "       0, 0, 0, 0, 1, 1, 1, 1, 1, 1, 1, 1, 1, 1, 1, 1, 1, 1, 1, 1, 1, 1, 1,\n",
       "       1, 2, 1, 1, 1, 1, 1, 1, 1, 1, 1, 1, 1, 1, 1, 1, 1, 1, 1, 1, 1, 1, 1,\n",
       "       1, 1, 1, 1, 1, 1, 1, 1, 2, 2, 2, 2, 2, 2, 1, 2, 2, 2, 2, 2, 2, 2, 2,\n",
       "       2, 2, 2, 2, 1, 2, 2, 2, 2, 2, 2, 2, 2, 2, 1, 2, 2, 2, 1, 1, 2, 2, 2,\n",
       "       2, 2, 2, 2, 2, 2, 2, 2, 2, 2, 2, 2])"
      ]
     },
     "execution_count": 21,
     "metadata": {},
     "output_type": "execute_result"
    }
   ],
   "source": [
    "decision_tree_clf.predict(x_arr)"
   ]
  },
  {
   "cell_type": "code",
   "execution_count": null,
   "metadata": {},
   "outputs": [],
   "source": []
  }
 ],
 "metadata": {
  "kernelspec": {
   "display_name": "Python 3",
   "language": "python",
   "name": "python3"
  },
  "language_info": {
   "codemirror_mode": {
    "name": "ipython",
    "version": 3
   },
   "file_extension": ".py",
   "mimetype": "text/x-python",
   "name": "python",
   "nbconvert_exporter": "python",
   "pygments_lexer": "ipython3",
   "version": "3.6.3"
  },
  "toc": {
   "nav_menu": {},
   "number_sections": true,
   "sideBar": true,
   "skip_h1_title": false,
   "toc_cell": false,
   "toc_position": {},
   "toc_section_display": "block",
   "toc_window_display": true
  }
 },
 "nbformat": 4,
 "nbformat_minor": 2
}
