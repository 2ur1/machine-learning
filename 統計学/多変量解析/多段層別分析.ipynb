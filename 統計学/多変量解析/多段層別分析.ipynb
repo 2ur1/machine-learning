{
 "cells": [
  {
   "cell_type": "markdown",
   "metadata": {},
   "source": [
    "# 多段層別分析(２進木解析法、CART法)\n",
    "\n",
    "サンプルサイズが大きい場合に、サンプルデータの分類を目的として、目的変数$y$の違いをできるだけ際立たせる説明変数を用いて逐次サンプルを2分割していく方法。"
   ]
  },
  {
   "cell_type": "markdown",
   "metadata": {},
   "source": [
    "<div style=\"text-align:center\">\n",
    "    データ形式\n",
    "</div>\n",
    "\n",
    "| No. | $x_{1}$ | $x_{2}$ | $\\cdots$ | $x_{p}$ | $y$ |\n",
    "|:----:|:-----------:|:----------:|:------------:|:-----------:|:-----:|\n",
    "| 1   | $x_{11}$ | $x_{12}$ | $\\cdots$ | $x_{1p}$ | $y_{1}$ |\n",
    "| 2   | $x_{21}$ | $x_{22}$ | $\\cdots$ | $x_{2p}$ | $y_{2}$ |\n",
    "| $\\vdots $ | $\\vdots $ | $\\vdots $ | $\\cdots$ | $\\vdots $ | $\\vdots $ |\n",
    "| $i$ | $x_{i1}$ | $x_{i2}$ | $\\cdots$ | $x_{ip}$ | $y_{i}$ |\n",
    "| $\\vdots $ | $\\vdots $ | $\\vdots $ | $\\cdots$ | $\\vdots $ | $\\vdots $ |\n",
    "| $n$ | $x_{n1}$ | $x_{n2}$ | $\\cdots$ | $x_{np}$ | $y_{n}$ |"
   ]
  },
  {
   "cell_type": "code",
   "execution_count": null,
   "metadata": {},
   "outputs": [],
   "source": []
  }
 ],
 "metadata": {
  "kernelspec": {
   "display_name": "Python 3",
   "language": "python",
   "name": "python3"
  },
  "language_info": {
   "codemirror_mode": {
    "name": "ipython",
    "version": 3
   },
   "file_extension": ".py",
   "mimetype": "text/x-python",
   "name": "python",
   "nbconvert_exporter": "python",
   "pygments_lexer": "ipython3",
   "version": "3.6.3"
  },
  "toc": {
   "nav_menu": {},
   "number_sections": true,
   "sideBar": true,
   "skip_h1_title": false,
   "toc_cell": false,
   "toc_position": {},
   "toc_section_display": "block",
   "toc_window_display": false
  }
 },
 "nbformat": 4,
 "nbformat_minor": 2
}
