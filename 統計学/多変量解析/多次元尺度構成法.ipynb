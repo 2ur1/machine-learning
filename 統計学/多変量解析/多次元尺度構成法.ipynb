{
 "cells": [
  {
   "cell_type": "markdown",
   "metadata": {},
   "source": [
    "# 多次元尺度構成法(MDS; Multi-Dimensional Scaling)\n",
    "\n",
    " - What : 対象$i$と対象$j$の親近性$s_{ij}$がデータとして与えられたときに、ユークリッド空間にサンプルを布置し、類似したものを近くに、類似していないものを遠くに配置する方法の総称\n",
    " - Why : \n",
    " - How : \n",
    " \n",
    "２つの母集団を設定して、あるサンプルがどちらの母集団に属するのかを推測する方法。\n",
    "\n",
    " - 非説明変数: 質的変数\n",
    " - 説明変数: 量的変数\n",
    "\n",
    "ex) 倒産予測モデル\n",
    "\n",
    " - 財務データの値$x_{1},\\cdots,x_{n}$から倒産危機にあるのか否かを判別\n",
    " - 判別できるとすればその精度はどのくらいか"
   ]
  },
  {
   "cell_type": "code",
   "execution_count": 1,
   "metadata": {
    "collapsed": true
   },
   "outputs": [],
   "source": [
    "import numpy as np\n",
    "import pandas as pd\n",
    "from pandas import DataFrame, Series\n",
    "from numpy.random import *\n",
    "\n",
    "import seaborn as sns\n",
    "import matplotlib.pyplot as plt\n",
    "\n",
    "%matplotlib inline"
   ]
  },
  {
   "cell_type": "code",
   "execution_count": null,
   "metadata": {
    "collapsed": true
   },
   "outputs": [],
   "source": []
  }
 ],
 "metadata": {
  "kernelspec": {
   "display_name": "Python 3",
   "language": "python",
   "name": "python3"
  },
  "language_info": {
   "codemirror_mode": {
    "name": "ipython",
    "version": 3
   },
   "file_extension": ".py",
   "mimetype": "text/x-python",
   "name": "python",
   "nbconvert_exporter": "python",
   "pygments_lexer": "ipython3",
   "version": "3.6.3"
  },
  "toc": {
   "nav_menu": {},
   "number_sections": true,
   "sideBar": true,
   "skip_h1_title": false,
   "toc_cell": false,
   "toc_position": {},
   "toc_section_display": "block",
   "toc_window_display": false
  }
 },
 "nbformat": 4,
 "nbformat_minor": 2
}
