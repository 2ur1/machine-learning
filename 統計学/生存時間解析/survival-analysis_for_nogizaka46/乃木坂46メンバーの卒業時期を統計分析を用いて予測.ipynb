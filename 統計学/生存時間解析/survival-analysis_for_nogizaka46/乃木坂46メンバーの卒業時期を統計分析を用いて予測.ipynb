{
 "cells": [
  {
   "cell_type": "code",
   "execution_count": 345,
   "metadata": {},
   "outputs": [],
   "source": [
    "import numpy as np\n",
    "import pandas as pd\n",
    "\n",
    "import matplotlib as mpl\n",
    "import matplotlib.pyplot as plt\n",
    "import seaborn as sns\n",
    "\n",
    "# 日本語フォントを設定\n",
    "font = {'family': 'IPAexGothic'}\n",
    "mpl.rc('font', **font)\n",
    "\n",
    "%matplotlib inline"
   ]
  },
  {
   "cell_type": "markdown",
   "metadata": {},
   "source": [
    "# 参考文献\n",
    "\n",
    "WEB(最終閲覧日 2019年2月4日)\n",
    "\n",
    " - [乃木坂46公式サイト](http://www.nogizaka46.com/member) http://www.nogizaka46.com/member/ （2019年2月4日）\n",
    " - [乃木坂46メンバー一覧 - エケペディア](https://48pedia.org/%E4%B9%83%E6%9C%A8%E5%9D%8246%E3%83%A1%E3%83%B3%E3%83%90%E3%83%BC%E4%B8%80%E8%A6%A7) https://48pedia.org/%E4%B9%83%E6%9C%A8%E5%9D%8246%E3%83%A1%E3%83%B3%E3%83%90%E3%83%BC%E4%B8%80%E8%A6%A7 (2019年2月4日)"
   ]
  },
  {
   "cell_type": "markdown",
   "metadata": {},
   "source": [
    "# 乃木坂46メンバーの在籍期間データ\n",
    "\n",
    "取得元サイト\n",
    "https://48pedia.org/%E4%B9%83%E6%9C%A8%E5%9D%8246%E3%83%A1%E3%83%B3%E3%83%90%E3%83%BC%E4%B8%80%E8%A6%A7"
   ]
  },
  {
   "cell_type": "code",
   "execution_count": 316,
   "metadata": {},
   "outputs": [],
   "source": [
    "DATASET_PATH = './dataset/{file_name}.csv'\n",
    "\n",
    "\n",
    "# 在籍メンバーのデータを読み込む\n",
    "active_member_df = pd.read_csv(\n",
    "    DATASET_PATH.format(file_name='乃木坂46在籍メンバー'), \n",
    "    names=['名前', '生年月日', '出身地', '期', '備考']\n",
    ")\n",
    "\n",
    "# 卒業メンバーのデータを読み込む\n",
    "graduated_member_df   = pd.read_csv(\n",
    "    DATASET_PATH.format(file_name='乃木坂46卒業メンバー'), \n",
    "    names=['名前', '生年月日', '出身地', '期', '最終在籍日', '備考']\n",
    ")"
   ]
  },
  {
   "cell_type": "code",
   "execution_count": 317,
   "metadata": {},
   "outputs": [
    {
     "data": {
      "text/html": [
       "<div>\n",
       "<table border=\"1\" class=\"dataframe\">\n",
       "  <thead>\n",
       "    <tr style=\"text-align: right;\">\n",
       "      <th></th>\n",
       "      <th>名前</th>\n",
       "      <th>生年月日</th>\n",
       "      <th>出身地</th>\n",
       "      <th>期</th>\n",
       "      <th>備考</th>\n",
       "    </tr>\n",
       "  </thead>\n",
       "  <tbody>\n",
       "    <tr>\n",
       "      <th>0</th>\n",
       "      <td>秋元真夏（あきもと まなつ）</td>\n",
       "      <td>1993年8月20日 （25歳）</td>\n",
       "      <td>埼玉県</td>\n",
       "      <td>1期</td>\n",
       "      <td>NaN</td>\n",
       "    </tr>\n",
       "    <tr>\n",
       "      <th>1</th>\n",
       "      <td>生田絵梨花（いくた えりか）</td>\n",
       "      <td>1997年1月22日 （22歳）</td>\n",
       "      <td>東京都</td>\n",
       "      <td>1期</td>\n",
       "      <td>NaN</td>\n",
       "    </tr>\n",
       "    <tr>\n",
       "      <th>2</th>\n",
       "      <td>伊藤かりん（いとう かりん）</td>\n",
       "      <td>1993年5月26日 （25歳）</td>\n",
       "      <td>神奈川県</td>\n",
       "      <td>2期</td>\n",
       "      <td>NaN</td>\n",
       "    </tr>\n",
       "    <tr>\n",
       "      <th>3</th>\n",
       "      <td>伊藤純奈（いとう じゅんな）</td>\n",
       "      <td>1998年11月30日 （20歳）</td>\n",
       "      <td>神奈川県</td>\n",
       "      <td>2期</td>\n",
       "      <td>NaN</td>\n",
       "    </tr>\n",
       "    <tr>\n",
       "      <th>4</th>\n",
       "      <td>伊藤理々杏（いとう りりあ）</td>\n",
       "      <td>2002年10月8日 （16歳）</td>\n",
       "      <td>沖縄県</td>\n",
       "      <td>3期</td>\n",
       "      <td>NaN</td>\n",
       "    </tr>\n",
       "  </tbody>\n",
       "</table>\n",
       "</div>"
      ],
      "text/plain": [
       "               名前               生年月日   出身地   期   備考\n",
       "0  秋元真夏（あきもと まなつ）   1993年8月20日 （25歳）   埼玉県  1期  NaN\n",
       "1  生田絵梨花（いくた えりか）   1997年1月22日 （22歳）   東京都  1期  NaN\n",
       "2  伊藤かりん（いとう かりん）   1993年5月26日 （25歳）  神奈川県  2期  NaN\n",
       "3  伊藤純奈（いとう じゅんな）  1998年11月30日 （20歳）  神奈川県  2期  NaN\n",
       "4  伊藤理々杏（いとう りりあ）   2002年10月8日 （16歳）   沖縄県  3期  NaN"
      ]
     },
     "execution_count": 317,
     "metadata": {},
     "output_type": "execute_result"
    }
   ],
   "source": [
    "active_member_df.head()"
   ]
  },
  {
   "cell_type": "code",
   "execution_count": 318,
   "metadata": {},
   "outputs": [
    {
     "data": {
      "text/html": [
       "<div>\n",
       "<table border=\"1\" class=\"dataframe\">\n",
       "  <thead>\n",
       "    <tr style=\"text-align: right;\">\n",
       "      <th></th>\n",
       "      <th>名前</th>\n",
       "      <th>生年月日</th>\n",
       "      <th>出身地</th>\n",
       "      <th>期</th>\n",
       "      <th>最終在籍日</th>\n",
       "      <th>備考</th>\n",
       "    </tr>\n",
       "  </thead>\n",
       "  <tbody>\n",
       "    <tr>\n",
       "      <th>0</th>\n",
       "      <td>山本穂乃香（やまもと ほのか）</td>\n",
       "      <td>1998年3月31日 （20歳）</td>\n",
       "      <td>愛知県</td>\n",
       "      <td>1期</td>\n",
       "      <td>2011年9月22日\\n（活動辞退）</td>\n",
       "      <td>現芸名・本名：山本穂乃果\\n元オフィスニグンニイバ所属\\n元レプロアスター所属</td>\n",
       "    </tr>\n",
       "    <tr>\n",
       "      <th>1</th>\n",
       "      <td>吉本彩華（よしもと あやか）</td>\n",
       "      <td>1996年8月18日 （22歳）</td>\n",
       "      <td>熊本県</td>\n",
       "      <td>1期</td>\n",
       "      <td>2011年9月22日\\n（活動辞退）</td>\n",
       "      <td>NaN</td>\n",
       "    </tr>\n",
       "    <tr>\n",
       "      <th>2</th>\n",
       "      <td>岩瀬佑美子（いわせ ゆみこ）</td>\n",
       "      <td>1990年6月12日 （28歳）</td>\n",
       "      <td>埼玉県</td>\n",
       "      <td>1期</td>\n",
       "      <td>2012年11月18日</td>\n",
       "      <td>NaN</td>\n",
       "    </tr>\n",
       "    <tr>\n",
       "      <th>3</th>\n",
       "      <td>安藤美雲（あんどう みくも）</td>\n",
       "      <td>1993年5月21日 （25歳）</td>\n",
       "      <td>神奈川県</td>\n",
       "      <td>1期</td>\n",
       "      <td>2013年6月16日</td>\n",
       "      <td>NaN</td>\n",
       "    </tr>\n",
       "    <tr>\n",
       "      <th>4</th>\n",
       "      <td>柏幸奈（かしわ ゆきな）</td>\n",
       "      <td>1994年8月12日 （24歳）</td>\n",
       "      <td>神奈川県</td>\n",
       "      <td>1期</td>\n",
       "      <td>2013年11月17日</td>\n",
       "      <td>元スターダストプロモーション所属\\nイー・コンセプト所属</td>\n",
       "    </tr>\n",
       "  </tbody>\n",
       "</table>\n",
       "</div>"
      ],
      "text/plain": [
       "                名前              生年月日   出身地   期               最終在籍日  \\\n",
       "0  山本穂乃香（やまもと ほのか）  1998年3月31日 （20歳）   愛知県  1期  2011年9月22日\\n（活動辞退）   \n",
       "1   吉本彩華（よしもと あやか）  1996年8月18日 （22歳）   熊本県  1期  2011年9月22日\\n（活動辞退）   \n",
       "2   岩瀬佑美子（いわせ ゆみこ）  1990年6月12日 （28歳）   埼玉県  1期         2012年11月18日   \n",
       "3   安藤美雲（あんどう みくも）  1993年5月21日 （25歳）  神奈川県  1期          2013年6月16日   \n",
       "4     柏幸奈（かしわ ゆきな）  1994年8月12日 （24歳）  神奈川県  1期         2013年11月17日   \n",
       "\n",
       "                                        備考  \n",
       "0  現芸名・本名：山本穂乃果\\n元オフィスニグンニイバ所属\\n元レプロアスター所属  \n",
       "1                                      NaN  \n",
       "2                                      NaN  \n",
       "3                                      NaN  \n",
       "4             元スターダストプロモーション所属\\nイー・コンセプト所属  "
      ]
     },
     "execution_count": 318,
     "metadata": {},
     "output_type": "execute_result"
    }
   ],
   "source": [
    "graduated_member_df.head()"
   ]
  },
  {
   "cell_type": "code",
   "execution_count": 319,
   "metadata": {},
   "outputs": [
    {
     "name": "stdout",
     "output_type": "stream",
     "text": [
      "在籍メンバー数 =  47\n",
      "卒業メンバー数 =  27\n"
     ]
    }
   ],
   "source": [
    "print('在籍メンバー数 = ', active_member_df.shape[0])\n",
    "print('卒業メンバー数 = ', graduated_member_df.shape[0])"
   ]
  },
  {
   "cell_type": "markdown",
   "metadata": {},
   "source": [
    "## データを統合する"
   ]
  },
  {
   "cell_type": "code",
   "execution_count": 320,
   "metadata": {},
   "outputs": [],
   "source": [
    "active_member_df['卒業'] = False\n",
    "graduated_member_df['卒業'] = True"
   ]
  },
  {
   "cell_type": "code",
   "execution_count": 321,
   "metadata": {},
   "outputs": [
    {
     "data": {
      "text/html": [
       "<div>\n",
       "<table border=\"1\" class=\"dataframe\">\n",
       "  <thead>\n",
       "    <tr style=\"text-align: right;\">\n",
       "      <th></th>\n",
       "      <th>名前</th>\n",
       "      <th>生年月日</th>\n",
       "      <th>出身地</th>\n",
       "      <th>期</th>\n",
       "      <th>最終在籍日</th>\n",
       "      <th>備考</th>\n",
       "      <th>卒業</th>\n",
       "    </tr>\n",
       "  </thead>\n",
       "  <tbody>\n",
       "    <tr>\n",
       "      <th>0</th>\n",
       "      <td>秋元真夏（あきもと まなつ）</td>\n",
       "      <td>1993年8月20日 （25歳）</td>\n",
       "      <td>埼玉県</td>\n",
       "      <td>1期</td>\n",
       "      <td>NaN</td>\n",
       "      <td>NaN</td>\n",
       "      <td>False</td>\n",
       "    </tr>\n",
       "    <tr>\n",
       "      <th>1</th>\n",
       "      <td>生田絵梨花（いくた えりか）</td>\n",
       "      <td>1997年1月22日 （22歳）</td>\n",
       "      <td>東京都</td>\n",
       "      <td>1期</td>\n",
       "      <td>NaN</td>\n",
       "      <td>NaN</td>\n",
       "      <td>False</td>\n",
       "    </tr>\n",
       "    <tr>\n",
       "      <th>2</th>\n",
       "      <td>伊藤かりん（いとう かりん）</td>\n",
       "      <td>1993年5月26日 （25歳）</td>\n",
       "      <td>神奈川県</td>\n",
       "      <td>2期</td>\n",
       "      <td>NaN</td>\n",
       "      <td>NaN</td>\n",
       "      <td>False</td>\n",
       "    </tr>\n",
       "    <tr>\n",
       "      <th>3</th>\n",
       "      <td>伊藤純奈（いとう じゅんな）</td>\n",
       "      <td>1998年11月30日 （20歳）</td>\n",
       "      <td>神奈川県</td>\n",
       "      <td>2期</td>\n",
       "      <td>NaN</td>\n",
       "      <td>NaN</td>\n",
       "      <td>False</td>\n",
       "    </tr>\n",
       "    <tr>\n",
       "      <th>4</th>\n",
       "      <td>伊藤理々杏（いとう りりあ）</td>\n",
       "      <td>2002年10月8日 （16歳）</td>\n",
       "      <td>沖縄県</td>\n",
       "      <td>3期</td>\n",
       "      <td>NaN</td>\n",
       "      <td>NaN</td>\n",
       "      <td>False</td>\n",
       "    </tr>\n",
       "  </tbody>\n",
       "</table>\n",
       "</div>"
      ],
      "text/plain": [
       "               名前               生年月日   出身地   期 最終在籍日   備考     卒業\n",
       "0  秋元真夏（あきもと まなつ）   1993年8月20日 （25歳）   埼玉県  1期   NaN  NaN  False\n",
       "1  生田絵梨花（いくた えりか）   1997年1月22日 （22歳）   東京都  1期   NaN  NaN  False\n",
       "2  伊藤かりん（いとう かりん）   1993年5月26日 （25歳）  神奈川県  2期   NaN  NaN  False\n",
       "3  伊藤純奈（いとう じゅんな）  1998年11月30日 （20歳）  神奈川県  2期   NaN  NaN  False\n",
       "4  伊藤理々杏（いとう りりあ）   2002年10月8日 （16歳）   沖縄県  3期   NaN  NaN  False"
      ]
     },
     "execution_count": 321,
     "metadata": {},
     "output_type": "execute_result"
    }
   ],
   "source": [
    "columns = ['名前', '生年月日', '出身地', '期', '最終在籍日', '備考', '卒業']\n",
    "# 在籍メンバーと卒業メンバーを統合.\n",
    "nogizaka46_member_df = pd.concat([active_member_df, graduated_member_df], ignore_index=True)[columns]\n",
    "nogizaka46_member_df.head()"
   ]
  },
  {
   "cell_type": "code",
   "execution_count": 322,
   "metadata": {},
   "outputs": [
    {
     "name": "stdout",
     "output_type": "stream",
     "text": [
      "在籍メンバー数 + 卒業メンバー数 =  74\n",
      "在籍メンバー数 =  47\n",
      "卒業メンバー数 =  27\n"
     ]
    }
   ],
   "source": [
    "print('在籍メンバー数 + 卒業メンバー数 = ', nogizaka46_member_df.shape[0])\n",
    "print('在籍メンバー数 = ', (nogizaka46_member_df['卒業'] == False).sum())\n",
    "print('卒業メンバー数 = ', (nogizaka46_member_df['卒業'] == True).sum())"
   ]
  },
  {
   "cell_type": "markdown",
   "metadata": {},
   "source": [
    "## 在籍期間を追加\n",
    "参考サイト\n",
    "https://ja.wikipedia.org/wiki/%E4%B9%83%E6%9C%A8%E5%9D%8246#%E3%82%AA%E3%83%BC%E3%83%87%E3%82%A3%E3%82%B7%E3%83%A7%E3%83%B3"
   ]
  },
  {
   "cell_type": "code",
   "execution_count": 323,
   "metadata": {},
   "outputs": [
    {
     "data": {
      "text/html": [
       "<div>\n",
       "<table border=\"1\" class=\"dataframe\">\n",
       "  <thead>\n",
       "    <tr style=\"text-align: right;\">\n",
       "      <th></th>\n",
       "      <th>加入日</th>\n",
       "      <th>期</th>\n",
       "    </tr>\n",
       "  </thead>\n",
       "  <tbody>\n",
       "    <tr>\n",
       "      <th>0</th>\n",
       "      <td>2011-08-21</td>\n",
       "      <td>1期</td>\n",
       "    </tr>\n",
       "    <tr>\n",
       "      <th>1</th>\n",
       "      <td>2013-05-12</td>\n",
       "      <td>2期</td>\n",
       "    </tr>\n",
       "    <tr>\n",
       "      <th>2</th>\n",
       "      <td>2016-09-04</td>\n",
       "      <td>3期</td>\n",
       "    </tr>\n",
       "    <tr>\n",
       "      <th>3</th>\n",
       "      <td>2018-11-29</td>\n",
       "      <td>4期</td>\n",
       "    </tr>\n",
       "  </tbody>\n",
       "</table>\n",
       "</div>"
      ],
      "text/plain": [
       "          加入日   期\n",
       "0  2011-08-21  1期\n",
       "1  2013-05-12  2期\n",
       "2  2016-09-04  3期\n",
       "3  2018-11-29  4期"
      ]
     },
     "execution_count": 323,
     "metadata": {},
     "output_type": "execute_result"
    }
   ],
   "source": [
    "from datetime import date \n",
    "\n",
    "\n",
    "class_date_df = pd.DataFrame({\n",
    "    '期' : ['1期', '2期', '3期', '4期'],\n",
    "    '加入日': ['2011-08-21', '2013-05-12', '2016-09-04', '2018-11-29'] \n",
    "})\n",
    "class_date_df.head()"
   ]
  },
  {
   "cell_type": "code",
   "execution_count": 324,
   "metadata": {},
   "outputs": [
    {
     "data": {
      "text/html": [
       "<div>\n",
       "<table border=\"1\" class=\"dataframe\">\n",
       "  <thead>\n",
       "    <tr style=\"text-align: right;\">\n",
       "      <th></th>\n",
       "      <th>名前</th>\n",
       "      <th>生年月日</th>\n",
       "      <th>出身地</th>\n",
       "      <th>期</th>\n",
       "      <th>最終在籍日</th>\n",
       "      <th>備考</th>\n",
       "      <th>卒業</th>\n",
       "      <th>加入日</th>\n",
       "    </tr>\n",
       "  </thead>\n",
       "  <tbody>\n",
       "    <tr>\n",
       "      <th>0</th>\n",
       "      <td>秋元真夏（あきもと まなつ）</td>\n",
       "      <td>1993年8月20日 （25歳）</td>\n",
       "      <td>埼玉県</td>\n",
       "      <td>1期</td>\n",
       "      <td>NaN</td>\n",
       "      <td>NaN</td>\n",
       "      <td>False</td>\n",
       "      <td>2011-08-21</td>\n",
       "    </tr>\n",
       "    <tr>\n",
       "      <th>1</th>\n",
       "      <td>生田絵梨花（いくた えりか）</td>\n",
       "      <td>1997年1月22日 （22歳）</td>\n",
       "      <td>東京都</td>\n",
       "      <td>1期</td>\n",
       "      <td>NaN</td>\n",
       "      <td>NaN</td>\n",
       "      <td>False</td>\n",
       "      <td>2011-08-21</td>\n",
       "    </tr>\n",
       "    <tr>\n",
       "      <th>2</th>\n",
       "      <td>井上小百合（いのうえ さゆり）</td>\n",
       "      <td>1994年12月14日 （24歳）</td>\n",
       "      <td>埼玉県</td>\n",
       "      <td>1期</td>\n",
       "      <td>NaN</td>\n",
       "      <td>NaN</td>\n",
       "      <td>False</td>\n",
       "      <td>2011-08-21</td>\n",
       "    </tr>\n",
       "    <tr>\n",
       "      <th>3</th>\n",
       "      <td>衛藤美彩（えとう みさ）</td>\n",
       "      <td>1993年1月4日 （26歳）</td>\n",
       "      <td>大分県</td>\n",
       "      <td>1期</td>\n",
       "      <td>NaN</td>\n",
       "      <td>NaN</td>\n",
       "      <td>False</td>\n",
       "      <td>2011-08-21</td>\n",
       "    </tr>\n",
       "    <tr>\n",
       "      <th>4</th>\n",
       "      <td>齋藤飛鳥（さいとう あすか）</td>\n",
       "      <td>1998年8月10日 （20歳）</td>\n",
       "      <td>東京都</td>\n",
       "      <td>1期</td>\n",
       "      <td>NaN</td>\n",
       "      <td>NaN</td>\n",
       "      <td>False</td>\n",
       "      <td>2011-08-21</td>\n",
       "    </tr>\n",
       "  </tbody>\n",
       "</table>\n",
       "</div>"
      ],
      "text/plain": [
       "                名前               生年月日  出身地   期 最終在籍日   備考     卒業         加入日\n",
       "0   秋元真夏（あきもと まなつ）   1993年8月20日 （25歳）  埼玉県  1期   NaN  NaN  False  2011-08-21\n",
       "1   生田絵梨花（いくた えりか）   1997年1月22日 （22歳）  東京都  1期   NaN  NaN  False  2011-08-21\n",
       "2  井上小百合（いのうえ さゆり）  1994年12月14日 （24歳）  埼玉県  1期   NaN  NaN  False  2011-08-21\n",
       "3     衛藤美彩（えとう みさ）    1993年1月4日 （26歳）  大分県  1期   NaN  NaN  False  2011-08-21\n",
       "4   齋藤飛鳥（さいとう あすか）   1998年8月10日 （20歳）  東京都  1期   NaN  NaN  False  2011-08-21"
      ]
     },
     "execution_count": 324,
     "metadata": {},
     "output_type": "execute_result"
    }
   ],
   "source": [
    "nogizaka46_member_df = nogizaka46_member_df.merge(class_date_df)\n",
    "nogizaka46_member_df.head()"
   ]
  },
  {
   "cell_type": "code",
   "execution_count": 326,
   "metadata": {},
   "outputs": [],
   "source": [
    "nogizaka46_member_df['加入日'] = pd.to_datetime(nogizaka46_member_df['加入日'])\n",
    "\n",
    "is_active = (nogizaka46_member_df['卒業'] == False)\n",
    "is_graduate = (nogizaka46_member_df['卒業'] == True)"
   ]
  },
  {
   "cell_type": "markdown",
   "metadata": {},
   "source": [
    "### 卒業生の在籍期間を計算"
   ]
  },
  {
   "cell_type": "code",
   "execution_count": 331,
   "metadata": {},
   "outputs": [
    {
     "data": {
      "text/html": [
       "<div>\n",
       "<table border=\"1\" class=\"dataframe\">\n",
       "  <thead>\n",
       "    <tr style=\"text-align: right;\">\n",
       "      <th></th>\n",
       "      <th>名前</th>\n",
       "      <th>生年月日</th>\n",
       "      <th>出身地</th>\n",
       "      <th>期</th>\n",
       "      <th>最終在籍日</th>\n",
       "      <th>備考</th>\n",
       "      <th>卒業</th>\n",
       "      <th>加入日</th>\n",
       "    </tr>\n",
       "  </thead>\n",
       "  <tbody>\n",
       "    <tr>\n",
       "      <th>14</th>\n",
       "      <td>山本穂乃香（やまもと ほのか）</td>\n",
       "      <td>1998年3月31日 （20歳）</td>\n",
       "      <td>愛知県</td>\n",
       "      <td>1期</td>\n",
       "      <td>2011年9月22日\\n（活動辞退）</td>\n",
       "      <td>現芸名・本名：山本穂乃果\\n元オフィスニグンニイバ所属\\n元レプロアスター所属</td>\n",
       "      <td>True</td>\n",
       "      <td>2011-08-21</td>\n",
       "    </tr>\n",
       "    <tr>\n",
       "      <th>15</th>\n",
       "      <td>吉本彩華（よしもと あやか）</td>\n",
       "      <td>1996年8月18日 （22歳）</td>\n",
       "      <td>熊本県</td>\n",
       "      <td>1期</td>\n",
       "      <td>2011年9月22日\\n（活動辞退）</td>\n",
       "      <td>NaN</td>\n",
       "      <td>True</td>\n",
       "      <td>2011-08-21</td>\n",
       "    </tr>\n",
       "    <tr>\n",
       "      <th>16</th>\n",
       "      <td>岩瀬佑美子（いわせ ゆみこ）</td>\n",
       "      <td>1990年6月12日 （28歳）</td>\n",
       "      <td>埼玉県</td>\n",
       "      <td>1期</td>\n",
       "      <td>2012年11月18日</td>\n",
       "      <td>NaN</td>\n",
       "      <td>True</td>\n",
       "      <td>2011-08-21</td>\n",
       "    </tr>\n",
       "    <tr>\n",
       "      <th>17</th>\n",
       "      <td>安藤美雲（あんどう みくも）</td>\n",
       "      <td>1993年5月21日 （25歳）</td>\n",
       "      <td>神奈川県</td>\n",
       "      <td>1期</td>\n",
       "      <td>2013年6月16日</td>\n",
       "      <td>NaN</td>\n",
       "      <td>True</td>\n",
       "      <td>2011-08-21</td>\n",
       "    </tr>\n",
       "    <tr>\n",
       "      <th>18</th>\n",
       "      <td>柏幸奈（かしわ ゆきな）</td>\n",
       "      <td>1994年8月12日 （24歳）</td>\n",
       "      <td>神奈川県</td>\n",
       "      <td>1期</td>\n",
       "      <td>2013年11月17日</td>\n",
       "      <td>元スターダストプロモーション所属\\nイー・コンセプト所属</td>\n",
       "      <td>True</td>\n",
       "      <td>2011-08-21</td>\n",
       "    </tr>\n",
       "  </tbody>\n",
       "</table>\n",
       "</div>"
      ],
      "text/plain": [
       "                 名前              生年月日   出身地   期               最終在籍日  \\\n",
       "14  山本穂乃香（やまもと ほのか）  1998年3月31日 （20歳）   愛知県  1期  2011年9月22日\\n（活動辞退）   \n",
       "15   吉本彩華（よしもと あやか）  1996年8月18日 （22歳）   熊本県  1期  2011年9月22日\\n（活動辞退）   \n",
       "16   岩瀬佑美子（いわせ ゆみこ）  1990年6月12日 （28歳）   埼玉県  1期         2012年11月18日   \n",
       "17   安藤美雲（あんどう みくも）  1993年5月21日 （25歳）  神奈川県  1期          2013年6月16日   \n",
       "18     柏幸奈（かしわ ゆきな）  1994年8月12日 （24歳）  神奈川県  1期         2013年11月17日   \n",
       "\n",
       "                                         備考    卒業        加入日  \n",
       "14  現芸名・本名：山本穂乃果\\n元オフィスニグンニイバ所属\\n元レプロアスター所属  True 2011-08-21  \n",
       "15                                      NaN  True 2011-08-21  \n",
       "16                                      NaN  True 2011-08-21  \n",
       "17                                      NaN  True 2011-08-21  \n",
       "18             元スターダストプロモーション所属\\nイー・コンセプト所属  True 2011-08-21  "
      ]
     },
     "execution_count": 331,
     "metadata": {},
     "output_type": "execute_result"
    }
   ],
   "source": [
    "nogizaka46_member_df[is_graduate].head()"
   ]
  },
  {
   "cell_type": "code",
   "execution_count": 332,
   "metadata": {
    "scrolled": true
   },
   "outputs": [
    {
     "name": "stderr",
     "output_type": "stream",
     "text": [
      "/Users/taiyou/.pyenv/versions/anaconda3-5.0.1/lib/python3.6/site-packages/ipykernel_launcher.py:1: FutureWarning: currently extract(expand=None) means expand=False (return Index/Series/DataFrame) but in a future version of pandas this will be changed to expand=True (return DataFrame)\n",
      "  \"\"\"Entry point for launching an IPython kernel.\n"
     ]
    }
   ],
   "source": [
    "nogizaka46_member_df.loc[is_graduate, '最終在籍日'] = nogizaka46_member_df[is_graduate]['最終在籍日'].str.extract(r'^([0-9]+年[0-9]+月[0-9]+日).*')"
   ]
  },
  {
   "cell_type": "code",
   "execution_count": 333,
   "metadata": {},
   "outputs": [
    {
     "data": {
      "text/html": [
       "<div>\n",
       "<table border=\"1\" class=\"dataframe\">\n",
       "  <thead>\n",
       "    <tr style=\"text-align: right;\">\n",
       "      <th></th>\n",
       "      <th>名前</th>\n",
       "      <th>生年月日</th>\n",
       "      <th>出身地</th>\n",
       "      <th>期</th>\n",
       "      <th>最終在籍日</th>\n",
       "      <th>備考</th>\n",
       "      <th>卒業</th>\n",
       "      <th>加入日</th>\n",
       "    </tr>\n",
       "  </thead>\n",
       "  <tbody>\n",
       "    <tr>\n",
       "      <th>14</th>\n",
       "      <td>山本穂乃香（やまもと ほのか）</td>\n",
       "      <td>1998年3月31日 （20歳）</td>\n",
       "      <td>愛知県</td>\n",
       "      <td>1期</td>\n",
       "      <td>2011年9月22日</td>\n",
       "      <td>現芸名・本名：山本穂乃果\\n元オフィスニグンニイバ所属\\n元レプロアスター所属</td>\n",
       "      <td>True</td>\n",
       "      <td>2011-08-21</td>\n",
       "    </tr>\n",
       "    <tr>\n",
       "      <th>15</th>\n",
       "      <td>吉本彩華（よしもと あやか）</td>\n",
       "      <td>1996年8月18日 （22歳）</td>\n",
       "      <td>熊本県</td>\n",
       "      <td>1期</td>\n",
       "      <td>2011年9月22日</td>\n",
       "      <td>NaN</td>\n",
       "      <td>True</td>\n",
       "      <td>2011-08-21</td>\n",
       "    </tr>\n",
       "    <tr>\n",
       "      <th>16</th>\n",
       "      <td>岩瀬佑美子（いわせ ゆみこ）</td>\n",
       "      <td>1990年6月12日 （28歳）</td>\n",
       "      <td>埼玉県</td>\n",
       "      <td>1期</td>\n",
       "      <td>2012年11月18日</td>\n",
       "      <td>NaN</td>\n",
       "      <td>True</td>\n",
       "      <td>2011-08-21</td>\n",
       "    </tr>\n",
       "    <tr>\n",
       "      <th>17</th>\n",
       "      <td>安藤美雲（あんどう みくも）</td>\n",
       "      <td>1993年5月21日 （25歳）</td>\n",
       "      <td>神奈川県</td>\n",
       "      <td>1期</td>\n",
       "      <td>2013年6月16日</td>\n",
       "      <td>NaN</td>\n",
       "      <td>True</td>\n",
       "      <td>2011-08-21</td>\n",
       "    </tr>\n",
       "    <tr>\n",
       "      <th>18</th>\n",
       "      <td>柏幸奈（かしわ ゆきな）</td>\n",
       "      <td>1994年8月12日 （24歳）</td>\n",
       "      <td>神奈川県</td>\n",
       "      <td>1期</td>\n",
       "      <td>2013年11月17日</td>\n",
       "      <td>元スターダストプロモーション所属\\nイー・コンセプト所属</td>\n",
       "      <td>True</td>\n",
       "      <td>2011-08-21</td>\n",
       "    </tr>\n",
       "  </tbody>\n",
       "</table>\n",
       "</div>"
      ],
      "text/plain": [
       "                 名前              生年月日   出身地   期        最終在籍日  \\\n",
       "14  山本穂乃香（やまもと ほのか）  1998年3月31日 （20歳）   愛知県  1期   2011年9月22日   \n",
       "15   吉本彩華（よしもと あやか）  1996年8月18日 （22歳）   熊本県  1期   2011年9月22日   \n",
       "16   岩瀬佑美子（いわせ ゆみこ）  1990年6月12日 （28歳）   埼玉県  1期  2012年11月18日   \n",
       "17   安藤美雲（あんどう みくも）  1993年5月21日 （25歳）  神奈川県  1期   2013年6月16日   \n",
       "18     柏幸奈（かしわ ゆきな）  1994年8月12日 （24歳）  神奈川県  1期  2013年11月17日   \n",
       "\n",
       "                                         備考    卒業        加入日  \n",
       "14  現芸名・本名：山本穂乃果\\n元オフィスニグンニイバ所属\\n元レプロアスター所属  True 2011-08-21  \n",
       "15                                      NaN  True 2011-08-21  \n",
       "16                                      NaN  True 2011-08-21  \n",
       "17                                      NaN  True 2011-08-21  \n",
       "18             元スターダストプロモーション所属\\nイー・コンセプト所属  True 2011-08-21  "
      ]
     },
     "execution_count": 333,
     "metadata": {},
     "output_type": "execute_result"
    }
   ],
   "source": [
    "nogizaka46_member_df[is_graduate].head()"
   ]
  },
  {
   "cell_type": "code",
   "execution_count": 334,
   "metadata": {
    "scrolled": true
   },
   "outputs": [],
   "source": [
    "graduate_day = pd.to_datetime(nogizaka46_member_df[is_graduate]['最終在籍日'], format='%Y年%m月%d日')\n",
    "survival_days = graduate_day.subtract(nogizaka46_member_df[is_graduate]['加入日']).dt.days"
   ]
  },
  {
   "cell_type": "code",
   "execution_count": 335,
   "metadata": {},
   "outputs": [
    {
     "data": {
      "text/plain": [
       "14     32\n",
       "15     32\n",
       "16    455\n",
       "17    665\n",
       "18    819\n",
       "dtype: int64"
      ]
     },
     "execution_count": 335,
     "metadata": {},
     "output_type": "execute_result"
    }
   ],
   "source": [
    "# 卒業生の在籍期間\n",
    "survival_days.head()"
   ]
  },
  {
   "cell_type": "code",
   "execution_count": 336,
   "metadata": {},
   "outputs": [
    {
     "data": {
      "text/html": [
       "<div>\n",
       "<table border=\"1\" class=\"dataframe\">\n",
       "  <thead>\n",
       "    <tr style=\"text-align: right;\">\n",
       "      <th></th>\n",
       "      <th>名前</th>\n",
       "      <th>生年月日</th>\n",
       "      <th>出身地</th>\n",
       "      <th>期</th>\n",
       "      <th>最終在籍日</th>\n",
       "      <th>備考</th>\n",
       "      <th>卒業</th>\n",
       "      <th>加入日</th>\n",
       "      <th>在籍時間</th>\n",
       "    </tr>\n",
       "  </thead>\n",
       "  <tbody>\n",
       "    <tr>\n",
       "      <th>14</th>\n",
       "      <td>山本穂乃香（やまもと ほのか）</td>\n",
       "      <td>1998年3月31日 （20歳）</td>\n",
       "      <td>愛知県</td>\n",
       "      <td>1期</td>\n",
       "      <td>2011年9月22日</td>\n",
       "      <td>現芸名・本名：山本穂乃果\\n元オフィスニグンニイバ所属\\n元レプロアスター所属</td>\n",
       "      <td>True</td>\n",
       "      <td>2011-08-21</td>\n",
       "      <td>32.0</td>\n",
       "    </tr>\n",
       "    <tr>\n",
       "      <th>15</th>\n",
       "      <td>吉本彩華（よしもと あやか）</td>\n",
       "      <td>1996年8月18日 （22歳）</td>\n",
       "      <td>熊本県</td>\n",
       "      <td>1期</td>\n",
       "      <td>2011年9月22日</td>\n",
       "      <td>NaN</td>\n",
       "      <td>True</td>\n",
       "      <td>2011-08-21</td>\n",
       "      <td>32.0</td>\n",
       "    </tr>\n",
       "    <tr>\n",
       "      <th>16</th>\n",
       "      <td>岩瀬佑美子（いわせ ゆみこ）</td>\n",
       "      <td>1990年6月12日 （28歳）</td>\n",
       "      <td>埼玉県</td>\n",
       "      <td>1期</td>\n",
       "      <td>2012年11月18日</td>\n",
       "      <td>NaN</td>\n",
       "      <td>True</td>\n",
       "      <td>2011-08-21</td>\n",
       "      <td>455.0</td>\n",
       "    </tr>\n",
       "    <tr>\n",
       "      <th>17</th>\n",
       "      <td>安藤美雲（あんどう みくも）</td>\n",
       "      <td>1993年5月21日 （25歳）</td>\n",
       "      <td>神奈川県</td>\n",
       "      <td>1期</td>\n",
       "      <td>2013年6月16日</td>\n",
       "      <td>NaN</td>\n",
       "      <td>True</td>\n",
       "      <td>2011-08-21</td>\n",
       "      <td>665.0</td>\n",
       "    </tr>\n",
       "    <tr>\n",
       "      <th>18</th>\n",
       "      <td>柏幸奈（かしわ ゆきな）</td>\n",
       "      <td>1994年8月12日 （24歳）</td>\n",
       "      <td>神奈川県</td>\n",
       "      <td>1期</td>\n",
       "      <td>2013年11月17日</td>\n",
       "      <td>元スターダストプロモーション所属\\nイー・コンセプト所属</td>\n",
       "      <td>True</td>\n",
       "      <td>2011-08-21</td>\n",
       "      <td>819.0</td>\n",
       "    </tr>\n",
       "  </tbody>\n",
       "</table>\n",
       "</div>"
      ],
      "text/plain": [
       "                 名前              生年月日   出身地   期        最終在籍日  \\\n",
       "14  山本穂乃香（やまもと ほのか）  1998年3月31日 （20歳）   愛知県  1期   2011年9月22日   \n",
       "15   吉本彩華（よしもと あやか）  1996年8月18日 （22歳）   熊本県  1期   2011年9月22日   \n",
       "16   岩瀬佑美子（いわせ ゆみこ）  1990年6月12日 （28歳）   埼玉県  1期  2012年11月18日   \n",
       "17   安藤美雲（あんどう みくも）  1993年5月21日 （25歳）  神奈川県  1期   2013年6月16日   \n",
       "18     柏幸奈（かしわ ゆきな）  1994年8月12日 （24歳）  神奈川県  1期  2013年11月17日   \n",
       "\n",
       "                                         備考    卒業        加入日   在籍時間  \n",
       "14  現芸名・本名：山本穂乃果\\n元オフィスニグンニイバ所属\\n元レプロアスター所属  True 2011-08-21   32.0  \n",
       "15                                      NaN  True 2011-08-21   32.0  \n",
       "16                                      NaN  True 2011-08-21  455.0  \n",
       "17                                      NaN  True 2011-08-21  665.0  \n",
       "18             元スターダストプロモーション所属\\nイー・コンセプト所属  True 2011-08-21  819.0  "
      ]
     },
     "execution_count": 336,
     "metadata": {},
     "output_type": "execute_result"
    }
   ],
   "source": [
    "nogizaka46_member_df.loc[is_graduate, '在籍時間'] = survival_days\n",
    "nogizaka46_member_df[is_graduate].head()"
   ]
  },
  {
   "cell_type": "markdown",
   "metadata": {},
   "source": [
    "### 在籍生の在籍期間を計算"
   ]
  },
  {
   "cell_type": "code",
   "execution_count": 337,
   "metadata": {},
   "outputs": [
    {
     "data": {
      "text/html": [
       "<div>\n",
       "<table border=\"1\" class=\"dataframe\">\n",
       "  <thead>\n",
       "    <tr style=\"text-align: right;\">\n",
       "      <th></th>\n",
       "      <th>名前</th>\n",
       "      <th>生年月日</th>\n",
       "      <th>出身地</th>\n",
       "      <th>期</th>\n",
       "      <th>最終在籍日</th>\n",
       "      <th>備考</th>\n",
       "      <th>卒業</th>\n",
       "      <th>加入日</th>\n",
       "      <th>在籍時間</th>\n",
       "    </tr>\n",
       "  </thead>\n",
       "  <tbody>\n",
       "    <tr>\n",
       "      <th>0</th>\n",
       "      <td>秋元真夏（あきもと まなつ）</td>\n",
       "      <td>1993年8月20日 （25歳）</td>\n",
       "      <td>埼玉県</td>\n",
       "      <td>1期</td>\n",
       "      <td>NaN</td>\n",
       "      <td>NaN</td>\n",
       "      <td>False</td>\n",
       "      <td>2011-08-21</td>\n",
       "      <td>NaN</td>\n",
       "    </tr>\n",
       "    <tr>\n",
       "      <th>1</th>\n",
       "      <td>生田絵梨花（いくた えりか）</td>\n",
       "      <td>1997年1月22日 （22歳）</td>\n",
       "      <td>東京都</td>\n",
       "      <td>1期</td>\n",
       "      <td>NaN</td>\n",
       "      <td>NaN</td>\n",
       "      <td>False</td>\n",
       "      <td>2011-08-21</td>\n",
       "      <td>NaN</td>\n",
       "    </tr>\n",
       "    <tr>\n",
       "      <th>2</th>\n",
       "      <td>井上小百合（いのうえ さゆり）</td>\n",
       "      <td>1994年12月14日 （24歳）</td>\n",
       "      <td>埼玉県</td>\n",
       "      <td>1期</td>\n",
       "      <td>NaN</td>\n",
       "      <td>NaN</td>\n",
       "      <td>False</td>\n",
       "      <td>2011-08-21</td>\n",
       "      <td>NaN</td>\n",
       "    </tr>\n",
       "    <tr>\n",
       "      <th>3</th>\n",
       "      <td>衛藤美彩（えとう みさ）</td>\n",
       "      <td>1993年1月4日 （26歳）</td>\n",
       "      <td>大分県</td>\n",
       "      <td>1期</td>\n",
       "      <td>NaN</td>\n",
       "      <td>NaN</td>\n",
       "      <td>False</td>\n",
       "      <td>2011-08-21</td>\n",
       "      <td>NaN</td>\n",
       "    </tr>\n",
       "    <tr>\n",
       "      <th>4</th>\n",
       "      <td>齋藤飛鳥（さいとう あすか）</td>\n",
       "      <td>1998年8月10日 （20歳）</td>\n",
       "      <td>東京都</td>\n",
       "      <td>1期</td>\n",
       "      <td>NaN</td>\n",
       "      <td>NaN</td>\n",
       "      <td>False</td>\n",
       "      <td>2011-08-21</td>\n",
       "      <td>NaN</td>\n",
       "    </tr>\n",
       "  </tbody>\n",
       "</table>\n",
       "</div>"
      ],
      "text/plain": [
       "                名前               生年月日  出身地   期 最終在籍日   備考     卒業        加入日  \\\n",
       "0   秋元真夏（あきもと まなつ）   1993年8月20日 （25歳）  埼玉県  1期   NaN  NaN  False 2011-08-21   \n",
       "1   生田絵梨花（いくた えりか）   1997年1月22日 （22歳）  東京都  1期   NaN  NaN  False 2011-08-21   \n",
       "2  井上小百合（いのうえ さゆり）  1994年12月14日 （24歳）  埼玉県  1期   NaN  NaN  False 2011-08-21   \n",
       "3     衛藤美彩（えとう みさ）    1993年1月4日 （26歳）  大分県  1期   NaN  NaN  False 2011-08-21   \n",
       "4   齋藤飛鳥（さいとう あすか）   1998年8月10日 （20歳）  東京都  1期   NaN  NaN  False 2011-08-21   \n",
       "\n",
       "   在籍時間  \n",
       "0   NaN  \n",
       "1   NaN  \n",
       "2   NaN  \n",
       "3   NaN  \n",
       "4   NaN  "
      ]
     },
     "execution_count": 337,
     "metadata": {},
     "output_type": "execute_result"
    }
   ],
   "source": [
    "nogizaka46_member_df[is_active].head()"
   ]
  },
  {
   "cell_type": "code",
   "execution_count": 338,
   "metadata": {},
   "outputs": [],
   "source": [
    "from datetime import date\n",
    "\n",
    "\n",
    "nogizaka46_member_df.loc[is_active, '最終在籍日'] = date(2019, 2, 5)"
   ]
  },
  {
   "cell_type": "code",
   "execution_count": 339,
   "metadata": {},
   "outputs": [],
   "source": [
    "timedelta = pd.to_datetime(nogizaka46_member_df.loc[is_active, '最終在籍日']).subtract(nogizaka46_member_df[is_active]['加入日'])\n",
    "survival_days = timedelta.dt.days"
   ]
  },
  {
   "cell_type": "code",
   "execution_count": 340,
   "metadata": {},
   "outputs": [
    {
     "data": {
      "text/plain": [
       "0    2725\n",
       "1    2725\n",
       "2    2725\n",
       "3    2725\n",
       "4    2725\n",
       "dtype: int64"
      ]
     },
     "execution_count": 340,
     "metadata": {},
     "output_type": "execute_result"
    }
   ],
   "source": [
    "# 在籍生の（今日までの）在籍期間\n",
    "survival_days.head()"
   ]
  },
  {
   "cell_type": "code",
   "execution_count": 341,
   "metadata": {},
   "outputs": [
    {
     "data": {
      "text/html": [
       "<div>\n",
       "<table border=\"1\" class=\"dataframe\">\n",
       "  <thead>\n",
       "    <tr style=\"text-align: right;\">\n",
       "      <th></th>\n",
       "      <th>名前</th>\n",
       "      <th>生年月日</th>\n",
       "      <th>出身地</th>\n",
       "      <th>期</th>\n",
       "      <th>最終在籍日</th>\n",
       "      <th>備考</th>\n",
       "      <th>卒業</th>\n",
       "      <th>加入日</th>\n",
       "      <th>在籍時間</th>\n",
       "    </tr>\n",
       "  </thead>\n",
       "  <tbody>\n",
       "    <tr>\n",
       "      <th>0</th>\n",
       "      <td>秋元真夏（あきもと まなつ）</td>\n",
       "      <td>1993年8月20日 （25歳）</td>\n",
       "      <td>埼玉県</td>\n",
       "      <td>1期</td>\n",
       "      <td>2019-02-05</td>\n",
       "      <td>NaN</td>\n",
       "      <td>False</td>\n",
       "      <td>2011-08-21</td>\n",
       "      <td>2725.0</td>\n",
       "    </tr>\n",
       "    <tr>\n",
       "      <th>1</th>\n",
       "      <td>生田絵梨花（いくた えりか）</td>\n",
       "      <td>1997年1月22日 （22歳）</td>\n",
       "      <td>東京都</td>\n",
       "      <td>1期</td>\n",
       "      <td>2019-02-05</td>\n",
       "      <td>NaN</td>\n",
       "      <td>False</td>\n",
       "      <td>2011-08-21</td>\n",
       "      <td>2725.0</td>\n",
       "    </tr>\n",
       "    <tr>\n",
       "      <th>2</th>\n",
       "      <td>井上小百合（いのうえ さゆり）</td>\n",
       "      <td>1994年12月14日 （24歳）</td>\n",
       "      <td>埼玉県</td>\n",
       "      <td>1期</td>\n",
       "      <td>2019-02-05</td>\n",
       "      <td>NaN</td>\n",
       "      <td>False</td>\n",
       "      <td>2011-08-21</td>\n",
       "      <td>2725.0</td>\n",
       "    </tr>\n",
       "    <tr>\n",
       "      <th>3</th>\n",
       "      <td>衛藤美彩（えとう みさ）</td>\n",
       "      <td>1993年1月4日 （26歳）</td>\n",
       "      <td>大分県</td>\n",
       "      <td>1期</td>\n",
       "      <td>2019-02-05</td>\n",
       "      <td>NaN</td>\n",
       "      <td>False</td>\n",
       "      <td>2011-08-21</td>\n",
       "      <td>2725.0</td>\n",
       "    </tr>\n",
       "    <tr>\n",
       "      <th>4</th>\n",
       "      <td>齋藤飛鳥（さいとう あすか）</td>\n",
       "      <td>1998年8月10日 （20歳）</td>\n",
       "      <td>東京都</td>\n",
       "      <td>1期</td>\n",
       "      <td>2019-02-05</td>\n",
       "      <td>NaN</td>\n",
       "      <td>False</td>\n",
       "      <td>2011-08-21</td>\n",
       "      <td>2725.0</td>\n",
       "    </tr>\n",
       "  </tbody>\n",
       "</table>\n",
       "</div>"
      ],
      "text/plain": [
       "                名前               生年月日  出身地   期       最終在籍日   備考     卒業  \\\n",
       "0   秋元真夏（あきもと まなつ）   1993年8月20日 （25歳）  埼玉県  1期  2019-02-05  NaN  False   \n",
       "1   生田絵梨花（いくた えりか）   1997年1月22日 （22歳）  東京都  1期  2019-02-05  NaN  False   \n",
       "2  井上小百合（いのうえ さゆり）  1994年12月14日 （24歳）  埼玉県  1期  2019-02-05  NaN  False   \n",
       "3     衛藤美彩（えとう みさ）    1993年1月4日 （26歳）  大分県  1期  2019-02-05  NaN  False   \n",
       "4   齋藤飛鳥（さいとう あすか）   1998年8月10日 （20歳）  東京都  1期  2019-02-05  NaN  False   \n",
       "\n",
       "         加入日    在籍時間  \n",
       "0 2011-08-21  2725.0  \n",
       "1 2011-08-21  2725.0  \n",
       "2 2011-08-21  2725.0  \n",
       "3 2011-08-21  2725.0  \n",
       "4 2011-08-21  2725.0  "
      ]
     },
     "execution_count": 341,
     "metadata": {},
     "output_type": "execute_result"
    }
   ],
   "source": [
    "nogizaka46_member_df.loc[is_active, '在籍時間'] = survival_days\n",
    "nogizaka46_member_df[is_active].head()"
   ]
  },
  {
   "cell_type": "markdown",
   "metadata": {},
   "source": [
    "# ノンパラメトリック分析"
   ]
  },
  {
   "cell_type": "code",
   "execution_count": 346,
   "metadata": {
    "scrolled": true
   },
   "outputs": [
    {
     "data": {
      "text/plain": [
       "<matplotlib.figure.Figure at 0x1a1c43e390>"
      ]
     },
     "metadata": {},
     "output_type": "display_data"
    },
    {
     "data": {
      "image/png": "[encoded data removed]",
      "text/plain": [
       "<matplotlib.figure.Figure at 0x1a1c86c518>"
      ]
     },
     "metadata": {},
     "output_type": "display_data"
    }
   ],
   "source": [
    "from lifelines import KaplanMeierFitter\n",
    "\n",
    "\n",
    "survival_time_col = '在籍時間'\n",
    "event_col              = '卒業'\n",
    "survival_times      = nogizaka46_member_df[survival_time_col]\n",
    "events                    = nogizaka46_member_df[event_col]\n",
    "\n",
    "# fitting\n",
    "kmf = KaplanMeierFitter()\n",
    "kmf.fit(survival_times, event_observed=events, label='KM estimate')\n",
    "\n",
    "# plot\n",
    "plt.figure(figsize=(15, 8))\n",
    "kmf.plot(ci_show=True)\n",
    "plt.show()"
   ]
  },
  {
   "cell_type": "code",
   "execution_count": 351,
   "metadata": {},
   "outputs": [
    {
     "data": {
      "image/png": "[encoded data removed]",
      "text/plain": [
       "<matplotlib.figure.Figure at 0x1a1f47ba20>"
      ]
     },
     "metadata": {},
     "output_type": "display_data"
    }
   ],
   "source": [
    "from sksurv.nonparametric import kaplan_meier_estimator\n",
    "\n",
    "\n",
    "survival_bools = nogizaka46_member_df['卒業'].values\n",
    "survival_times = nogizaka46_member_df['在籍時間'].values\n",
    "\n",
    "time, survival_prob = kaplan_meier_estimator(survival_bools, survival_times)\n",
    "\n",
    "plt.figure(figsize=(15, 8))\n",
    "plt.title('生存状況のプロット')\n",
    "plt.step(time, survival_prob, where=\"post\")\n",
    "plt.ylabel(\"生存関数 $\\hat{S}(t)$\")\n",
    "plt.xlabel(\"生存時間 $t$(日数)\")\n",
    "plt.show()"
   ]
  },
  {
   "cell_type": "code",
   "execution_count": null,
   "metadata": {},
   "outputs": [],
   "source": []
  }
 ],
 "metadata": {
  "kernelspec": {
   "display_name": "Python 3",
   "language": "python",
   "name": "python3"
  },
  "language_info": {
   "codemirror_mode": {
    "name": "ipython",
    "version": 3
   },
   "file_extension": ".py",
   "mimetype": "text/x-python",
   "name": "python",
   "nbconvert_exporter": "python",
   "pygments_lexer": "ipython3",
   "version": "3.6.3"
  },
  "toc": {
   "nav_menu": {},
   "number_sections": true,
   "sideBar": true,
   "skip_h1_title": false,
   "toc_cell": false,
   "toc_position": {
    "height": "829px",
    "left": "0px",
    "right": "1430px",
    "top": "110px",
    "width": "250px"
   },
   "toc_section_display": "block",
   "toc_window_display": true
  }
 },
 "nbformat": 4,
 "nbformat_minor": 2
}
