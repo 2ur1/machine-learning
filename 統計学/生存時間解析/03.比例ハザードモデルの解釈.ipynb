{
 "cells": [
  {
   "cell_type": "markdown",
   "metadata": {},
   "source": [
    "# 比例ハザードモデルの解釈\n",
    "本jupyterファイルでは、比例ハザードモデルによる結果の解釈を行う手法とコードを示す。"
   ]
  },
  {
   "cell_type": "code",
   "execution_count": 1,
   "metadata": {},
   "outputs": [],
   "source": [
    "import numpy as np\n",
    "import pandas as pd\n",
    "from pandas import DataFrame, Series\n",
    "\n",
    "import matplotlib as mpl\n",
    "import matplotlib.pyplot as plt\n",
    "import seaborn as sns\n",
    "\n",
    "# 日本語フォントを設定\n",
    "font = {'family': 'IPAexGothic'}\n",
    "mpl.rc('font', **font)\n",
    "\n",
    "%matplotlib inline"
   ]
  },
  {
   "cell_type": "markdown",
   "metadata": {},
   "source": [
    "---\n",
    "## 比例ハザード性\n",
    "生存時間に対する共変量の影響の推定をあるとき、比例ハザードモデルを適用することができる。\n",
    "### <font color=\"blue\">ハザード比</font>\n",
    "その共変量の変化に対する影響を評価するハザード比を定義する。ここで、以下の対数ハザードの差が**<font color=\"red\">時間に依存しないこと（比例ハザード性の仮定）</font>**に注意すること。\n",
    "$$\n",
    "\\begin{eqnarray} \n",
    "\\mathrm {HR}\\left( t, x = (a,b), \\beta\\right) & = & \\frac {h\\left(t,a,\\beta\\right)}{h\\left(t,b,\\beta\\right)}\\\\\n",
    "& = & \\mathrm {exp} {\\left[ \\left\\{ \\ln { \\left[ h_{ 0 }\\left( t \\right)  \\right]  } +a\\beta  \\right\\} -\\left\\{ \\ln { \\left[ h_{ 0 }\\left( t \\right)  \\right]  } +b\\beta  \\right\\}  \\right] }\\\\\n",
    "& = & e^{(a-b)\\beta}\n",
    "\\end{eqnarray}\n",
    "$$\n",
    "\n",
    "このハザード比は、**<font color=\"blue\">全体の期間にわたる生存状況の比較手段であり</font>**、(3)式から得られたハザード比は、**観察期間中はいつでも**$x=a$の属性の1単位期間あたりの死亡率(イベント発生率)が$x=b$の属性の$e^{(a-b)\\beta}$倍であることを意味する。"
   ]
  },
  {
   "cell_type": "code",
   "execution_count": null,
   "metadata": {
    "collapsed": true
   },
   "outputs": [],
   "source": []
  },
  {
   "cell_type": "markdown",
   "metadata": {},
   "source": [
    "## 名義尺度共変量\n",
    "まず、1つの二値または名義尺度共変量の回帰係数の解釈について考える。\n",
    "共変量が、$a=0,b=1$もしくは$a=+1,b=-1$のような二値変数の値であるとき、ハザード比の推定値は、\n",
    "$$\n",
    "\\hat {\\mathrm {HR}}\\left(t,a,b,\\hat {\\beta}\\right) = e^{(a-b)\\hat {\\beta}} \\qquad (5)\n",
    "$$\n",
    "となる。ハザード比の$100(1-\\alpha)$%信頼区間の区間推定は、\n",
    "$$\n",
    "\\mathrm {exp} {\\left[ (a-b)\\hat {\\beta} \\pm \\left| a-b \\right| \\cdot z_{1-\\alpha/2} \\cdot \\hat {SE}\\left(\\hat {\\beta}\\right) \\right]} \\qquad (6)\n",
    "$$\n",
    "となる。\n",
    "\n",
    " - $\\hat {SE}\\left(\\beta\\right)$: 標準誤差\n",
    "\n",
    "(5)式のハザード比の形は、もし共変量がそれぞれ$a=0$で$b=1$の場合のイベント発生率が**<font color=\"blue\">観察期間中はいつでも</font>**$e^{(a-b)\\hat {\\beta}}$倍であることを示す。"
   ]
  },
  {
   "cell_type": "markdown",
   "metadata": {},
   "source": [
    "### 例\n",
    "WHAS100に性別(gender)を含む比例ハザードモデルを当てはめ、観察期間中のリスクを調査する。なお、性別(`gender`)は、1=女性で0=男性とコード化されている。"
   ]
  },
  {
   "cell_type": "code",
   "execution_count": 11,
   "metadata": {},
   "outputs": [
    {
     "data": {
      "text/html": [
       "<div>\n",
       "<style scoped>\n",
       "    .dataframe tbody tr th:only-of-type {\n",
       "        vertical-align: middle;\n",
       "    }\n",
       "\n",
       "    .dataframe tbody tr th {\n",
       "        vertical-align: top;\n",
       "    }\n",
       "\n",
       "    .dataframe thead th {\n",
       "        text-align: right;\n",
       "    }\n",
       "</style>\n",
       "<table border=\"1\" class=\"dataframe\">\n",
       "  <thead>\n",
       "    <tr style=\"text-align: right;\">\n",
       "      <th></th>\n",
       "      <th>admitdate</th>\n",
       "      <th>foldate</th>\n",
       "      <th>los</th>\n",
       "      <th>lenfol</th>\n",
       "      <th>fstat</th>\n",
       "      <th>age</th>\n",
       "      <th>gender</th>\n",
       "      <th>bmi</th>\n",
       "    </tr>\n",
       "  </thead>\n",
       "  <tbody>\n",
       "    <tr>\n",
       "      <th>1</th>\n",
       "      <td>03/13/1995</td>\n",
       "      <td>03/19/1995</td>\n",
       "      <td>4</td>\n",
       "      <td>6</td>\n",
       "      <td>1</td>\n",
       "      <td>65</td>\n",
       "      <td>0</td>\n",
       "      <td>31.38134</td>\n",
       "    </tr>\n",
       "    <tr>\n",
       "      <th>2</th>\n",
       "      <td>01/14/1995</td>\n",
       "      <td>01/23/1996</td>\n",
       "      <td>5</td>\n",
       "      <td>374</td>\n",
       "      <td>1</td>\n",
       "      <td>88</td>\n",
       "      <td>1</td>\n",
       "      <td>22.65790</td>\n",
       "    </tr>\n",
       "    <tr>\n",
       "      <th>3</th>\n",
       "      <td>02/17/1995</td>\n",
       "      <td>10/04/2001</td>\n",
       "      <td>5</td>\n",
       "      <td>2421</td>\n",
       "      <td>1</td>\n",
       "      <td>77</td>\n",
       "      <td>0</td>\n",
       "      <td>27.87892</td>\n",
       "    </tr>\n",
       "    <tr>\n",
       "      <th>4</th>\n",
       "      <td>04/07/1995</td>\n",
       "      <td>07/14/1995</td>\n",
       "      <td>9</td>\n",
       "      <td>98</td>\n",
       "      <td>1</td>\n",
       "      <td>81</td>\n",
       "      <td>1</td>\n",
       "      <td>21.47878</td>\n",
       "    </tr>\n",
       "    <tr>\n",
       "      <th>5</th>\n",
       "      <td>02/09/1995</td>\n",
       "      <td>05/29/1998</td>\n",
       "      <td>4</td>\n",
       "      <td>1205</td>\n",
       "      <td>1</td>\n",
       "      <td>78</td>\n",
       "      <td>0</td>\n",
       "      <td>30.70601</td>\n",
       "    </tr>\n",
       "  </tbody>\n",
       "</table>\n",
       "</div>"
      ],
      "text/plain": [
       "    admitdate     foldate  los  lenfol  fstat  age  gender       bmi\n",
       "1  03/13/1995  03/19/1995    4       6      1   65       0  31.38134\n",
       "2  01/14/1995  01/23/1996    5     374      1   88       1  22.65790\n",
       "3  02/17/1995  10/04/2001    5    2421      1   77       0  27.87892\n",
       "4  04/07/1995  07/14/1995    9      98      1   81       1  21.47878\n",
       "5  02/09/1995  05/29/1998    4    1205      1   78       0  30.70601"
      ]
     },
     "execution_count": 11,
     "metadata": {},
     "output_type": "execute_result"
    }
   ],
   "source": [
    "# データセットの読み込み\n",
    "# Variable      Description                      Codes / Units\n",
    "# id                 ID Code                            1 - 100\n",
    "# admitdate  Admission Date               mm/dd/yyyy\n",
    "# foldate       Follow Up Date                 mm/dd/yyyy\n",
    "# los              Length of Hospital Stay  Days\n",
    "# lenfol         Follow Up Time                 Days\n",
    "# fstat         Vital Satus                        1 = Dead,　0 = Alive\n",
    "# age           Age at Admission            years\n",
    "# gender     Gender                              0 = Male, 1= Female\n",
    "# bmi           Body Mass Index             kg/m^2\n",
    "\n",
    "WHAS_100_DATASET_PATH = 'dataset/whas100.dat'\n",
    "COLUMNS = ['admitdate', 'foldate', 'los', 'lenfol', 'fstat', 'age', 'gender', 'bmi']\n",
    "\n",
    "whas_100_df = pd.read_csv(WHAS_100_DATASET_PATH, sep='\\s+', header=None, index_col=0, names=COLUMNS)\n",
    "whas_100_df.head()"
   ]
  },
  {
   "cell_type": "code",
   "execution_count": 7,
   "metadata": {},
   "outputs": [
    {
     "data": {
      "text/html": [
       "<div>\n",
       "<style scoped>\n",
       "    .dataframe tbody tr th:only-of-type {\n",
       "        vertical-align: middle;\n",
       "    }\n",
       "\n",
       "    .dataframe tbody tr th {\n",
       "        vertical-align: top;\n",
       "    }\n",
       "\n",
       "    .dataframe thead th {\n",
       "        text-align: right;\n",
       "    }\n",
       "</style>\n",
       "<table border=\"1\" class=\"dataframe\">\n",
       "  <thead>\n",
       "    <tr style=\"text-align: right;\">\n",
       "      <th></th>\n",
       "      <th>coef</th>\n",
       "      <th>exp(coef)</th>\n",
       "      <th>se(coef)</th>\n",
       "      <th>z</th>\n",
       "      <th>p</th>\n",
       "      <th>lower 0.95</th>\n",
       "      <th>upper 0.95</th>\n",
       "    </tr>\n",
       "  </thead>\n",
       "  <tbody>\n",
       "    <tr>\n",
       "      <th>gender</th>\n",
       "      <td>0.554815</td>\n",
       "      <td>1.741618</td>\n",
       "      <td>0.282389</td>\n",
       "      <td>1.964721</td>\n",
       "      <td>0.049447</td>\n",
       "      <td>0.001343</td>\n",
       "      <td>1.108286</td>\n",
       "    </tr>\n",
       "  </tbody>\n",
       "</table>\n",
       "</div>"
      ],
      "text/plain": [
       "            coef  exp(coef)  se(coef)         z         p  lower 0.95  \\\n",
       "gender  0.554815   1.741618  0.282389  1.964721  0.049447    0.001343   \n",
       "\n",
       "        upper 0.95  \n",
       "gender    1.108286  "
      ]
     },
     "execution_count": 7,
     "metadata": {},
     "output_type": "execute_result"
    }
   ],
   "source": [
    "from lifelines import CoxPHFitter\n",
    "\n",
    "x_cols = ['gender']\n",
    "y_cols = ['lenfol', 'fstat']\n",
    "\n",
    "cox_ph_model = CoxPHFitter()\n",
    "cox_ph_model.fit(whas_100_df[x_cols + y_cols], duration_col='lenfol', event_col='fstat')\n",
    "cox_ph_model.summary"
   ]
  },
  {
   "cell_type": "markdown",
   "metadata": {},
   "source": [
    "求めた回帰係数からハザード比の点推定値を算出する。"
   ]
  },
  {
   "cell_type": "code",
   "execution_count": 4,
   "metadata": {},
   "outputs": [
    {
     "name": "stdout",
     "output_type": "stream",
     "text": [
      "genderのハザード比: 1.741618008307074\n"
     ]
    }
   ],
   "source": [
    "# ハザード比の追加\n",
    "HAZARD_RATIO  = {\n",
    "    'gender': 1\n",
    "}\n",
    "\n",
    "for col in HAZARD_RATIO.keys():\n",
    "    beta = cox_ph_model.hazards_[col].loc['coef']\n",
    "    print('{col}のハザード比: {HR}'.format(col=col, HR=np.exp(beta)))"
   ]
  },
  {
   "cell_type": "markdown",
   "metadata": {},
   "source": [
    "上記のハザード比から、観察期間をとおして、女性は男性の約1.74倍の割合で死亡(イベントが発生)すると解釈できる。"
   ]
  },
  {
   "cell_type": "code",
   "execution_count": 5,
   "metadata": {},
   "outputs": [
    {
     "name": "stdout",
     "output_type": "stream",
     "text": [
      "genderのハザード比の0.95%信頼区間: (1.0013441347082699, 3.0291616855010557)\n"
     ]
    }
   ],
   "source": [
    "from scipy.stats import norm\n",
    "\n",
    "alpha = 0.05\n",
    "z = norm.ppf(q=1 - alpha/2, loc=0, scale=1)\n",
    "\n",
    "a = 1\n",
    "b = 0\n",
    "beta = cox_ph_model.hazards_['gender'].loc['coef']\n",
    "se = cox_ph_model._compute_standard_errors()['gender'].loc['se']\n",
    "\n",
    "print('{col}のハザード比の{p}%信頼区間: {hr}'.format(col='gender', p=1-alpha, hr=(np.exp((a-b)*beta - np.abs(a-b)*z*se), np.exp((a-b)*beta + np.abs(a-b)*z*se))))"
   ]
  },
  {
   "cell_type": "markdown",
   "metadata": {},
   "source": [
    "上記の結果からハザード比は、観察期間をとおして、女性の死亡率は、男性の死亡率より74%高いといえ、95%の信頼度で、少なくとも0.2%、多ければ203%高いと説明できる。"
   ]
  },
  {
   "cell_type": "markdown",
   "metadata": {},
   "source": [
    "### 名義尺度共変量が$K$水準(2つ以上)を有する場合"
   ]
  },
  {
   "cell_type": "code",
   "execution_count": 12,
   "metadata": {},
   "outputs": [
    {
     "data": {
      "text/html": [
       "<div>\n",
       "<style scoped>\n",
       "    .dataframe tbody tr th:only-of-type {\n",
       "        vertical-align: middle;\n",
       "    }\n",
       "\n",
       "    .dataframe tbody tr th {\n",
       "        vertical-align: top;\n",
       "    }\n",
       "\n",
       "    .dataframe thead th {\n",
       "        text-align: right;\n",
       "    }\n",
       "</style>\n",
       "<table border=\"1\" class=\"dataframe\">\n",
       "  <thead>\n",
       "    <tr style=\"text-align: right;\">\n",
       "      <th></th>\n",
       "      <th>admitdate</th>\n",
       "      <th>foldate</th>\n",
       "      <th>los</th>\n",
       "      <th>lenfol</th>\n",
       "      <th>fstat</th>\n",
       "      <th>age</th>\n",
       "      <th>gender</th>\n",
       "      <th>bmi</th>\n",
       "    </tr>\n",
       "  </thead>\n",
       "  <tbody>\n",
       "    <tr>\n",
       "      <th>1</th>\n",
       "      <td>03/13/1995</td>\n",
       "      <td>03/19/1995</td>\n",
       "      <td>4</td>\n",
       "      <td>6</td>\n",
       "      <td>1</td>\n",
       "      <td>65</td>\n",
       "      <td>0</td>\n",
       "      <td>31.38134</td>\n",
       "    </tr>\n",
       "    <tr>\n",
       "      <th>2</th>\n",
       "      <td>01/14/1995</td>\n",
       "      <td>01/23/1996</td>\n",
       "      <td>5</td>\n",
       "      <td>374</td>\n",
       "      <td>1</td>\n",
       "      <td>88</td>\n",
       "      <td>1</td>\n",
       "      <td>22.65790</td>\n",
       "    </tr>\n",
       "    <tr>\n",
       "      <th>3</th>\n",
       "      <td>02/17/1995</td>\n",
       "      <td>10/04/2001</td>\n",
       "      <td>5</td>\n",
       "      <td>2421</td>\n",
       "      <td>1</td>\n",
       "      <td>77</td>\n",
       "      <td>0</td>\n",
       "      <td>27.87892</td>\n",
       "    </tr>\n",
       "    <tr>\n",
       "      <th>4</th>\n",
       "      <td>04/07/1995</td>\n",
       "      <td>07/14/1995</td>\n",
       "      <td>9</td>\n",
       "      <td>98</td>\n",
       "      <td>1</td>\n",
       "      <td>81</td>\n",
       "      <td>1</td>\n",
       "      <td>21.47878</td>\n",
       "    </tr>\n",
       "    <tr>\n",
       "      <th>5</th>\n",
       "      <td>02/09/1995</td>\n",
       "      <td>05/29/1998</td>\n",
       "      <td>4</td>\n",
       "      <td>1205</td>\n",
       "      <td>1</td>\n",
       "      <td>78</td>\n",
       "      <td>0</td>\n",
       "      <td>30.70601</td>\n",
       "    </tr>\n",
       "  </tbody>\n",
       "</table>\n",
       "</div>"
      ],
      "text/plain": [
       "    admitdate     foldate  los  lenfol  fstat  age  gender       bmi\n",
       "1  03/13/1995  03/19/1995    4       6      1   65       0  31.38134\n",
       "2  01/14/1995  01/23/1996    5     374      1   88       1  22.65790\n",
       "3  02/17/1995  10/04/2001    5    2421      1   77       0  27.87892\n",
       "4  04/07/1995  07/14/1995    9      98      1   81       1  21.47878\n",
       "5  02/09/1995  05/29/1998    4    1205      1   78       0  30.70601"
      ]
     },
     "execution_count": 12,
     "metadata": {},
     "output_type": "execute_result"
    }
   ],
   "source": [
    "whas_100_df.head()"
   ]
  },
  {
   "cell_type": "code",
   "execution_count": null,
   "metadata": {},
   "outputs": [],
   "source": []
  },
  {
   "cell_type": "markdown",
   "metadata": {},
   "source": [
    "## 連続尺度共変量\n",
    "連続尺度共変量の$c$単位の変化に対応する対数ハザード関数の変化を$a = x + c$および$b = x$として、(2)式および(3)式を用いると、対数ハザード関数の変化は、\n",
    "$$\n",
    "\\left\\{ \\ln {h_{0}\\left(t\\right)} + (x+c)\\beta \\right\\} - \\left\\{ \\ln {h_{0}\\left(t\\right)} + x\\beta \\right\\} = (x+c)\\beta - x\\beta\\\\\n",
    "= c\\beta\n",
    "$$\n",
    "となる。ハザード比は、\n",
    "$$\n",
    "\\hat {\\mathrm {HR}}\\left(c\\right) = e^{c\\hat {\\beta}}\n",
    "$$\n",
    "として推定され、ハザード比の$100(1-\\alpha)$%信頼区間の区間推定は、\n",
    "$$\n",
    "\\mathrm {exp} {\\left[ c\\hat {\\beta} \\pm z_{1-\\alpha/2} \\cdot \\left| c\\right| \\cdot \\hat {SE}\\left(\\hat {\\beta}\\right) \\right]}\n",
    "$$\n",
    "である。"
   ]
  },
  {
   "cell_type": "markdown",
   "metadata": {},
   "source": [
    "### 例\n",
    "WHAS100を用い、年齢を共変量として、その共変量の単位変化のハザード比を算出する。"
   ]
  },
  {
   "cell_type": "code",
   "execution_count": 13,
   "metadata": {},
   "outputs": [
    {
     "data": {
      "text/html": [
       "<div>\n",
       "<style scoped>\n",
       "    .dataframe tbody tr th:only-of-type {\n",
       "        vertical-align: middle;\n",
       "    }\n",
       "\n",
       "    .dataframe tbody tr th {\n",
       "        vertical-align: top;\n",
       "    }\n",
       "\n",
       "    .dataframe thead th {\n",
       "        text-align: right;\n",
       "    }\n",
       "</style>\n",
       "<table border=\"1\" class=\"dataframe\">\n",
       "  <thead>\n",
       "    <tr style=\"text-align: right;\">\n",
       "      <th></th>\n",
       "      <th>coef</th>\n",
       "      <th>exp(coef)</th>\n",
       "      <th>se(coef)</th>\n",
       "      <th>z</th>\n",
       "      <th>p</th>\n",
       "      <th>lower 0.95</th>\n",
       "      <th>upper 0.95</th>\n",
       "    </tr>\n",
       "  </thead>\n",
       "  <tbody>\n",
       "    <tr>\n",
       "      <th>age</th>\n",
       "      <td>0.045671</td>\n",
       "      <td>1.04673</td>\n",
       "      <td>0.01195</td>\n",
       "      <td>3.82193</td>\n",
       "      <td>0.000132</td>\n",
       "      <td>0.02225</td>\n",
       "      <td>0.069092</td>\n",
       "    </tr>\n",
       "  </tbody>\n",
       "</table>\n",
       "</div>"
      ],
      "text/plain": [
       "         coef  exp(coef)  se(coef)        z         p  lower 0.95  upper 0.95\n",
       "age  0.045671    1.04673   0.01195  3.82193  0.000132     0.02225    0.069092"
      ]
     },
     "execution_count": 13,
     "metadata": {},
     "output_type": "execute_result"
    }
   ],
   "source": [
    "from lifelines import CoxPHFitter\n",
    "\n",
    "x_cols = ['age']\n",
    "y_cols = ['lenfol', 'fstat']\n",
    "\n",
    "cox_ph_model = CoxPHFitter()\n",
    "cox_ph_model.fit(whas_100_df[x_cols + y_cols], duration_col='lenfol', event_col='fstat')\n",
    "cox_ph_model.summary"
   ]
  },
  {
   "cell_type": "markdown",
   "metadata": {},
   "source": [
    "年齢が5歳変化したときのハザード比を算出する。"
   ]
  },
  {
   "cell_type": "code",
   "execution_count": 29,
   "metadata": {},
   "outputs": [
    {
     "data": {
      "text/html": [
       "<div>\n",
       "<style scoped>\n",
       "    .dataframe tbody tr th:only-of-type {\n",
       "        vertical-align: middle;\n",
       "    }\n",
       "\n",
       "    .dataframe tbody tr th {\n",
       "        vertical-align: top;\n",
       "    }\n",
       "\n",
       "    .dataframe thead th {\n",
       "        text-align: right;\n",
       "    }\n",
       "</style>\n",
       "<table border=\"1\" class=\"dataframe\">\n",
       "  <thead>\n",
       "    <tr style=\"text-align: right;\">\n",
       "      <th></th>\n",
       "      <th>変数</th>\n",
       "      <th>回帰係数</th>\n",
       "    </tr>\n",
       "  </thead>\n",
       "  <tbody>\n",
       "    <tr>\n",
       "      <th>0</th>\n",
       "      <td>age</td>\n",
       "      <td>0.045671</td>\n",
       "    </tr>\n",
       "  </tbody>\n",
       "</table>\n",
       "</div>"
      ],
      "text/plain": [
       "    変数      回帰係数\n",
       "0  age  0.045671"
      ]
     },
     "execution_count": 29,
     "metadata": {},
     "output_type": "execute_result"
    }
   ],
   "source": [
    "coef_df = cox_ph_model.summary\n",
    "coef_df = coef_df.reset_index()\n",
    "coef_df = coef_df.rename(columns={'index': '変数', 'coef': '回帰係数'})[['変数', '回帰係数']]\n",
    "coef_df.head()"
   ]
  },
  {
   "cell_type": "code",
   "execution_count": 30,
   "metadata": {},
   "outputs": [],
   "source": [
    "# ハザード比の追加\n",
    "HAZARD_RATIO  = {'age': 5}"
   ]
  },
  {
   "cell_type": "code",
   "execution_count": 31,
   "metadata": {},
   "outputs": [],
   "source": [
    "def add_point_estimation_of_hazard_ratio(row):\n",
    "    \"\"\"\n",
    "    ハザード比の点推定の値を返す\n",
    "    \"\"\"\n",
    "    variable, beta = row\n",
    "    if variable in HAZARD_RATIO:\n",
    "        n_th = HAZARD_RATIO[variable]\n",
    "    else:\n",
    "        n_th = 1\n",
    "    return np.exp(n_th * beta)"
   ]
  },
  {
   "cell_type": "code",
   "execution_count": 32,
   "metadata": {},
   "outputs": [],
   "source": [
    "coef_df['ハザード比'] = coef_df[['変数', '回帰係数']].apply(add_point_estimation_of_hazard_ratio, axis=1)"
   ]
  },
  {
   "cell_type": "code",
   "execution_count": 33,
   "metadata": {},
   "outputs": [
    {
     "data": {
      "text/html": [
       "<div>\n",
       "<style scoped>\n",
       "    .dataframe tbody tr th:only-of-type {\n",
       "        vertical-align: middle;\n",
       "    }\n",
       "\n",
       "    .dataframe tbody tr th {\n",
       "        vertical-align: top;\n",
       "    }\n",
       "\n",
       "    .dataframe thead th {\n",
       "        text-align: right;\n",
       "    }\n",
       "</style>\n",
       "<table border=\"1\" class=\"dataframe\">\n",
       "  <thead>\n",
       "    <tr style=\"text-align: right;\">\n",
       "      <th></th>\n",
       "      <th>変数</th>\n",
       "      <th>回帰係数</th>\n",
       "      <th>ハザード比</th>\n",
       "      <th>ハザード比の区間推定(0.95)%</th>\n",
       "    </tr>\n",
       "  </thead>\n",
       "  <tbody>\n",
       "    <tr>\n",
       "      <th>0</th>\n",
       "      <td>age</td>\n",
       "      <td>0.045671</td>\n",
       "      <td>1.256533</td>\n",
       "      <td>1.117675, 1.412642</td>\n",
       "    </tr>\n",
       "  </tbody>\n",
       "</table>\n",
       "</div>"
      ],
      "text/plain": [
       "    変数      回帰係数     ハザード比   ハザード比の区間推定(0.95)%\n",
       "0  age  0.045671  1.256533  1.117675, 1.412642"
      ]
     },
     "execution_count": 33,
     "metadata": {},
     "output_type": "execute_result"
    }
   ],
   "source": [
    "from scipy.stats import norm\n",
    "\n",
    "\n",
    "alpha = 0.05\n",
    "z = norm.ppf(q=1 - alpha/2, loc=0, scale=1)\n",
    "\n",
    "beta = cox_ph_model.hazards_['age'].loc['coef']\n",
    "se = cox_ph_model._compute_standard_errors()['age'].loc['se']\n",
    "c = HAZARD_RATIO['age']\n",
    "\n",
    "low = np.exp(c*beta - np.abs(c)*z*se)\n",
    "high = np.exp(c*beta + np.abs(c)*z*se)\n",
    "\n",
    "coef_df['ハザード比の区間推定({0})%'.format(1 - alpha)] = '{0:f}, {1:f}'.format(low, high)\n",
    "coef_df"
   ]
  },
  {
   "cell_type": "markdown",
   "metadata": {},
   "source": [
    "↑から、年齢が5歳変化した場合\n",
    "\n",
    " - ハザード比 : 観察期間をとおして、年齢が5歳増加するごとにハザードは約26%増加し、これはどの年齢に対する増加を計算しても同じである。\n",
    " - 区間推定 : 観察期間をとおして、65歳の人の死亡率は、60歳の人の死亡率より26%高いといえ、95%の信頼度で、少なくとも12%、多ければ42%高いと説明できる。"
   ]
  },
  {
   "cell_type": "code",
   "execution_count": 25,
   "metadata": {},
   "outputs": [
    {
     "data": {
      "text/html": [
       "<div>\n",
       "<style>\n",
       "    .dataframe thead tr:only-child th {\n",
       "        text-align: right;\n",
       "    }\n",
       "\n",
       "    .dataframe thead th {\n",
       "        text-align: left;\n",
       "    }\n",
       "\n",
       "    .dataframe tbody tr th {\n",
       "        vertical-align: top;\n",
       "    }\n",
       "</style>\n",
       "<table border=\"1\" class=\"dataframe\">\n",
       "  <thead>\n",
       "    <tr style=\"text-align: right;\">\n",
       "      <th></th>\n",
       "      <th>変数</th>\n",
       "      <th>回帰係数</th>\n",
       "      <th>ハザード比</th>\n",
       "    </tr>\n",
       "  </thead>\n",
       "  <tbody>\n",
       "    <tr>\n",
       "      <th>0</th>\n",
       "      <td>Age_in_years</td>\n",
       "      <td>-0.0178705</td>\n",
       "      <td>0.836352</td>\n",
       "    </tr>\n",
       "    <tr>\n",
       "      <th>1</th>\n",
       "      <td>Celltype='large'</td>\n",
       "      <td>-0.842767</td>\n",
       "      <td>0.430518</td>\n",
       "    </tr>\n",
       "    <tr>\n",
       "      <th>2</th>\n",
       "      <td>Celltype='smallcell'</td>\n",
       "      <td>0.00444637</td>\n",
       "      <td>1.004456</td>\n",
       "    </tr>\n",
       "    <tr>\n",
       "      <th>3</th>\n",
       "      <td>Celltype='squamous'</td>\n",
       "      <td>-1.22398</td>\n",
       "      <td>0.294059</td>\n",
       "    </tr>\n",
       "    <tr>\n",
       "      <th>4</th>\n",
       "      <td>Karnofsky_score</td>\n",
       "      <td>-0.0381951</td>\n",
       "      <td>0.682529</td>\n",
       "    </tr>\n",
       "    <tr>\n",
       "      <th>5</th>\n",
       "      <td>Months_from_Diagnosis</td>\n",
       "      <td>-0.00415532</td>\n",
       "      <td>0.987611</td>\n",
       "    </tr>\n",
       "    <tr>\n",
       "      <th>6</th>\n",
       "      <td>Prior_therapy='yes'</td>\n",
       "      <td>-0.164954</td>\n",
       "      <td>0.847933</td>\n",
       "    </tr>\n",
       "    <tr>\n",
       "      <th>7</th>\n",
       "      <td>Treatment='test'</td>\n",
       "      <td>0.154291</td>\n",
       "      <td>1.166830</td>\n",
       "    </tr>\n",
       "  </tbody>\n",
       "</table>\n",
       "</div>"
      ],
      "text/plain": [
       "                      変数        回帰係数     ハザード比\n",
       "0           Age_in_years  -0.0178705  0.836352\n",
       "1       Celltype='large'   -0.842767  0.430518\n",
       "2   Celltype='smallcell'  0.00444637  1.004456\n",
       "3    Celltype='squamous'    -1.22398  0.294059\n",
       "4        Karnofsky_score  -0.0381951  0.682529\n",
       "5  Months_from_Diagnosis -0.00415532  0.987611\n",
       "6    Prior_therapy='yes'   -0.164954  0.847933\n",
       "7       Treatment='test'    0.154291  1.166830"
      ]
     },
     "execution_count": 25,
     "metadata": {},
     "output_type": "execute_result"
    }
   ],
   "source": [
    "# ハザード比の追加\n",
    "HAZARD_RATIO  = {\n",
    "    'Age_in_years': 10,\n",
    "    \"Celltype='large'\": 1,\n",
    "    \"Celltype='smallcell'\": 1,\n",
    "    \"Celltype='squamous'\": 1,\n",
    "    'Karnofsky_score': 10,\n",
    "    'Months_from_Diagnosis': 3,\n",
    "    \"Prior_therapy='yes'\": 1,\n",
    "    \"Treatment='test'\": 1\n",
    "}\n",
    "\n",
    "def add_point_estimation_of_hazard_ratio(row):\n",
    "    \"\"\"\n",
    "    ハザード比の点推定の値を返す\n",
    "    \"\"\"\n",
    "    variable, beta = row\n",
    "    if variable in HAZARD_RATIO:\n",
    "        n_th = HAZARD_RATIO[variable]\n",
    "    else:\n",
    "        n_th = 1\n",
    "    return np.exp(n_th * beta)\n",
    "\n",
    "\n",
    "def add_interval_estimation_of_hazard_ratio(row, alpha = 0.05):\n",
    "    \"\"\"\n",
    "    ハザード比の区間推定の値を返す\n",
    "    \"\"\"\n",
    "    return low_estimated_value, high_estimated_value\n",
    "\n",
    "coef_df['ハザード比'] = coef_df[['変数', '回帰係数']].apply(add_point_estimation_of_hazard_ratio, axis=1)\n",
    "# coef_df['ハザード比の区間推定]\n",
    "coef_df"
   ]
  },
  {
   "cell_type": "markdown",
   "metadata": {},
   "source": [
    "## 多変量モデル\n",
    "リスク因子または治療変数$d$と、他の変数$x$を考える。ここで、共変量$x$は結果変数と有意に関連していると仮定する。\n",
    "\n",
    "共変量$x$は次のモデルの当てはめを考える。\n",
    "\n",
    "$x$を含むモデル\n",
    "\n",
    " 1. 交絡因子: $d$を含むが、$x$は含まないモデル\n",
    " 2. 関連性の効果修飾因子: $d$と$x$の両方を含むモデル\n",
    " 3. 交絡因子または効果修飾因子のどちらでもない: $d,x$とそれらの交互作用項$x \\times d$を含むモデル\n",
    "\n",
    "事例の前に、交絡と交互作用に対する概念的理解と視覚的把握を促すため、2変数の設定を考える。\n",
    "\n",
    "主たるリスク因子$d$は2水準(0=なし、1=あり)であり、主な解析の目的は$d$のハザード比を推定することであると仮定する。<br>\n",
    "\n",
    "$d$のみを含む比例ハザードモデルは、対数ハザード関数\n",
    "$$\n",
    "\\ln {h_{0}\\left(t\\right)} + d \\theta_{1}\n",
    "$$\n",
    "をもつ。$d$の2水準での対数ハザードの差は、\n",
    "$$\n",
    "\\left( \\ln {h_{0}\\left(t\\right)} + 1\\theta_{1} \\right) - \\left( \\ln {h_{0}\\left(t\\right)} + 0\\theta_{1} \\right) = \\theta_{1}\n",
    "$$\n",
    "となる。\n",
    "\n",
    "$d$と$x$の両方を含む２番目のモデルにおける対数ハザード関数は、\n",
    "$$\n",
    "\\ln {h_{0}\\left(t\\right)} + d \\beta_{1} + x\\beta_{2}\n",
    "$$\n",
    "となる。上式から、調整された対数ハザードの差は、\n",
    "$$\n",
    "\\left( \\ln {h_{0}\\left(t\\right)} + 1\\beta_{1} + x\\beta_{2} \\right) - \\left( \\ln {h_{0}\\left(t\\right)} + 0\\beta_{1} + x\\beta_{2} \\right) = \\beta_{1} + (x - x)\\beta_{2}\\\\\n",
    "= \\beta_{1}\n",
    "$$\n",
    "となる。"
   ]
  },
  {
   "cell_type": "code",
   "execution_count": null,
   "metadata": {
    "collapsed": true
   },
   "outputs": [],
   "source": []
  },
  {
   "cell_type": "markdown",
   "metadata": {
    "collapsed": true
   },
   "source": [
    "## 調整生存関数の解釈と利用\n",
    "モデルの推定値の解釈と共変量で調整された生存関数を説明する。\n"
   ]
  },
  {
   "cell_type": "code",
   "execution_count": null,
   "metadata": {
    "collapsed": true
   },
   "outputs": [],
   "source": []
  }
 ],
 "metadata": {
  "kernelspec": {
   "display_name": "Python 3",
   "language": "python",
   "name": "python3"
  },
  "language_info": {
   "codemirror_mode": {
    "name": "ipython",
    "version": 3
   },
   "file_extension": ".py",
   "mimetype": "text/x-python",
   "name": "python",
   "nbconvert_exporter": "python",
   "pygments_lexer": "ipython3",
   "version": "3.6.3"
  },
  "toc": {
   "nav_menu": {},
   "number_sections": true,
   "sideBar": true,
   "skip_h1_title": false,
   "toc_cell": false,
   "toc_position": {
    "height": "829px",
    "left": "0px",
    "right": "1413px",
    "top": "110px",
    "width": "267px"
   },
   "toc_section_display": "block",
   "toc_window_display": false
  }
 },
 "nbformat": 4,
 "nbformat_minor": 2
}
