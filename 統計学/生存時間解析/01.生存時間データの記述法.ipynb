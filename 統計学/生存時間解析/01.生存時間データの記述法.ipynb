{
 "cells": [
  {
   "cell_type": "markdown",
   "metadata": {},
   "source": [
    "# ノンパラメトリック手法による生存時間データの記述法"
   ]
  },
  {
   "cell_type": "code",
   "execution_count": 1,
   "metadata": {
    "collapsed": true
   },
   "outputs": [],
   "source": [
    "import numpy as np\n",
    "import pandas as pd\n",
    "from pandas import DataFrame, Series\n",
    "\n",
    "import matplotlib as mpl\n",
    "import matplotlib.pyplot as plt\n",
    "import seaborn as sns\n",
    "\n",
    "# 日本語フォントを設定\n",
    "font = {'family': 'IPAexGothic'}\n",
    "mpl.rc('font', **font)\n",
    "\n",
    "%matplotlib inline"
   ]
  },
  {
   "cell_type": "code",
   "execution_count": 15,
   "metadata": {},
   "outputs": [
    {
     "data": {
      "text/html": [
       "<div>\n",
       "<style>\n",
       "    .dataframe thead tr:only-child th {\n",
       "        text-align: right;\n",
       "    }\n",
       "\n",
       "    .dataframe thead th {\n",
       "        text-align: left;\n",
       "    }\n",
       "\n",
       "    .dataframe tbody tr th {\n",
       "        vertical-align: top;\n",
       "    }\n",
       "</style>\n",
       "<table border=\"1\" class=\"dataframe\">\n",
       "  <thead>\n",
       "    <tr style=\"text-align: right;\">\n",
       "      <th></th>\n",
       "      <th>登録日(観察開始日)</th>\n",
       "      <th>追跡日(観察終了日)</th>\n",
       "      <th>入院期間</th>\n",
       "      <th>追跡日数(観察日数)</th>\n",
       "      <th>生存状態</th>\n",
       "      <th>登録時年齢</th>\n",
       "      <th>性別</th>\n",
       "      <th>BMI</th>\n",
       "    </tr>\n",
       "  </thead>\n",
       "  <tbody>\n",
       "    <tr>\n",
       "      <th>1</th>\n",
       "      <td>03/13/1995</td>\n",
       "      <td>03/19/1995</td>\n",
       "      <td>4</td>\n",
       "      <td>6</td>\n",
       "      <td>1</td>\n",
       "      <td>65</td>\n",
       "      <td>0</td>\n",
       "      <td>31.38134</td>\n",
       "    </tr>\n",
       "    <tr>\n",
       "      <th>2</th>\n",
       "      <td>01/14/1995</td>\n",
       "      <td>01/23/1996</td>\n",
       "      <td>5</td>\n",
       "      <td>374</td>\n",
       "      <td>1</td>\n",
       "      <td>88</td>\n",
       "      <td>1</td>\n",
       "      <td>22.65790</td>\n",
       "    </tr>\n",
       "    <tr>\n",
       "      <th>3</th>\n",
       "      <td>02/17/1995</td>\n",
       "      <td>10/04/2001</td>\n",
       "      <td>5</td>\n",
       "      <td>2421</td>\n",
       "      <td>1</td>\n",
       "      <td>77</td>\n",
       "      <td>0</td>\n",
       "      <td>27.87892</td>\n",
       "    </tr>\n",
       "    <tr>\n",
       "      <th>4</th>\n",
       "      <td>04/07/1995</td>\n",
       "      <td>07/14/1995</td>\n",
       "      <td>9</td>\n",
       "      <td>98</td>\n",
       "      <td>1</td>\n",
       "      <td>81</td>\n",
       "      <td>1</td>\n",
       "      <td>21.47878</td>\n",
       "    </tr>\n",
       "    <tr>\n",
       "      <th>5</th>\n",
       "      <td>02/09/1995</td>\n",
       "      <td>05/29/1998</td>\n",
       "      <td>4</td>\n",
       "      <td>1205</td>\n",
       "      <td>1</td>\n",
       "      <td>78</td>\n",
       "      <td>0</td>\n",
       "      <td>30.70601</td>\n",
       "    </tr>\n",
       "  </tbody>\n",
       "</table>\n",
       "</div>"
      ],
      "text/plain": [
       "   登録日(観察開始日)  追跡日(観察終了日)  入院期間  追跡日数(観察日数)  生存状態  登録時年齢  性別       BMI\n",
       "1  03/13/1995  03/19/1995     4           6     1     65   0  31.38134\n",
       "2  01/14/1995  01/23/1996     5         374     1     88   1  22.65790\n",
       "3  02/17/1995  10/04/2001     5        2421     1     77   0  27.87892\n",
       "4  04/07/1995  07/14/1995     9          98     1     81   1  21.47878\n",
       "5  02/09/1995  05/29/1998     4        1205     1     78   0  30.70601"
      ]
     },
     "execution_count": 15,
     "metadata": {},
     "output_type": "execute_result"
    }
   ],
   "source": [
    "WHAS_SURVIVAL_DATASET_PATH = 'dataset/whas100.dat'\n",
    "COLUMNS = ['登録日(観察開始日)', '追跡日(観察終了日)', '入院期間', '追跡日数(観察日数)', '生存状態', '登録時年齢', '性別', 'BMI']\n",
    "\n",
    "whas_df = pd.read_csv(\n",
    "        WHAS_SURVIVAL_DATASET_PATH,\n",
    "        sep='\\s+',\n",
    "        header=None,\n",
    "        index_col=0, \n",
    "        names=COLUMNS\n",
    "    )\n",
    "whas_df.head()"
   ]
  },
  {
   "cell_type": "markdown",
   "metadata": {},
   "source": [
    "上のデータセットは、急性心筋梗塞にともなう入院後の生存時間データである。このデータを用いて、急性心筋梗塞にともなう入院からの生存時間に対して、性別、年齢、入院時のBMIが与える影響を調べる。"
   ]
  },
  {
   "cell_type": "code",
   "execution_count": 40,
   "metadata": {},
   "outputs": [
    {
     "data": {
      "text/plain": [
       "(array([ 10.,   6.,   3.,   2.,   4.,   0.,   0.,   2.,   1.,   4.,   1.,\n",
       "          2.,   1.,   1.,   3.,   1.,   1.,   2.,   2.,   1.,   1.,   0.,\n",
       "          1.,   0.,   2.]),\n",
       " array([    6.  ,   114.16,   222.32,   330.48,   438.64,   546.8 ,\n",
       "          654.96,   763.12,   871.28,   979.44,  1087.6 ,  1195.76,\n",
       "         1303.92,  1412.08,  1520.24,  1628.4 ,  1736.56,  1844.72,\n",
       "         1952.88,  2061.04,  2169.2 ,  2277.36,  2385.52,  2493.68,\n",
       "         2601.84,  2710.  ]),\n",
       " <a list of 25 Patch objects>)"
      ]
     },
     "execution_count": 40,
     "metadata": {},
     "output_type": "execute_result"
    },
    {
     "data": {
      "image/png": "[encoded data removed]",
      "text/plain": [
       "<matplotlib.figure.Figure at 0x10cf64358>"
      ]
     },
     "metadata": {},
     "output_type": "display_data"
    }
   ],
   "source": [
    "# plt.hist(y['Survival_in_days'], bins=100)\n",
    "plt.hist(whas_df[whas_df['生存状態'] == 1]['追跡日数(観察日数)'].values, bins=25)"
   ]
  },
  {
   "cell_type": "code",
   "execution_count": 6,
   "metadata": {},
   "outputs": [
    {
     "name": "stdout",
     "output_type": "stream",
     "text": [
      "9\n",
      "128\n"
     ]
    }
   ],
   "source": [
    "# print(y[y['Status'] == False].shape[0])\n",
    "# print(y[y['Status'] == True].shape[0])"
   ]
  },
  {
   "cell_type": "code",
   "execution_count": 42,
   "metadata": {},
   "outputs": [
    {
     "data": {
      "text/html": [
       "<div>\n",
       "<style>\n",
       "    .dataframe thead tr:only-child th {\n",
       "        text-align: right;\n",
       "    }\n",
       "\n",
       "    .dataframe thead th {\n",
       "        text-align: left;\n",
       "    }\n",
       "\n",
       "    .dataframe tbody tr th {\n",
       "        vertical-align: top;\n",
       "    }\n",
       "</style>\n",
       "<table border=\"1\" class=\"dataframe\">\n",
       "  <thead>\n",
       "    <tr style=\"text-align: right;\">\n",
       "      <th></th>\n",
       "      <th>Age_in_years</th>\n",
       "      <th>Celltype</th>\n",
       "      <th>Karnofsky_score</th>\n",
       "      <th>Months_from_Diagnosis</th>\n",
       "      <th>Prior_therapy</th>\n",
       "      <th>Treatment</th>\n",
       "    </tr>\n",
       "  </thead>\n",
       "  <tbody>\n",
       "    <tr>\n",
       "      <th>0</th>\n",
       "      <td>69.0</td>\n",
       "      <td>'squamous'</td>\n",
       "      <td>60.0</td>\n",
       "      <td>7.0</td>\n",
       "      <td>'no'</td>\n",
       "      <td>'standard'</td>\n",
       "    </tr>\n",
       "    <tr>\n",
       "      <th>1</th>\n",
       "      <td>64.0</td>\n",
       "      <td>'squamous'</td>\n",
       "      <td>70.0</td>\n",
       "      <td>5.0</td>\n",
       "      <td>'yes'</td>\n",
       "      <td>'standard'</td>\n",
       "    </tr>\n",
       "    <tr>\n",
       "      <th>2</th>\n",
       "      <td>38.0</td>\n",
       "      <td>'squamous'</td>\n",
       "      <td>60.0</td>\n",
       "      <td>3.0</td>\n",
       "      <td>'no'</td>\n",
       "      <td>'standard'</td>\n",
       "    </tr>\n",
       "    <tr>\n",
       "      <th>3</th>\n",
       "      <td>63.0</td>\n",
       "      <td>'squamous'</td>\n",
       "      <td>60.0</td>\n",
       "      <td>9.0</td>\n",
       "      <td>'yes'</td>\n",
       "      <td>'standard'</td>\n",
       "    </tr>\n",
       "    <tr>\n",
       "      <th>4</th>\n",
       "      <td>65.0</td>\n",
       "      <td>'squamous'</td>\n",
       "      <td>70.0</td>\n",
       "      <td>11.0</td>\n",
       "      <td>'yes'</td>\n",
       "      <td>'standard'</td>\n",
       "    </tr>\n",
       "  </tbody>\n",
       "</table>\n",
       "</div>"
      ],
      "text/plain": [
       "   Age_in_years    Celltype  Karnofsky_score  Months_from_Diagnosis  \\\n",
       "0          69.0  'squamous'             60.0                    7.0   \n",
       "1          64.0  'squamous'             70.0                    5.0   \n",
       "2          38.0  'squamous'             60.0                    3.0   \n",
       "3          63.0  'squamous'             60.0                    9.0   \n",
       "4          65.0  'squamous'             70.0                   11.0   \n",
       "\n",
       "  Prior_therapy   Treatment  \n",
       "0          'no'  'standard'  \n",
       "1         'yes'  'standard'  \n",
       "2          'no'  'standard'  \n",
       "3         'yes'  'standard'  \n",
       "4         'yes'  'standard'  "
      ]
     },
     "execution_count": 42,
     "metadata": {},
     "output_type": "execute_result"
    }
   ],
   "source": [
    "from sksurv.datasets import load_veterans_lung_cancer\n",
    "\n",
    "x, y = load_veterans_lung_cancer()\n",
    "x.head()"
   ]
  },
  {
   "cell_type": "markdown",
   "metadata": {},
   "source": [
    " - `Age_in_years`: 年齢\n",
    " - `Celltype`: 細胞の種類; `[squamous(扁平上皮), small cell, adeno(腺癌), large]`\n",
    " - `Karnofsky_score`: カルノフスキースコア(がん患者の日常活動を遂行する能力を計るための標準的な値.0~100)\n",
    " - `Months_from_Diagnosis`: 診断からの経過月数\n",
    " - `Prior_therapy`: 前に治療したかいなか; `[yes, no]`\n",
    " - `Treatment`: 肺癌治療のタイプ; `[standard, test drug]`"
   ]
  },
  {
   "cell_type": "code",
   "execution_count": 43,
   "metadata": {
    "scrolled": false
   },
   "outputs": [
    {
     "data": {
      "text/plain": [
       "array([( True,   72.), ( True,  411.), ( True,  228.), ( True,  126.),\n",
       "       ( True,  118.), ( True,   10.), ( True,   82.), ( True,  110.),\n",
       "       ( True,  314.), (False,  100.), ( True,   42.), ( True,    8.),\n",
       "       ( True,  144.), (False,   25.), ( True,   11.), ( True,   30.),\n",
       "       ( True,  384.), ( True,    4.), ( True,   54.), ( True,   13.),\n",
       "       (False,  123.), (False,   97.), ( True,  153.), ( True,   59.),\n",
       "       ( True,  117.), ( True,   16.), ( True,  151.), ( True,   22.),\n",
       "       ( True,   56.), ( True,   21.), ( True,   18.), ( True,  139.),\n",
       "       ( True,   20.), ( True,   31.), ( True,   52.), ( True,  287.),\n",
       "       ( True,   18.), ( True,   51.), ( True,  122.), ( True,   27.),\n",
       "       ( True,   54.), ( True,    7.), ( True,   63.), ( True,  392.),\n",
       "       ( True,   10.), ( True,    8.), ( True,   92.), ( True,   35.),\n",
       "       ( True,  117.), ( True,  132.), ( True,   12.), ( True,  162.),\n",
       "       ( True,    3.), ( True,   95.), ( True,  177.), ( True,  162.),\n",
       "       ( True,  216.), ( True,  553.), ( True,  278.), ( True,   12.),\n",
       "       ( True,  260.), ( True,  200.), ( True,  156.), (False,  182.),\n",
       "       ( True,  143.), ( True,  105.), ( True,  103.), ( True,  250.),\n",
       "       ( True,  100.), ( True,  999.), ( True,  112.), (False,   87.),\n",
       "       (False,  231.), ( True,  242.), ( True,  991.), ( True,  111.),\n",
       "       ( True,    1.), ( True,  587.), ( True,  389.), ( True,   33.),\n",
       "       ( True,   25.), ( True,  357.), ( True,  467.), ( True,  201.),\n",
       "       ( True,    1.), ( True,   30.), ( True,   44.), ( True,  283.),\n",
       "       ( True,   15.), ( True,   25.), (False,  103.), ( True,   21.),\n",
       "       ( True,   13.), ( True,   87.), ( True,    2.), ( True,   20.),\n",
       "       ( True,    7.), ( True,   24.), ( True,   99.), ( True,    8.),\n",
       "       ( True,   99.), ( True,   61.), ( True,   25.), ( True,   95.),\n",
       "       ( True,   80.), ( True,   51.), ( True,   29.), ( True,   24.),\n",
       "       ( True,   18.), (False,   83.), ( True,   31.), ( True,   51.),\n",
       "       ( True,   90.), ( True,   52.), ( True,   73.), ( True,    8.),\n",
       "       ( True,   36.), ( True,   48.), ( True,    7.), ( True,  140.),\n",
       "       ( True,  186.), ( True,   84.), ( True,   19.), ( True,   45.),\n",
       "       ( True,   80.), ( True,   52.), ( True,  164.), ( True,   19.),\n",
       "       ( True,   53.), ( True,   15.), ( True,   43.), ( True,  340.),\n",
       "       ( True,  133.), ( True,  111.), ( True,  231.), ( True,  378.),\n",
       "       ( True,   49.)],\n",
       "      dtype=[('Status', '?'), ('Survival_in_days', '<f8')])"
      ]
     },
     "execution_count": 43,
     "metadata": {},
     "output_type": "execute_result"
    }
   ],
   "source": [
    "y"
   ]
  },
  {
   "cell_type": "markdown",
   "metadata": {},
   "source": [
    "観測期間中に死亡した場合は`Status`が`True`になり、`False`の場合は右側打切りである。"
   ]
  },
  {
   "cell_type": "markdown",
   "metadata": {},
   "source": [
    "---\n",
    "## 生存関数の推定\n"
   ]
  },
  {
   "cell_type": "code",
   "execution_count": 33,
   "metadata": {
    "collapsed": true
   },
   "outputs": [],
   "source": [
    "whas_df['生存状態'].replace({1: True, 0: False}, inplace=True)"
   ]
  },
  {
   "cell_type": "code",
   "execution_count": 45,
   "metadata": {},
   "outputs": [
    {
     "data": {
      "text/plain": [
       "<matplotlib.text.Text at 0x10d1f3a90>"
      ]
     },
     "execution_count": 45,
     "metadata": {},
     "output_type": "execute_result"
    },
    {
     "data": {
      "image/png": "[encoded data removed]",
      "text/plain": [
       "<matplotlib.figure.Figure at 0x10d1fbf98>"
      ]
     },
     "metadata": {},
     "output_type": "display_data"
    }
   ],
   "source": [
    "from sksurv.nonparametric import kaplan_meier_estimator\n",
    "\n",
    "only_dead = whas_df['生存状態'] == True\n",
    "\n",
    "survival_bools = whas_df[only_dead]['生存状態'].values\n",
    "survival_times = whas_df[only_dead]['追跡日数(観察日数)'].values\n",
    "\n",
    "time, survival_prob = kaplan_meier_estimator(survival_bools, survival_times)\n",
    "\n",
    "plt.step(time, survival_prob, where=\"post\")\n",
    "plt.ylim(0, 1)\n",
    "plt.ylabel(\"生存関数 $\\hat{S}(t)$\")\n",
    "plt.xlabel(\"生存時間 $t$(日数)\")"
   ]
  },
  {
   "cell_type": "code",
   "execution_count": 46,
   "metadata": {},
   "outputs": [
    {
     "data": {
      "image/png": "[encoded data removed]",
      "text/plain": [
       "<matplotlib.figure.Figure at 0x10ee7e198>"
      ]
     },
     "metadata": {},
     "output_type": "display_data"
    }
   ],
   "source": [
    "for treatment_type in x.Treatment.unique():\n",
    "    target_indexs = x[x.Treatment == treatment_type].index\n",
    "    time, survival_prob = kaplan_meier_estimator(\n",
    "        y[target_indexs]['Status'], \n",
    "        y[target_indexs]['Survival_in_days']\n",
    "    )\n",
    "    plt.step(time, survival_prob, where=\"post\", label='Treatment = {0}'.format(treatment_type))\n",
    "\n",
    "plt.ylim(0, 1)\n",
    "plt.ylabel(\"生存関数 $\\hat{S}(t)$\")\n",
    "plt.xlabel(\"生存時間 $t$\")\n",
    "plt.legend()\n",
    "plt.show()"
   ]
  },
  {
   "cell_type": "code",
   "execution_count": null,
   "metadata": {
    "collapsed": true
   },
   "outputs": [],
   "source": []
  }
 ],
 "metadata": {
  "kernelspec": {
   "display_name": "Python 3",
   "language": "python",
   "name": "python3"
  },
  "language_info": {
   "codemirror_mode": {
    "name": "ipython",
    "version": 3
   },
   "file_extension": ".py",
   "mimetype": "text/x-python",
   "name": "python",
   "nbconvert_exporter": "python",
   "pygments_lexer": "ipython3",
   "version": "3.4.5"
  }
 },
 "nbformat": 4,
 "nbformat_minor": 2
}
