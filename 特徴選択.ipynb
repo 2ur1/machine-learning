{
 "cells": [
  {
   "cell_type": "markdown",
   "metadata": {},
   "source": [
    "# 特徴選択(feature selection)\n",
    "> 機械学習と統計学の用語であり、頑健な学習モデルの構築のため、特徴集合のうち意味のある部分集合だけを選択する手法のことを指す。**特徴量選択**、**変数選択**、**特徴削減**、**属性選択**、**素性選択**、**(変数)部分集合選択**などとも呼ばれる。不要で冗長な特徴量をデータから除去することによって、特徴選択は学習モデルを次の点で改善する：\n",
    "\n",
    "> - **<font color=\"blue\">学習を高速化する</font>**\n",
    "> - **<font color=\"blue\">過学習を減らす</font>**\n",
    "> - **<font color=\"blue\">モデルの可読性を改善する</font>**\n",
    "> - **<font color=\"blue\">モデルの精度が向上する</font>**\n",
    ">\n",
    "> 特徴選択を行うと、データのうちどの特徴量が重要でありどのようにそれらが関係しているかなどといった点について、人間が理解しやすくなるという効果もある。\n",
    "\n",
    "**参考文献**\n",
    "> [API Reference — scikit-learn 0.20.0 documentation # sklearn.feature_selection](https://scikit-learn.org/stable/modules/classes.html#module-sklearn.feature_selection)"
   ]
  },
  {
   "cell_type": "code",
   "execution_count": 17,
   "metadata": {},
   "outputs": [],
   "source": [
    "import numpy as np\n",
    "import pandas as pd\n",
    "\n",
    "import matplotlib.pyplot as plt\n",
    "import seaborn as sns\n",
    "\n",
    "%matplotlib inline"
   ]
  },
  {
   "cell_type": "code",
   "execution_count": 95,
   "metadata": {},
   "outputs": [],
   "source": [
    "plt.rcParams['font.family'] = 'AppleGothic'\n",
    "plt.rcParams[\"font.size\"] = 18"
   ]
  },
  {
   "cell_type": "markdown",
   "metadata": {},
   "source": [
    "---\n",
    "# フィルター法(Filter Method)\n",
    "\n",
    "<table align=\"left\">\n",
    "\t<tr>\n",
    "       <td><b>what</b></td>\n",
    "\t\t<td> 説明変数と目的変数の間に統計的に有意な関係があるかどうかにもとづいて選択する方法。<br>しかし、多くのフィルター法は最も良い部分集合を返すよりも、各特徴量のスコアをランキングした形式で返すことが多い</td>\n",
    "\t</tr>\n",
    "\t<tr>\n",
    "       <td rowspan=\"3\"><b>利用場面</b></td>\n",
    "\t\t<td align=\"left\">①特徴量が多すぎてモデルを作ることができない場合<br>→必要な特徴量を抽出するよりも、不必要な特徴量を排除したい場合に有効</td>\n",
    "\t</tr>\n",
    "\t<tr>\n",
    "\t\t<td>②多くの特徴量が全く関係ないと思われるような場合に有効</td>\n",
    "\t</tr>\n",
    "   <tr>\n",
    "       <td>③ラッパー法の前処理として使われることある</td>\n",
    "   </tr>\n",
    "\t<tr>\n",
    "\t\t<td><b>メリット</b></td>\n",
    "\t\t<td>学習・予測処理を伴わないのでラッパー法と比べて非常に高速</td>\n",
    "\t</tr>\n",
    "\t<tr>\n",
    "\t\t<td rowspan=\"2\"><b>デメリット</b></td>\n",
    "\t\t<td align=\"left\">指標の改善を確認してない. </td>\n",
    "\t</tr>\n",
    "\t<tr>\n",
    "\t\t<td align=\"left\">個々の特徴量を個別に考慮するため,他の特徴量と組み合わさって意味を持つような特徴量は捨てられる.</td>\n",
    "\t</tr>\n",
    "\t<tr>\n",
    "\t\t<td><b>別名</b></td>\n",
    "\t\t<td><b>単変量統計</b>,<b>単変量選択</b></td>\n",
    "\t</tr>\n",
    "\t<tr>\n",
    "\t\t<td><b>注意</b></td>\n",
    "\t\t<td>フィルター法では、<b>多重共線性</b>を取り除くことはできないので注意が必要</td>\n",
    "\t</tr>\n",
    "</table>"
   ]
  },
  {
   "cell_type": "markdown",
   "metadata": {},
   "source": [
    "| 特徴量(説明変数)\\予測値(目的変数) | 連続値 | 離散値(カテゴリー変数) |\n",
    "|:-------------------------------------------:|:--------:|:--------------------------:|\n",
    "| 連続値 | ピアソン相関係数 | LDA(線形判別解析) |\n",
    "| 離散値(カテゴリー変数) | Anova(分散分析) | カイ二乗 |"
   ]
  },
  {
   "cell_type": "code",
   "execution_count": null,
   "metadata": {},
   "outputs": [],
   "source": []
  },
  {
   "cell_type": "markdown",
   "metadata": {},
   "source": [
    "## 分散の少ない特徴量の削除\n",
    "[VarianceThreshold](https://scikit-learn.org/stable/modules/generated/sklearn.feature_selection.VarianceThreshold.html#sklearn.feature_selection.VarianceThreshold)は、特徴量選択に対する簡単なベースラインアプローチです。分散がある閾値を満たさないすべての特徴量を削除します。デフォルトでは、すべてのゼロ分散特徴量、つまりすべてのサンプルで同じ値を持つ特徴量が削除されます。<br>\n",
    "\n",
    "たとえば、boolean値の特徴量を持つデータセットがあり、サンプルの80％以上で1またはゼロ（オンまたはオフ）の特徴量をすべて削除したいとします。boolean関数はベルヌーイの確率変数であり、このような変数の分散は\n",
    "\n",
    "$$\n",
    "\\mathrm {Var}\\left[X\\right] = p\\left( 1 - p \\right)\n",
    "$$\n",
    "\n",
    "となる。したがって、閾値`0.8 * (1 - 0.8)`を使用して選択することができます。"
   ]
  },
  {
   "cell_type": "code",
   "execution_count": 156,
   "metadata": {},
   "outputs": [
    {
     "data": {
      "text/plain": [
       "array([[0, 0, 1],\n",
       "       [0, 1, 0],\n",
       "       [1, 0, 0],\n",
       "       [0, 1, 1],\n",
       "       [0, 1, 0],\n",
       "       [0, 1, 1]])"
      ]
     },
     "execution_count": 156,
     "metadata": {},
     "output_type": "execute_result"
    }
   ],
   "source": [
    "X = np.array([[0, 0, 1], [0, 1, 0], [1, 0, 0], [0, 1, 1], [0, 1, 0], [0, 1, 1]])\n",
    "X"
   ]
  },
  {
   "cell_type": "markdown",
   "metadata": {},
   "source": [
    "↑予想では、最初の列が削除される。この列はゼロを含む確率`p=5/6>.8`です。"
   ]
  },
  {
   "cell_type": "code",
   "execution_count": 164,
   "metadata": {},
   "outputs": [
    {
     "name": "stdout",
     "output_type": "stream",
     "text": [
      "分散値 :  [0.13888889 0.22222222 0.25      ]\n",
      "選択された変数(閾値よりも分散値が多い変数) :  [False  True  True]\n"
     ]
    },
    {
     "data": {
      "text/plain": [
       "array([[0, 1],\n",
       "       [1, 0],\n",
       "       [0, 0],\n",
       "       [1, 1],\n",
       "       [1, 0],\n",
       "       [1, 1]])"
      ]
     },
     "execution_count": 164,
     "metadata": {},
     "output_type": "execute_result"
    }
   ],
   "source": [
    "from sklearn.feature_selection import VarianceThreshold\n",
    "\n",
    "\n",
    "threshold = (0.8 * (1 - .8))\n",
    "sel = VarianceThreshold(threshold=threshold)\n",
    "sel.fit(X)\n",
    "\n",
    "print('分散値 : ', sel.variances_)\n",
    "print('選択された変数(閾値よりも分散値が多い変数) : ', sel.get_support(indices=False))   # If True, the return value will be an array of integers, rather than a boolean mask.\n",
    "sel.transform(X)"
   ]
  },
  {
   "cell_type": "markdown",
   "metadata": {},
   "source": [
    "## ピアソン相関係数\n",
    "各特徴量と目的変数との相関係数を計算して、その値からF scoreを計算し、p-valueを求めます。\n",
    "p-valueの値が小さい順にソートすることで、特徴量の重要度が分かるという寸法です。\n",
    "\n",
    " - https://github.com/scikit-learn/scikit-learn/blob/a24c8b46/sklearn/feature_selection/univariate_selection.py#L230"
   ]
  },
  {
   "cell_type": "code",
   "execution_count": null,
   "metadata": {},
   "outputs": [],
   "source": []
  },
  {
   "cell_type": "code",
   "execution_count": 2,
   "metadata": {},
   "outputs": [],
   "source": [
    "# https://scikit-learn.org/stable/modules/generated/sklearn.feature_selection.SelectPercentile.html\n",
    "from sklearn.feature_selection import SelectPercentile, chi2\n"
   ]
  },
  {
   "cell_type": "code",
   "execution_count": 30,
   "metadata": {},
   "outputs": [],
   "source": [
    "x = np.array([1,2,3,4,5])\n",
    "y = np.array([-1, -3, -5, 0, 8])"
   ]
  },
  {
   "cell_type": "code",
   "execution_count": 31,
   "metadata": {},
   "outputs": [
    {
     "data": {
      "text/plain": [
       "array([[1.      , 0.668099],\n",
       "       [0.668099, 1.      ]])"
      ]
     },
     "execution_count": 31,
     "metadata": {},
     "output_type": "execute_result"
    }
   ],
   "source": [
    "np.corrcoef(x, y, rowvar=True)"
   ]
  },
  {
   "cell_type": "code",
   "execution_count": 28,
   "metadata": {},
   "outputs": [
    {
     "data": {
      "text/html": [
       "<div>\n",
       "<style scoped>\n",
       "    .dataframe tbody tr th:only-of-type {\n",
       "        vertical-align: middle;\n",
       "    }\n",
       "\n",
       "    .dataframe tbody tr th {\n",
       "        vertical-align: top;\n",
       "    }\n",
       "\n",
       "    .dataframe thead th {\n",
       "        text-align: right;\n",
       "    }\n",
       "</style>\n",
       "<table border=\"1\" class=\"dataframe\">\n",
       "  <thead>\n",
       "    <tr style=\"text-align: right;\">\n",
       "      <th></th>\n",
       "      <th>x</th>\n",
       "      <th>y</th>\n",
       "    </tr>\n",
       "  </thead>\n",
       "  <tbody>\n",
       "    <tr>\n",
       "      <th>0</th>\n",
       "      <td>1</td>\n",
       "      <td>-1</td>\n",
       "    </tr>\n",
       "    <tr>\n",
       "      <th>1</th>\n",
       "      <td>2</td>\n",
       "      <td>-3</td>\n",
       "    </tr>\n",
       "    <tr>\n",
       "      <th>2</th>\n",
       "      <td>3</td>\n",
       "      <td>-5</td>\n",
       "    </tr>\n",
       "    <tr>\n",
       "      <th>3</th>\n",
       "      <td>4</td>\n",
       "      <td>0</td>\n",
       "    </tr>\n",
       "    <tr>\n",
       "      <th>4</th>\n",
       "      <td>5</td>\n",
       "      <td>8</td>\n",
       "    </tr>\n",
       "  </tbody>\n",
       "</table>\n",
       "</div>"
      ],
      "text/plain": [
       "   x  y\n",
       "0  1 -1\n",
       "1  2 -3\n",
       "2  3 -5\n",
       "3  4  0\n",
       "4  5  8"
      ]
     },
     "execution_count": 28,
     "metadata": {},
     "output_type": "execute_result"
    }
   ],
   "source": [
    "data = pd.DataFrame({\n",
    "    \"x\": x,\n",
    "    \"y\": y\n",
    "})\n",
    "data.head()"
   ]
  },
  {
   "cell_type": "code",
   "execution_count": 29,
   "metadata": {},
   "outputs": [
    {
     "data": {
      "text/html": [
       "<div>\n",
       "<style scoped>\n",
       "    .dataframe tbody tr th:only-of-type {\n",
       "        vertical-align: middle;\n",
       "    }\n",
       "\n",
       "    .dataframe tbody tr th {\n",
       "        vertical-align: top;\n",
       "    }\n",
       "\n",
       "    .dataframe thead th {\n",
       "        text-align: right;\n",
       "    }\n",
       "</style>\n",
       "<table border=\"1\" class=\"dataframe\">\n",
       "  <thead>\n",
       "    <tr style=\"text-align: right;\">\n",
       "      <th></th>\n",
       "      <th>x</th>\n",
       "      <th>y</th>\n",
       "    </tr>\n",
       "  </thead>\n",
       "  <tbody>\n",
       "    <tr>\n",
       "      <th>x</th>\n",
       "      <td>1.000000</td>\n",
       "      <td>0.668099</td>\n",
       "    </tr>\n",
       "    <tr>\n",
       "      <th>y</th>\n",
       "      <td>0.668099</td>\n",
       "      <td>1.000000</td>\n",
       "    </tr>\n",
       "  </tbody>\n",
       "</table>\n",
       "</div>"
      ],
      "text/plain": [
       "          x         y\n",
       "x  1.000000  0.668099\n",
       "y  0.668099  1.000000"
      ]
     },
     "execution_count": 29,
     "metadata": {},
     "output_type": "execute_result"
    }
   ],
   "source": [
    "data.corr()"
   ]
  },
  {
   "cell_type": "markdown",
   "metadata": {},
   "source": [
    "## LDA(線形判別解析)"
   ]
  },
  {
   "cell_type": "code",
   "execution_count": null,
   "metadata": {},
   "outputs": [],
   "source": []
  },
  {
   "cell_type": "code",
   "execution_count": null,
   "metadata": {},
   "outputs": [],
   "source": []
  },
  {
   "cell_type": "markdown",
   "metadata": {},
   "source": [
    "## Anova(分散分析)\n",
    "\n",
    "ANOVA f-valueを計算します<br>\n",
    "中で使われている`f_oneway()`はそれぞれの特徴量に関する分布の平均が一致していることを帰無仮説として検定を行います.\n",
    "\n",
    " - https://github.com/scikit-learn/scikit-learn/blob/a24c8b46/sklearn/feature_selection/univariate_selection.py#L121\n",
    " \n",
    "以下の前提がある状態で検定を行うことに注意してください。\n",
    "\n",
    " - それぞれの特徴量は独立である\n",
    " - それぞれの特徴量の母集団の分布は正規分布である\n",
    " - それぞれの特徴量の母集団の分布の分散はすべて等しい"
   ]
  },
  {
   "cell_type": "code",
   "execution_count": null,
   "metadata": {},
   "outputs": [],
   "source": []
  },
  {
   "cell_type": "code",
   "execution_count": null,
   "metadata": {},
   "outputs": [],
   "source": []
  },
  {
   "cell_type": "markdown",
   "metadata": {},
   "source": [
    "## カイ二乗検定\n",
    "\n",
    "${\\chi}^{2}$統計量をそれぞれの特徴量に対して計算して、scoringをします。<br>\n",
    "${\\chi}^{2}$統計量の計算なので、各特徴量は非負の値でなければならないことに注意してください。\n",
    "\n",
    " - https://github.com/scikit-learn/scikit-learn/blob/a24c8b46/sklearn/feature_selection/univariate_selection.py#L171"
   ]
  },
  {
   "cell_type": "code",
   "execution_count": 9,
   "metadata": {},
   "outputs": [
    {
     "name": "stdout",
     "output_type": "stream",
     "text": [
      "(150, 4)\n",
      "original features count: 4, selected features count: 2\n",
      "feature importance:  [ 10.81782088   3.59449902 116.16984746  67.24482759]\n",
      "pvalues:  [4.47651499e-03 1.65754167e-01 5.94344354e-26 2.50017968e-15]\n"
     ]
    }
   ],
   "source": [
    "from sklearn.datasets import load_iris\n",
    "from sklearn.feature_selection import SelectKBest\n",
    "from sklearn.feature_selection import chi2\n",
    "\n",
    "\n",
    "iris = load_iris()\n",
    "X, y = iris.data, iris.target\n",
    "print(X.shape)\n",
    "\n",
    "# k(=2)変数個だけ選択する\n",
    "selector = SelectKBest(chi2, k=2)\n",
    "X_new = selector.fit_transform(X, y)\n",
    "\n",
    "print('original features count: {}, selected features count: {}'.format(X.shape[1], X_new.shape[1]))\n",
    "print('feature importance: ', selector.scores_)\n",
    "print('pvalues: ', selector.pvalues_)"
   ]
  },
  {
   "cell_type": "markdown",
   "metadata": {},
   "source": [
    "## 相互情報量(Mutual information)\n",
    "各特徴量$x$と目的変数$y$の相互情報量を計算します。\n",
    "$$\n",
    "I\\left( x, y \\right) = \\sum _{x \\in X}{\\sum _{y \\in Y}{ p\\left(x, y\\right)\\log {\\frac {p\\left( x,y \\right)}{p\\left(x\\right)p\\left(y\\right)}} }}\n",
    "$$\n",
    "\n",
    " - 確率変数間の依存を定量化するノンパラメトリックな指標\n",
    " - 2つの変数が独立のとき0になる\n",
    "\n",
    "ノンパラメトリックな手法なので各特徴量の分布は正規分布である必要はなく、非線形な相関関係も検出することができますが、parametricな手法と比べてよりサンプル数を必要とします。\n",
    "\n",
    "上記の相互情報量が最も高い$k$個の特徴量を採用します。"
   ]
  },
  {
   "cell_type": "markdown",
   "metadata": {},
   "source": [
    " - ドキュメント : https://scikit-learn.org/stable/modules/generated/sklearn.feature_selection.mutual_info_classif.html#sklearn.feature_selection.mutual_info_classif\n",
    " - コード : https://github.com/scikit-learn/scikit-learn/blob/a24c8b46/sklearn/feature_selection/mutual_info_.py#L373"
   ]
  },
  {
   "cell_type": "code",
   "execution_count": 166,
   "metadata": {},
   "outputs": [
    {
     "name": "stdout",
     "output_type": "stream",
     "text": [
      "(150, 4)\n",
      "original features count: 4, selected features count: 2\n",
      "feature importance:  [0.48856844 0.23490995 0.98806282 0.98497876]\n",
      "pvalues:  None\n"
     ]
    }
   ],
   "source": [
    "from sklearn.feature_selection import SelectKBest\n",
    "from sklearn.feature_selection import mutual_info_classif\n",
    "\n",
    "\n",
    "iris = load_iris()\n",
    "X, y = iris.data, iris.target\n",
    "print(X.shape)\n",
    "\n",
    "# 相互情報量が最も多いk個の特徴量を採用する\n",
    "K = 2\n",
    "selector = SelectKBest(mutual_info_classif, k=K)\n",
    "X_new = selector.fit_transform(X, y)\n",
    "\n",
    "print('original features count: {}, selected features count: {}'.format(X.shape[1], X_new.shape[1]))\n",
    "print('feature importance: ', selector.scores_)\n",
    "print('pvalues: ', selector.pvalues_)"
   ]
  },
  {
   "cell_type": "markdown",
   "metadata": {},
   "source": [
    " - ドキュメント : https://scikit-learn.org/stable/modules/generated/sklearn.feature_selection.mutual_info_regression.html#sklearn.feature_selection.mutual_info_regression\n",
    " - コード : https://github.com/scikit-learn/scikit-learn/blob/a24c8b46/sklearn/feature_selection/mutual_info_.py#L294"
   ]
  },
  {
   "cell_type": "code",
   "execution_count": 168,
   "metadata": {},
   "outputs": [
    {
     "name": "stdout",
     "output_type": "stream",
     "text": [
      "(150, 4)\n",
      "original features count: 4, selected features count: 2\n",
      "feature importance:  [0.52193781 0.21963923 0.97408565 1.04420499]\n",
      "pvalues:  None\n"
     ]
    },
    {
     "name": "stderr",
     "output_type": "stream",
     "text": [
      "/Users/taiyou/.pyenv/versions/anaconda3-5.0.1/lib/python3.6/site-packages/sklearn/utils/validation.py:475: DataConversionWarning: Data with input dtype int64 was converted to float64 by the scale function.\n",
      "  warnings.warn(msg, DataConversionWarning)\n"
     ]
    }
   ],
   "source": [
    "from sklearn.feature_selection import SelectKBest\n",
    "from sklearn.feature_selection import mutual_info_regression\n",
    "\n",
    "\n",
    "iris = load_iris()\n",
    "X, y = iris.data, iris.target\n",
    "print(X.shape)\n",
    "\n",
    "# 相互情報量が最も多いk個の特徴量を採用する\n",
    "K = 2\n",
    "selector = SelectKBest(mutual_info_regression, k=K)\n",
    "X_new = selector.fit_transform(X, y)\n",
    "\n",
    "print('original features count: {}, selected features count: {}'.format(X.shape[1], X_new.shape[1]))\n",
    "print('feature importance: ', selector.scores_)\n",
    "print('pvalues: ', selector.pvalues_)"
   ]
  },
  {
   "cell_type": "markdown",
   "metadata": {},
   "source": [
    "---\n",
    "# ラッパー法(Wrapper Method)\n",
    "\n",
    "<table>\n",
    "\t<tr>\n",
    "\t\t<th>項目</th>\n",
    "\t\t<th>説明</th>\n",
    "\t</tr>\n",
    "\t<tr>\n",
    "\t\t<td><b>what</b></td>\n",
    "\t\t<td>複数の特徴を同時に使って予測精度の検証を行い、<br>精度が最も高くなるような特徴量の組み合わせを探索していく</td>\n",
    "\t</tr>\n",
    "\t<tr>\n",
    "\t\t<td><b>利用場面</b></td>\n",
    "\t\t<td>予測精度が最大になる特徴ベクトルを得たい</td>\n",
    "\t</tr>\n",
    "\t<tr>\n",
    "\t\t<td><b>メリット</b></td>\n",
    "\t\t<td>与えられた特徴量の組み合わせの中から予測精度が<br>最大になる最適な組み合わせが得られる</td>\n",
    "\t</tr>\n",
    "\t<tr>\n",
    "\t\t<td><b>デメリット</b></td>\n",
    "\t\t<td>特徴量が多い場合は計算に非常に時間を要する</td>\n",
    "\t</tr>\n",
    "\t<tr>\n",
    "\t\t<td><b>別名</b></td>\n",
    "\t\t<td>反復特徴量選択</td>\n",
    "\t</tr>\n",
    "\t<tr>\n",
    "\t\t<td><b>注意</b></td>\n",
    "\t\t<td>ラッパー法ではフィルター法よりも過学習が起きやすい</td>\n",
    "\t</tr>\n",
    "</table>"
   ]
  },
  {
   "cell_type": "code",
   "execution_count": 3,
   "metadata": {},
   "outputs": [],
   "source": [
    "# https://scikit-learn.org/stable/modules/generated/sklearn.feature_selection.RFE.html\n",
    "from sklearn.feature_selection import RFE\n"
   ]
  },
  {
   "cell_type": "code",
   "execution_count": null,
   "metadata": {},
   "outputs": [],
   "source": []
  },
  {
   "cell_type": "code",
   "execution_count": null,
   "metadata": {},
   "outputs": [],
   "source": []
  },
  {
   "cell_type": "markdown",
   "metadata": {},
   "source": [
    "## [ラッパー法](#ラッパー法(Wrapper-Method))>総当たり"
   ]
  },
  {
   "cell_type": "code",
   "execution_count": 51,
   "metadata": {},
   "outputs": [
    {
     "name": "stdout",
     "output_type": "stream",
     "text": [
      "WIP\n"
     ]
    }
   ],
   "source": [
    "print('WIP')"
   ]
  },
  {
   "cell_type": "code",
   "execution_count": null,
   "metadata": {},
   "outputs": [],
   "source": []
  },
  {
   "cell_type": "code",
   "execution_count": null,
   "metadata": {},
   "outputs": [],
   "source": []
  },
  {
   "cell_type": "markdown",
   "metadata": {},
   "source": [
    "## [ラッパー法](#ラッパー法(Wrapper-Method))>最良優先探索\n",
    "https://ja.wikipedia.org/wiki/%E6%9C%80%E8%89%AF%E5%84%AA%E5%85%88%E6%8E%A2%E7%B4%A2"
   ]
  },
  {
   "cell_type": "code",
   "execution_count": 52,
   "metadata": {},
   "outputs": [
    {
     "name": "stdout",
     "output_type": "stream",
     "text": [
      "WIP\n"
     ]
    }
   ],
   "source": [
    "print('WIP')"
   ]
  },
  {
   "cell_type": "code",
   "execution_count": null,
   "metadata": {},
   "outputs": [],
   "source": []
  },
  {
   "cell_type": "code",
   "execution_count": null,
   "metadata": {},
   "outputs": [],
   "source": []
  },
  {
   "cell_type": "markdown",
   "metadata": {},
   "source": [
    "## ラッパー法>焼きなまし法\n",
    "https://ja.wikipedia.org/wiki/%E7%84%BC%E3%81%8D%E3%81%AA%E3%81%BE%E3%81%97%E6%B3%95"
   ]
  },
  {
   "cell_type": "code",
   "execution_count": 53,
   "metadata": {},
   "outputs": [
    {
     "name": "stdout",
     "output_type": "stream",
     "text": [
      "WIP\n"
     ]
    }
   ],
   "source": [
    "print('WIP')"
   ]
  },
  {
   "cell_type": "code",
   "execution_count": null,
   "metadata": {},
   "outputs": [],
   "source": []
  },
  {
   "cell_type": "code",
   "execution_count": null,
   "metadata": {},
   "outputs": [],
   "source": []
  },
  {
   "cell_type": "markdown",
   "metadata": {},
   "source": [
    "## ラッパー法>遺伝的アルゴリズム\n",
    "https://ja.wikipedia.org/wiki/%E9%81%BA%E4%BC%9D%E7%9A%84%E3%82%A2%E3%83%AB%E3%82%B4%E3%83%AA%E3%82%BA%E3%83%A0"
   ]
  },
  {
   "cell_type": "code",
   "execution_count": 54,
   "metadata": {},
   "outputs": [
    {
     "name": "stdout",
     "output_type": "stream",
     "text": [
      "WIP\n"
     ]
    }
   ],
   "source": [
    "print('WIP')"
   ]
  },
  {
   "cell_type": "code",
   "execution_count": null,
   "metadata": {},
   "outputs": [],
   "source": []
  },
  {
   "cell_type": "code",
   "execution_count": null,
   "metadata": {},
   "outputs": [],
   "source": []
  },
  {
   "cell_type": "markdown",
   "metadata": {},
   "source": [
    "## ラッパー法>前進法(Forward Search)\n",
    "\n",
    "**What**\n",
    "> 前進法では、まず全ての特徴量を学習データから取り除いた状態からスタートします。そこから、精度の向上が一番大きくなるような、最も有用な特徴を1つずつ足していきます。これを、精度の変化がなくなるまで反復的に繰り返します.\n",
    ">\n",
    "> **貪欲前向き選択**, **前向き漸次的選択法**(Sequential Forward Selection)とも呼ばれる.\n",
    "\n",
    "**パッケージ**\n",
    "> - [Sequential Feature Selector - mlxtend](http://rasbt.github.io/mlxtend/user_guide/feature_selection/SequentialFeatureSelector/)\n",
    "\n",
    "**アルゴリズムの参考文献**\n",
    "> https://aotamasaki.hatenablog.com/entry/2018/06/14/235157#1-Sequential-Forward-Selection-SFS\n",
    "\n",
    "前進法のアルゴリズムをpythonで実装すると以下のような雰囲気のコードになるかな？\n",
    "```python\n",
    "def get_arg_max_score(model, X, Y, features_selected, features):\n",
    "    \"\"\"全特徴量の中から１つづつモデルに学習させて一番評価の上がった特徴量を返す.\"\"\"\n",
    "    max_score = {}\n",
    "    for j in (features - features_selected):\n",
    "        model.fit(X[features_selected + j], Y)\n",
    "        score = model.score(X[features_selected + j], Y)\n",
    "        if score >= max_score['score']:\n",
    "            max_score['score'] = score\n",
    "            max_score['j'] = j\n",
    "    return max_score['j']\n",
    "\n",
    "\n",
    "model = model  # 推定器\n",
    "p = X.shape[1]  # 特徴量の数\n",
    "features = set(range(0, p)) # 全特徴量の集合\n",
    "features_selected = set()  # 空集合\n",
    "K = 5 # max number of features.\n",
    "k = 0 # 初期値\n",
    "\n",
    "while k < K:\n",
    "    # step 1 : 取り込むことで評価指標(score)が一番上がった特徴量jを取得する\n",
    "    j = get_arg_max_score(model, X, Y, features_selected, features)\n",
    "    # step 2 : 取り込むことで評価が一番上がった特徴を追加する\n",
    "    features_selected.add(j)\n",
    "    # step 3\n",
    "    k += 1\n",
    "\n",
    "return features_selected\n",
    "```"
   ]
  },
  {
   "cell_type": "code",
   "execution_count": 142,
   "metadata": {},
   "outputs": [
    {
     "name": "stdout",
     "output_type": "stream",
     "text": [
      "サンプルの数            :  150\n",
      "説明変数の数           :  4\n",
      "特徴名(説明変数名) :  ['sepal length (cm)', 'sepal width (cm)', 'petal length (cm)', 'petal width (cm)']\n",
      "分類クラス                :  ['setosa' 'versicolor' 'virginica']\n"
     ]
    }
   ],
   "source": [
    "from sklearn.neighbors import KNeighborsClassifier\n",
    "from sklearn.datasets import load_iris\n",
    "\n",
    "\n",
    "iris = load_iris()\n",
    "X = iris.data\n",
    "y = iris.target\n",
    "\n",
    "print('サンプルの数            : ', X.shape[0])\n",
    "print('説明変数の数           : ', X.shape[1])\n",
    "print('特徴名(説明変数名) : ', iris.feature_names)\n",
    "print('分類クラス                : ', iris.target_names)\n",
    "\n",
    "knn = KNeighborsClassifier(n_neighbors=4)"
   ]
  },
  {
   "cell_type": "code",
   "execution_count": 143,
   "metadata": {},
   "outputs": [
    {
     "name": "stdout",
     "output_type": "stream",
     "text": [
      "{1: {'feature_idx': (3,), 'cv_scores': array([0.96666667, 0.96666667, 0.93333333, 0.93333333, 1.        ]), 'avg_score': 0.96, 'feature_names': ('3',)}, 2: {'feature_idx': (2, 3), 'cv_scores': array([0.96666667, 0.96666667, 0.93333333, 0.96666667, 1.        ]), 'avg_score': 0.9666666666666668, 'feature_names': ('2', '3')}, 3: {'feature_idx': (0, 2, 3), 'cv_scores': array([0.96666667, 0.96666667, 0.93333333, 0.93333333, 0.96666667]), 'avg_score': 0.9533333333333334, 'feature_names': ('0', '2', '3')}}\n"
     ]
    },
    {
     "data": {
      "text/html": [
       "<div>\n",
       "<style scoped>\n",
       "    .dataframe tbody tr th:only-of-type {\n",
       "        vertical-align: middle;\n",
       "    }\n",
       "\n",
       "    .dataframe tbody tr th {\n",
       "        vertical-align: top;\n",
       "    }\n",
       "\n",
       "    .dataframe thead th {\n",
       "        text-align: right;\n",
       "    }\n",
       "</style>\n",
       "<table border=\"1\" class=\"dataframe\">\n",
       "  <thead>\n",
       "    <tr style=\"text-align: right;\">\n",
       "      <th></th>\n",
       "      <th>avg_score</th>\n",
       "      <th>ci_bound</th>\n",
       "      <th>cv_scores</th>\n",
       "      <th>feature_idx</th>\n",
       "      <th>feature_names</th>\n",
       "      <th>std_dev</th>\n",
       "      <th>std_err</th>\n",
       "    </tr>\n",
       "  </thead>\n",
       "  <tbody>\n",
       "    <tr>\n",
       "      <th>1</th>\n",
       "      <td>0.96</td>\n",
       "      <td>0.0320608</td>\n",
       "      <td>[0.9666666666666667, 0.9666666666666667, 0.933...</td>\n",
       "      <td>(3,)</td>\n",
       "      <td>(3,)</td>\n",
       "      <td>0.0249444</td>\n",
       "      <td>0.0124722</td>\n",
       "    </tr>\n",
       "    <tr>\n",
       "      <th>2</th>\n",
       "      <td>0.966667</td>\n",
       "      <td>0.0270963</td>\n",
       "      <td>[0.9666666666666667, 0.9666666666666667, 0.933...</td>\n",
       "      <td>(2, 3)</td>\n",
       "      <td>(2, 3)</td>\n",
       "      <td>0.0210819</td>\n",
       "      <td>0.0105409</td>\n",
       "    </tr>\n",
       "    <tr>\n",
       "      <th>3</th>\n",
       "      <td>0.953333</td>\n",
       "      <td>0.0209887</td>\n",
       "      <td>[0.9666666666666667, 0.9666666666666667, 0.933...</td>\n",
       "      <td>(0, 2, 3)</td>\n",
       "      <td>(0, 2, 3)</td>\n",
       "      <td>0.0163299</td>\n",
       "      <td>0.00816497</td>\n",
       "    </tr>\n",
       "  </tbody>\n",
       "</table>\n",
       "</div>"
      ],
      "text/plain": [
       "  avg_score   ci_bound                                          cv_scores  \\\n",
       "1      0.96  0.0320608  [0.9666666666666667, 0.9666666666666667, 0.933...   \n",
       "2  0.966667  0.0270963  [0.9666666666666667, 0.9666666666666667, 0.933...   \n",
       "3  0.953333  0.0209887  [0.9666666666666667, 0.9666666666666667, 0.933...   \n",
       "\n",
       "  feature_idx feature_names    std_dev     std_err  \n",
       "1        (3,)          (3,)  0.0249444   0.0124722  \n",
       "2      (2, 3)        (2, 3)  0.0210819   0.0105409  \n",
       "3   (0, 2, 3)     (0, 2, 3)  0.0163299  0.00816497  "
      ]
     },
     "execution_count": 143,
     "metadata": {},
     "output_type": "execute_result"
    }
   ],
   "source": [
    "from mlxtend.feature_selection import SequentialFeatureSelector as SFS\n",
    "\n",
    "K = 3\n",
    "\n",
    "FS = SFS(\n",
    "        knn,                             # 使う学習器\n",
    "        k_features=K,           # 特徴を最大いくつまで選択するか\n",
    "        forward=True,           # Trueで前進法(Forward Search)になる. Falseで後退法(Backward Elimination)\n",
    "        floating=False,          # 3: SFFS, 2: SBFS, FalseでSFS, SBSのただ単に追加/削除していくアルゴリズムが実行される.\n",
    "        verbose=0,               # 実行時のlogをどれだけ詳しく表示するか\n",
    "        scoring='accuracy', # 評価指標\n",
    "        cv=5                          # クロスバリデーション\n",
    "    )\n",
    "#ちなみにクロスバリデーションをしない(cv=0)とすると、最終的に選ばれる特徴が変わります。\n",
    "\n",
    "FS.fit(X, y)\n",
    "\n",
    "print(FS.subsets_)\n",
    "pd.DataFrame.from_dict(FS.get_metric_dict()).T"
   ]
  },
  {
   "cell_type": "code",
   "execution_count": 144,
   "metadata": {},
   "outputs": [
    {
     "data": {
      "image/png": "[encoded data removed]",
      "text/plain": [
       "<matplotlib.figure.Figure at 0x1a1bd93898>"
      ]
     },
     "metadata": {},
     "output_type": "display_data"
    },
    {
     "name": "stdout",
     "output_type": "stream",
     "text": [
      "最終的に選ばれた3つの特徴\n",
      "1 番目  sepal length (cm)\n",
      "3 番目  petal length (cm)\n",
      "4 番目  petal width (cm)\n"
     ]
    }
   ],
   "source": [
    "from mlxtend.plotting import plot_sequential_feature_selection as plot_sfs\n",
    "\n",
    "\n",
    "fig1 = plot_sfs(FS.get_metric_dict(), kind='std_dev')\n",
    "\n",
    "plt.ylim([0.8, 1])\n",
    "plt.title('前進法(Forward Search)')\n",
    "plt.grid()\n",
    "plt.show()\n",
    "\n",
    "\n",
    "print('最終的に選ばれた' + str(K) + 'つの特徴')\n",
    "for i in FS.k_feature_idx_:\n",
    "    print(i+1,'番目 ',iris.feature_names[i])"
   ]
  },
  {
   "cell_type": "code",
   "execution_count": 145,
   "metadata": {},
   "outputs": [
    {
     "data": {
      "text/plain": [
       "array([[5.1, 1.4, 0.2],\n",
       "       [4.9, 1.4, 0.2],\n",
       "       [4.7, 1.3, 0.2],\n",
       "       [4.6, 1.5, 0.2],\n",
       "       [5. , 1.4, 0.2]])"
      ]
     },
     "execution_count": 145,
     "metadata": {},
     "output_type": "execute_result"
    }
   ],
   "source": [
    "X_selected = FS.transform(X)\n",
    "X_selected[:5]"
   ]
  },
  {
   "cell_type": "code",
   "execution_count": null,
   "metadata": {},
   "outputs": [],
   "source": [
    "FS = SFS(\n",
    "        estimator=knn, \n",
    "        k_features=3,\n",
    "        forward=True, \n",
    "        floating=False, \n",
    "        scoring='accuracy',\n",
    "        cv=5\n",
    "    )\n",
    "\n",
    "pipe = Pipeline([\n",
    "        ('sfs', FS), \n",
    "        ('knn', knn)\n",
    "    ])\n",
    "\n",
    "param_grid = [{\n",
    "        'sfs__k_features': [1, 2, 3, 4],\n",
    "        'sfs__estimator__n_neighbors': [1, 2, 3, 4]\n",
    "    }]\n",
    "\n",
    "gs = GridSearchCV(\n",
    "        estimator=pipe, \n",
    "        param_grid=param_grid, \n",
    "        scoring='accuracy', \n",
    "        n_jobs=1, \n",
    "        cv=5,  \n",
    "        refit=False\n",
    "    )"
   ]
  },
  {
   "cell_type": "markdown",
   "metadata": {},
   "source": [
    "## Sequential Forward Floating Selection (SFFS)\n",
    "> *Forward Searchの亜種. アルゴリズムは取り込むことで評価が上がるものを含むところまで同じで、その後に削除すべき特徴があるか探す工程を追加している*\n",
    ">\n",
    "> *\"逐次前進フローティング選択法\"*\n",
    "\n",
    "**アルゴリズムの参考文献**\n",
    "> https://aotamasaki.hatenablog.com/entry/2018/06/14/235157#3-Sequential-Forward-Floating-Selection-SFFS"
   ]
  },
  {
   "cell_type": "code",
   "execution_count": 102,
   "metadata": {},
   "outputs": [
    {
     "name": "stdout",
     "output_type": "stream",
     "text": [
      "{1: {'feature_idx': (3,), 'cv_scores': array([0.96666667, 0.96666667, 0.93333333, 0.93333333, 1.        ]), 'avg_score': 0.96, 'feature_names': ('3',)}, 2: {'feature_idx': (2, 3), 'cv_scores': array([0.96666667, 0.96666667, 0.93333333, 0.96666667, 1.        ]), 'avg_score': 0.9666666666666668, 'feature_names': ('2', '3')}, 3: {'feature_idx': (0, 2, 3), 'cv_scores': array([0.96666667, 0.96666667, 0.93333333, 0.93333333, 0.96666667]), 'avg_score': 0.9533333333333334, 'feature_names': ('0', '2', '3')}}\n"
     ]
    },
    {
     "data": {
      "text/html": [
       "<div>\n",
       "<style scoped>\n",
       "    .dataframe tbody tr th:only-of-type {\n",
       "        vertical-align: middle;\n",
       "    }\n",
       "\n",
       "    .dataframe tbody tr th {\n",
       "        vertical-align: top;\n",
       "    }\n",
       "\n",
       "    .dataframe thead th {\n",
       "        text-align: right;\n",
       "    }\n",
       "</style>\n",
       "<table border=\"1\" class=\"dataframe\">\n",
       "  <thead>\n",
       "    <tr style=\"text-align: right;\">\n",
       "      <th></th>\n",
       "      <th>avg_score</th>\n",
       "      <th>ci_bound</th>\n",
       "      <th>cv_scores</th>\n",
       "      <th>feature_idx</th>\n",
       "      <th>feature_names</th>\n",
       "      <th>std_dev</th>\n",
       "      <th>std_err</th>\n",
       "    </tr>\n",
       "  </thead>\n",
       "  <tbody>\n",
       "    <tr>\n",
       "      <th>1</th>\n",
       "      <td>0.96</td>\n",
       "      <td>0.0320608</td>\n",
       "      <td>[0.9666666666666667, 0.9666666666666667, 0.933...</td>\n",
       "      <td>(3,)</td>\n",
       "      <td>(3,)</td>\n",
       "      <td>0.0249444</td>\n",
       "      <td>0.0124722</td>\n",
       "    </tr>\n",
       "    <tr>\n",
       "      <th>2</th>\n",
       "      <td>0.966667</td>\n",
       "      <td>0.0270963</td>\n",
       "      <td>[0.9666666666666667, 0.9666666666666667, 0.933...</td>\n",
       "      <td>(2, 3)</td>\n",
       "      <td>(2, 3)</td>\n",
       "      <td>0.0210819</td>\n",
       "      <td>0.0105409</td>\n",
       "    </tr>\n",
       "    <tr>\n",
       "      <th>3</th>\n",
       "      <td>0.953333</td>\n",
       "      <td>0.0209887</td>\n",
       "      <td>[0.9666666666666667, 0.9666666666666667, 0.933...</td>\n",
       "      <td>(0, 2, 3)</td>\n",
       "      <td>(0, 2, 3)</td>\n",
       "      <td>0.0163299</td>\n",
       "      <td>0.00816497</td>\n",
       "    </tr>\n",
       "  </tbody>\n",
       "</table>\n",
       "</div>"
      ],
      "text/plain": [
       "  avg_score   ci_bound                                          cv_scores  \\\n",
       "1      0.96  0.0320608  [0.9666666666666667, 0.9666666666666667, 0.933...   \n",
       "2  0.966667  0.0270963  [0.9666666666666667, 0.9666666666666667, 0.933...   \n",
       "3  0.953333  0.0209887  [0.9666666666666667, 0.9666666666666667, 0.933...   \n",
       "\n",
       "  feature_idx feature_names    std_dev     std_err  \n",
       "1        (3,)          (3,)  0.0249444   0.0124722  \n",
       "2      (2, 3)        (2, 3)  0.0210819   0.0105409  \n",
       "3   (0, 2, 3)     (0, 2, 3)  0.0163299  0.00816497  "
      ]
     },
     "execution_count": 102,
     "metadata": {},
     "output_type": "execute_result"
    }
   ],
   "source": [
    "from mlxtend.feature_selection import SequentialFeatureSelector as SFS\n",
    "\n",
    "\n",
    "SFFS = SFS(\n",
    "        knn,                             # 使う学習器\n",
    "        k_features=3,           # 特徴をいくつまで選択するか\n",
    "        forward=True,           # Trueで前進法(Forward Search)になる. Falseで後退法(Backward Elimination)\n",
    "        floating=3,                # 3: SFFS, 2: SBFS, FalseでSFS, SBSのただ単に追加/削除していくアルゴリズムが実行される.\n",
    "        verbose=0,               # 実行時のlogをどれだけ詳しく表示するか\n",
    "        scoring='accuracy', # 評価指標\n",
    "        cv=5                          # クロスバリデーション\n",
    "    )\n",
    "#ちなみにクロスバリデーションをしない(cv=0)とすると、最終的に選ばれる特徴が変わります。\n",
    "\n",
    "SFFS.fit(X, y)\n",
    "\n",
    "print(SFFS.subsets_)\n",
    "\n",
    "pd.DataFrame.from_dict(SFFS.get_metric_dict()).T"
   ]
  },
  {
   "cell_type": "code",
   "execution_count": 126,
   "metadata": {},
   "outputs": [
    {
     "data": {
      "image/png": "[encoded data removed]",
      "text/plain": [
       "<matplotlib.figure.Figure at 0x1a1b839470>"
      ]
     },
     "metadata": {},
     "output_type": "display_data"
    },
    {
     "name": "stdout",
     "output_type": "stream",
     "text": [
      "最終的に選ばれた3つの特徴\n",
      "1 番目  sepal length (cm)\n",
      "3 番目  petal length (cm)\n",
      "4 番目  petal width (cm)\n"
     ]
    }
   ],
   "source": [
    "from mlxtend.plotting import plot_sequential_feature_selection as plot_sfs\n",
    "\n",
    "\n",
    "fig1 = plot_sfs(forward_search.get_metric_dict(), kind='std_dev')\n",
    "\n",
    "plt.ylim([0.8, 1])\n",
    "plt.title('Sequential Forward Floating Selection (SFFS)')\n",
    "plt.grid()\n",
    "plt.show()\n",
    "\n",
    "\n",
    "print('最終的に選ばれた3つの特徴')\n",
    "for i in SFFS.k_feature_idx_:\n",
    "    print(i+1,'番目 ',iris.feature_names[i])"
   ]
  },
  {
   "cell_type": "code",
   "execution_count": 137,
   "metadata": {},
   "outputs": [
    {
     "data": {
      "text/plain": [
       "array([[5.1, 1.4, 0.2],\n",
       "       [4.9, 1.4, 0.2],\n",
       "       [4.7, 1.3, 0.2],\n",
       "       [4.6, 1.5, 0.2],\n",
       "       [5. , 1.4, 0.2]])"
      ]
     },
     "execution_count": 137,
     "metadata": {},
     "output_type": "execute_result"
    }
   ],
   "source": [
    "X_selected = SFFS.transform(X)\n",
    "X_selected[:5]"
   ]
  },
  {
   "cell_type": "markdown",
   "metadata": {},
   "source": [
    "## 後退法(Backward Elimination)\n",
    "> 後退法では、まず全ての特徴を学習データに含めた状態からスタートします. そこから、精度の向上が一番大きくなるような、最も不要な特徴を1つずつ取り除いていきます。これを、精度の変化がなくなるまで反復的に繰り返します.\n",
    "> \n",
    "> **貪欲後ろ向き選択**, **後向き漸次的選択法**(Sequential Backward Selection)とも呼ばれる.\n",
    "\n",
    "\n",
    "> すべての特徴を含んだモデルから始める。もっとも重要でないと判断された特徴を削除していく。モデルのパフォーマンスが改善しなくなるまで削除を繰り返す。"
   ]
  },
  {
   "cell_type": "code",
   "execution_count": 133,
   "metadata": {},
   "outputs": [
    {
     "name": "stdout",
     "output_type": "stream",
     "text": [
      "{4: {'feature_idx': (0, 1, 2, 3), 'cv_scores': array([0.96666667, 0.96666667, 0.96666667, 0.96666667, 1.        ]), 'avg_score': 0.9733333333333334, 'feature_names': ('0', '1', '2', '3')}, 3: {'feature_idx': (0, 1, 3), 'cv_scores': array([0.93333333, 0.96666667, 0.96666667, 0.93333333, 0.96666667]), 'avg_score': 0.9533333333333334, 'feature_names': ('0', '1', '3')}}\n"
     ]
    },
    {
     "data": {
      "text/html": [
       "<div>\n",
       "<style scoped>\n",
       "    .dataframe tbody tr th:only-of-type {\n",
       "        vertical-align: middle;\n",
       "    }\n",
       "\n",
       "    .dataframe tbody tr th {\n",
       "        vertical-align: top;\n",
       "    }\n",
       "\n",
       "    .dataframe thead th {\n",
       "        text-align: right;\n",
       "    }\n",
       "</style>\n",
       "<table border=\"1\" class=\"dataframe\">\n",
       "  <thead>\n",
       "    <tr style=\"text-align: right;\">\n",
       "      <th></th>\n",
       "      <th>avg_score</th>\n",
       "      <th>ci_bound</th>\n",
       "      <th>cv_scores</th>\n",
       "      <th>feature_idx</th>\n",
       "      <th>feature_names</th>\n",
       "      <th>std_dev</th>\n",
       "      <th>std_err</th>\n",
       "    </tr>\n",
       "  </thead>\n",
       "  <tbody>\n",
       "    <tr>\n",
       "      <th>4</th>\n",
       "      <td>0.973333</td>\n",
       "      <td>0.0171372</td>\n",
       "      <td>[0.9666666666666667, 0.9666666666666667, 0.966...</td>\n",
       "      <td>(0, 1, 2, 3)</td>\n",
       "      <td>(0, 1, 2, 3)</td>\n",
       "      <td>0.0133333</td>\n",
       "      <td>0.00666667</td>\n",
       "    </tr>\n",
       "    <tr>\n",
       "      <th>3</th>\n",
       "      <td>0.953333</td>\n",
       "      <td>0.0209887</td>\n",
       "      <td>[0.9333333333333333, 0.9666666666666667, 0.966...</td>\n",
       "      <td>(0, 1, 3)</td>\n",
       "      <td>(0, 1, 3)</td>\n",
       "      <td>0.0163299</td>\n",
       "      <td>0.00816497</td>\n",
       "    </tr>\n",
       "  </tbody>\n",
       "</table>\n",
       "</div>"
      ],
      "text/plain": [
       "  avg_score   ci_bound                                          cv_scores  \\\n",
       "4  0.973333  0.0171372  [0.9666666666666667, 0.9666666666666667, 0.966...   \n",
       "3  0.953333  0.0209887  [0.9333333333333333, 0.9666666666666667, 0.966...   \n",
       "\n",
       "    feature_idx feature_names    std_dev     std_err  \n",
       "4  (0, 1, 2, 3)  (0, 1, 2, 3)  0.0133333  0.00666667  \n",
       "3     (0, 1, 3)     (0, 1, 3)  0.0163299  0.00816497  "
      ]
     },
     "execution_count": 133,
     "metadata": {},
     "output_type": "execute_result"
    }
   ],
   "source": [
    "from mlxtend.feature_selection import SequentialFeatureSelector as SFS\n",
    "\n",
    "K = 3\n",
    "\n",
    "BE = SFS(\n",
    "        knn,                             # 使う学習器\n",
    "        k_features=K,           # 特徴をいくつまで削除するか\n",
    "        forward=False,           # Trueで前進法(Forward Search)になる. Falseで後退法(Backward Elimination)\n",
    "        floating=False,          # 3: SFFS, 2: SBFS, FalseでSFS, SBSのただ単に追加/削除していくアルゴリズムが実行される.\n",
    "        verbose=0,               # 実行時のlogをどれだけ詳しく表示するか\n",
    "        scoring='accuracy', # 評価指標\n",
    "        cv=5                          # クロスバリデーション\n",
    "    )\n",
    "#ちなみにクロスバリデーションをしない(cv=0)とすると、最終的に選ばれる特徴が変わります。\n",
    "\n",
    "BE.fit(X, y)\n",
    "\n",
    "print(BE.subsets_)\n",
    "pd.DataFrame.from_dict(BE.get_metric_dict()).T"
   ]
  },
  {
   "cell_type": "code",
   "execution_count": 134,
   "metadata": {},
   "outputs": [
    {
     "data": {
      "image/png": "[encoded data removed]",
      "text/plain": [
       "<matplotlib.figure.Figure at 0x1a1bb6c588>"
      ]
     },
     "metadata": {},
     "output_type": "display_data"
    },
    {
     "name": "stdout",
     "output_type": "stream",
     "text": [
      "最終的に選ばれた3つの特徴\n",
      "1 番目  sepal length (cm)\n",
      "2 番目  sepal width (cm)\n",
      "4 番目  petal width (cm)\n"
     ]
    }
   ],
   "source": [
    "from mlxtend.plotting import plot_sequential_feature_selection as plot_sfs\n",
    "\n",
    "\n",
    "fig1 = plot_sfs(BE.get_metric_dict(), kind='std_dev')\n",
    "\n",
    "plt.ylim([0.8, 1])\n",
    "plt.title('後退法(Backward Elimination)')\n",
    "plt.grid()\n",
    "plt.show()\n",
    "\n",
    "\n",
    "print('最終的に選ばれた'+ str(K) + 'つの特徴')\n",
    "for i in BE.k_feature_idx_:\n",
    "    print(i+1,'番目 ',iris.feature_names[i])"
   ]
  },
  {
   "cell_type": "code",
   "execution_count": 136,
   "metadata": {},
   "outputs": [
    {
     "data": {
      "text/plain": [
       "array([[5.1, 3.5, 0.2],\n",
       "       [4.9, 3. , 0.2],\n",
       "       [4.7, 3.2, 0.2],\n",
       "       [4.6, 3.1, 0.2],\n",
       "       [5. , 3.6, 0.2]])"
      ]
     },
     "execution_count": 136,
     "metadata": {},
     "output_type": "execute_result"
    }
   ],
   "source": [
    "X_selected = BE.transform(X)\n",
    "X_selected[:5]"
   ]
  },
  {
   "cell_type": "markdown",
   "metadata": {},
   "source": [
    "## Sequential Backward Floating Selection(SBFS)\n",
    "> 後退法(Backward Elimination)と同じようなもの. Sequential Forward Floating Selection (SFFS)は特徴追加していったが、これは削除していくだけである."
   ]
  },
  {
   "cell_type": "code",
   "execution_count": 119,
   "metadata": {},
   "outputs": [
    {
     "name": "stdout",
     "output_type": "stream",
     "text": [
      "{4: {'feature_idx': (0, 1, 2, 3), 'cv_scores': array([0.96666667, 0.96666667, 0.96666667, 0.96666667, 1.        ]), 'avg_score': 0.9733333333333334, 'feature_names': ('0', '1', '2', '3')}, 3: {'feature_idx': (0, 1, 3), 'cv_scores': array([0.93333333, 0.96666667, 0.96666667, 0.93333333, 0.96666667]), 'avg_score': 0.9533333333333334, 'feature_names': ('0', '1', '3')}, 2: {'feature_idx': (2, 3), 'cv_scores': array([0.96666667, 0.96666667, 0.93333333, 0.96666667, 1.        ]), 'avg_score': 0.9666666666666668, 'feature_names': ('2', '3')}, 1: {'feature_idx': (3,), 'cv_scores': array([0.96666667, 0.96666667, 0.93333333, 0.93333333, 1.        ]), 'avg_score': 0.96, 'feature_names': ('3',)}}\n"
     ]
    },
    {
     "data": {
      "text/html": [
       "<div>\n",
       "<style scoped>\n",
       "    .dataframe tbody tr th:only-of-type {\n",
       "        vertical-align: middle;\n",
       "    }\n",
       "\n",
       "    .dataframe tbody tr th {\n",
       "        vertical-align: top;\n",
       "    }\n",
       "\n",
       "    .dataframe thead th {\n",
       "        text-align: right;\n",
       "    }\n",
       "</style>\n",
       "<table border=\"1\" class=\"dataframe\">\n",
       "  <thead>\n",
       "    <tr style=\"text-align: right;\">\n",
       "      <th></th>\n",
       "      <th>avg_score</th>\n",
       "      <th>ci_bound</th>\n",
       "      <th>cv_scores</th>\n",
       "      <th>feature_idx</th>\n",
       "      <th>feature_names</th>\n",
       "      <th>std_dev</th>\n",
       "      <th>std_err</th>\n",
       "    </tr>\n",
       "  </thead>\n",
       "  <tbody>\n",
       "    <tr>\n",
       "      <th>4</th>\n",
       "      <td>0.973333</td>\n",
       "      <td>0.0171372</td>\n",
       "      <td>[0.9666666666666667, 0.9666666666666667, 0.966...</td>\n",
       "      <td>(0, 1, 2, 3)</td>\n",
       "      <td>(0, 1, 2, 3)</td>\n",
       "      <td>0.0133333</td>\n",
       "      <td>0.00666667</td>\n",
       "    </tr>\n",
       "    <tr>\n",
       "      <th>3</th>\n",
       "      <td>0.953333</td>\n",
       "      <td>0.0209887</td>\n",
       "      <td>[0.9333333333333333, 0.9666666666666667, 0.966...</td>\n",
       "      <td>(0, 1, 3)</td>\n",
       "      <td>(0, 1, 3)</td>\n",
       "      <td>0.0163299</td>\n",
       "      <td>0.00816497</td>\n",
       "    </tr>\n",
       "    <tr>\n",
       "      <th>2</th>\n",
       "      <td>0.966667</td>\n",
       "      <td>0.0270963</td>\n",
       "      <td>[0.9666666666666667, 0.9666666666666667, 0.933...</td>\n",
       "      <td>(2, 3)</td>\n",
       "      <td>(2, 3)</td>\n",
       "      <td>0.0210819</td>\n",
       "      <td>0.0105409</td>\n",
       "    </tr>\n",
       "    <tr>\n",
       "      <th>1</th>\n",
       "      <td>0.96</td>\n",
       "      <td>0.0320608</td>\n",
       "      <td>[0.9666666666666667, 0.9666666666666667, 0.933...</td>\n",
       "      <td>(3,)</td>\n",
       "      <td>(3,)</td>\n",
       "      <td>0.0249444</td>\n",
       "      <td>0.0124722</td>\n",
       "    </tr>\n",
       "  </tbody>\n",
       "</table>\n",
       "</div>"
      ],
      "text/plain": [
       "  avg_score   ci_bound                                          cv_scores  \\\n",
       "4  0.973333  0.0171372  [0.9666666666666667, 0.9666666666666667, 0.966...   \n",
       "3  0.953333  0.0209887  [0.9333333333333333, 0.9666666666666667, 0.966...   \n",
       "2  0.966667  0.0270963  [0.9666666666666667, 0.9666666666666667, 0.933...   \n",
       "1      0.96  0.0320608  [0.9666666666666667, 0.9666666666666667, 0.933...   \n",
       "\n",
       "    feature_idx feature_names    std_dev     std_err  \n",
       "4  (0, 1, 2, 3)  (0, 1, 2, 3)  0.0133333  0.00666667  \n",
       "3     (0, 1, 3)     (0, 1, 3)  0.0163299  0.00816497  \n",
       "2        (2, 3)        (2, 3)  0.0210819   0.0105409  \n",
       "1          (3,)          (3,)  0.0249444   0.0124722  "
      ]
     },
     "execution_count": 119,
     "metadata": {},
     "output_type": "execute_result"
    }
   ],
   "source": [
    "from mlxtend.feature_selection import SequentialFeatureSelector as SFS\n",
    "\n",
    "\n",
    "K = 1\n",
    "\n",
    "SBFS = SFS(\n",
    "        knn,                             # 使う学習器\n",
    "        k_features=K,           # 特徴をいくつまで削除するか\n",
    "        forward=False,           # Trueで前進法(Forward Search)になる. Falseで後退法(Backward Elimination)\n",
    "        floating=2,                # 3: SFFS, 2: SBFS, FalseでSFS, SBSのただ単に追加/削除していくアルゴリズムが実行される.\n",
    "        verbose=0,               # 実行時のlogをどれだけ詳しく表示するか\n",
    "        scoring='accuracy', # 評価指標\n",
    "        cv=5                          # クロスバリデーション\n",
    "    )\n",
    "#ちなみにクロスバリデーションをしない(cv=0)とすると、最終的に選ばれる特徴が変わります。\n",
    "\n",
    "SBFS.fit(X, y)\n",
    "\n",
    "print(SBFS.subsets_)\n",
    "pd.DataFrame.from_dict(SBFS.get_metric_dict()).T"
   ]
  },
  {
   "cell_type": "code",
   "execution_count": 124,
   "metadata": {},
   "outputs": [
    {
     "data": {
      "image/png": "[encoded data removed]",
      "text/plain": [
       "<matplotlib.figure.Figure at 0x1a1b7de710>"
      ]
     },
     "metadata": {},
     "output_type": "display_data"
    },
    {
     "name": "stdout",
     "output_type": "stream",
     "text": [
      "最終的に選ばれた1つの特徴\n",
      "4 番目  petal width (cm)\n"
     ]
    }
   ],
   "source": [
    "from mlxtend.plotting import plot_sequential_feature_selection as plot_sfs\n",
    "\n",
    "\n",
    "fig1 = plot_sfs(SBFS.get_metric_dict(), kind='std_dev')\n",
    "\n",
    "plt.ylim([0.8, 1])\n",
    "plt.title('後退法(Backward Elimination)')\n",
    "plt.grid()\n",
    "plt.show()\n",
    "\n",
    "print('最終的に選ばれた' + str(K) + 'つの特徴')\n",
    "for i in SBFS.k_feature_idx_:\n",
    "    print(i+1,'番目 ', iris.feature_names[i])"
   ]
  },
  {
   "cell_type": "code",
   "execution_count": 131,
   "metadata": {},
   "outputs": [
    {
     "data": {
      "text/plain": [
       "array([[0.2],\n",
       "       [0.2],\n",
       "       [0.2],\n",
       "       [0.2],\n",
       "       [0.2]])"
      ]
     },
     "execution_count": 131,
     "metadata": {},
     "output_type": "execute_result"
    }
   ],
   "source": [
    "X_selected = SBFS.transform(X)\n",
    "X_selected[:5]"
   ]
  },
  {
   "cell_type": "markdown",
   "metadata": {},
   "source": [
    "## Recursive Feature Elimination\n",
    "最高性能の特徴部分集合を探す貪欲なアルゴリズム。\n",
    "\n",
    "> 変数減少法に近い実装として、sklern.feature_selection.RFE、および、RFEに交差検証を追加したRFECV(交差検証)があります。\n",
    ">\n",
    "> RFEは、変数減少法と同じく、最初に全ての特徴量を使ってモデルを構築します。 そのモデルの中で最も重要度の低いを特徴量を削り、性能を再計測するという処理を、指定数(デフォルトでは1)の特徴量になるまで繰り返します。 重要度の指標にはfeature_importancesやcoefが使われます。\n",
    ">\n",
    "> 乳がんデートセットに対して、分類器にSVMを使い、REFCV(5分割交差検証)で特徴量を削減する実装は以下のとおりです。\n",
    "> \n",
    "> - ranking_には認識率が高くなる特徴量のランキングが昇順でセットされています\n",
    ">    - つまり値が1となっている特徴量のみを使うと最も高い認識率となり、今回の例では14個だけで十分ということです\n",
    ">    - プロットされたグラフを見てみても、特徴量数14の点で最も高い認識率(0.96)をマークしています\n",
    "\n",
    "**パッケージ**\n",
    "> [sklearn.feature_selection.RFE — scikit-learn 0.20.0 documentation](https://scikit-learn.org/stable/modules/generated/sklearn.feature_selection.RFE.html)"
   ]
  },
  {
   "cell_type": "code",
   "execution_count": 170,
   "metadata": {},
   "outputs": [],
   "source": [
    "# 例: RFE (Recursive Feature Elimination) を用いて、Support Vector Classificationモデルで各特徴量の重要度をランキングしたものです\n",
    "# 値が小さいほど重要度が高いです。\n",
    "\n",
    "\n",
    "from sklearn.svm import SVC\n",
    "from sklearn.datasets import load_digits\n",
    "from sklearn.feature_selection import RFE\n",
    "import matplotlib.pyplot as plt\n",
    "\n",
    "# Load the digits dataset\n",
    "digits = load_digits()\n",
    "X = digits.images.reshape((len(digits.images), -1))\n",
    "y = digits.target\n",
    "\n",
    "# Create the RFE object and rank each pixel\n",
    "svc = SVC(kernel=\"linear\", C=1)\n",
    "rfe = RFE(estimator=svc, n_features_to_select=1, step=1)\n",
    "rfe.fit(X, y)\n",
    "ranking = rfe.ranking_.reshape(digits.images[0].shape)"
   ]
  },
  {
   "cell_type": "code",
   "execution_count": 178,
   "metadata": {},
   "outputs": [
    {
     "data": {
      "text/plain": [
       "array([[64, 50, 31, 23, 10, 17, 34, 51],\n",
       "       [57, 37, 30, 43, 14, 32, 44, 52],\n",
       "       [54, 41, 19, 15, 28,  8, 39, 53],\n",
       "       [55, 45,  9, 18, 20, 38,  1, 59],\n",
       "       [63, 42, 25, 35, 29, 16,  2, 62],\n",
       "       [61, 40,  5, 11, 13,  6,  4, 58],\n",
       "       [56, 47, 26, 36, 24,  3, 22, 48],\n",
       "       [60, 49,  7, 27, 33, 21, 12, 46]])"
      ]
     },
     "execution_count": 178,
     "metadata": {},
     "output_type": "execute_result"
    }
   ],
   "source": [
    "ranking"
   ]
  },
  {
   "cell_type": "code",
   "execution_count": 152,
   "metadata": {},
   "outputs": [
    {
     "name": "stdout",
     "output_type": "stream",
     "text": [
      "(50,)\n",
      "[17.2134918  19.37965436 14.75030901 11.81662128  9.45520588]\n",
      "(50, 10)\n",
      "[[0.5488135  0.71518937 0.60276338 0.54488318 0.4236548  0.64589411\n",
      "  0.43758721 0.891773   0.96366276 0.38344152]\n",
      " [0.79172504 0.52889492 0.56804456 0.92559664 0.07103606 0.0871293\n",
      "  0.0202184  0.83261985 0.77815675 0.87001215]\n",
      " [0.97861834 0.79915856 0.46147936 0.78052918 0.11827443 0.63992102\n",
      "  0.14335329 0.94466892 0.52184832 0.41466194]\n",
      " [0.26455561 0.77423369 0.45615033 0.56843395 0.0187898  0.6176355\n",
      "  0.61209572 0.616934   0.94374808 0.6818203 ]\n",
      " [0.3595079  0.43703195 0.6976312  0.06022547 0.66676672 0.67063787\n",
      "  0.21038256 0.1289263  0.31542835 0.36371077]]\n"
     ]
    }
   ],
   "source": [
    "from sklearn.datasets import make_friedman1\n",
    "\n",
    "\n",
    "X, y = make_friedman1(n_samples=50, n_features=10, random_state=0)\n",
    "\n",
    "print(y.shape)\n",
    "print(y[:5])\n",
    "print(X.shape)\n",
    "print(X[:5])"
   ]
  },
  {
   "cell_type": "code",
   "execution_count": 179,
   "metadata": {},
   "outputs": [
    {
     "data": {
      "text/plain": [
       "array([60, 40, 42, 35, 31, 56, 38, 17,  1, 41, 15, 27, 26, 30, 28,  1,  1,\n",
       "       50, 22, 25,  4, 34, 37, 11, 48,  7,  9, 23,  5, 18, 24,  1, 59, 10,\n",
       "       44, 12, 45, 13, 49, 58, 55, 14, 57, 52,  8, 32, 54, 51,  2, 47, 46,\n",
       "       19,  3, 33, 20,  6,  1, 29, 43, 16, 53, 21, 39, 36])"
      ]
     },
     "execution_count": 179,
     "metadata": {},
     "output_type": "execute_result"
    }
   ],
   "source": [
    "from sklearn.feature_selection import RFE  #  recursive feature elimination\n",
    "from sklearn.svm import SVR\n",
    "\n",
    "\n",
    "estimator = SVR(kernel=\"linear\")\n",
    "selector = RFE(\n",
    "        estimator, \n",
    "        n_features_to_select=5,  # The number of features to select. If None, half of the features are selected.\n",
    "        step=1\n",
    "    )\n",
    "selector = selector.fit(X, y)\n",
    "selector.support_ \n",
    "\n",
    "\n",
    "selector.ranking_"
   ]
  },
  {
   "cell_type": "code",
   "execution_count": 181,
   "metadata": {},
   "outputs": [
    {
     "name": "stdout",
     "output_type": "stream",
     "text": [
      "X shape: (569, 30)\n",
      "y shape: (569, 1)\n"
     ]
    }
   ],
   "source": [
    "import pandas as pd\n",
    "from sklearn.datasets import load_breast_cancer\n",
    "\n",
    "\n",
    "dataset = load_breast_cancer()\n",
    "\n",
    "X = pd.DataFrame(data=dataset.data, columns=dataset.feature_names)\n",
    "print('X shape: {}'.format(X.shape))\n",
    "# X shape: (569, 30)\n",
    "\n",
    "y = pd.DataFrame(data=dataset.target, columns=['target'])\n",
    "print('y shape: {}'.format(y.shape))\n",
    "# y shape: (569, 1)"
   ]
  },
  {
   "cell_type": "code",
   "execution_count": 182,
   "metadata": {},
   "outputs": [
    {
     "name": "stderr",
     "output_type": "stream",
     "text": [
      "/Users/taiyou/.pyenv/versions/anaconda3-5.0.1/lib/python3.6/site-packages/sklearn/utils/validation.py:578: DataConversionWarning: A column-vector y was passed when a 1d array was expected. Please change the shape of y to (n_samples, ), for example using ravel().\n",
      "  y = column_or_1d(y, warn=True)\n"
     ]
    },
    {
     "name": "stdout",
     "output_type": "stream",
     "text": [
      "Feature ranking: \n",
      "[ 1  8  3 17  1  1  1  1  1 14 12  1  1  9 10  6  5  7 15 13  1  2 11 16\n",
      "  1  1  1  1  1  4]\n",
      "Rank 1 features: \n",
      "Index(['mean radius', 'mean smoothness', 'mean compactness', 'mean concavity',\n",
      "       'mean concave points', 'mean symmetry', 'texture error',\n",
      "       'perimeter error', 'worst radius', 'worst smoothness',\n",
      "       'worst compactness', 'worst concavity', 'worst concave points',\n",
      "       'worst symmetry'],\n",
      "      dtype='object')\n"
     ]
    },
    {
     "data": {
      "image/png": "[encoded data removed]",
      "text/plain": [
       "<matplotlib.figure.Figure at 0x1a1bda1320>"
      ]
     },
     "metadata": {},
     "output_type": "display_data"
    }
   ],
   "source": [
    "from sklearn.svm import SVC\n",
    "from sklearn.model_selection import StratifiedKFold\n",
    "from sklearn.feature_selection import RFECV\n",
    "\n",
    "\n",
    "# SVMによる分類\n",
    "estimator = SVC(kernel='linear')\n",
    "\n",
    "# 5分割交差検証\n",
    "cv = StratifiedKFold(5)\n",
    "\n",
    "# 特徴量削減\n",
    "rfecv = RFECV(estimator, cv=cv, scoring='accuracy', step=1)\n",
    "\n",
    "# 学習\n",
    "rfecv.fit(X, y)\n",
    "\n",
    "print('Feature ranking: \\n{}'.format(rfecv.ranking_))\n",
    "# 最も高い認識率となる特徴量14個\n",
    "print('Rank 1 features: \\n{}'.format(X.columns[rfecv.ranking_ == 1]))\n",
    "\n",
    "# 特徴量数と認識率の変化をプロット\n",
    "plt.plot(range(1, len(rfecv.grid_scores_) + 1), rfecv.grid_scores_)\n",
    "plt.show()"
   ]
  },
  {
   "cell_type": "markdown",
   "metadata": {},
   "source": [
    "---\n",
    "# 組み込み法(Embedded Method)\n",
    "> 機械学習アルゴリズムの中で変数選択も同時に行ってくれる方法のこと。 具体的には、Lasso回帰, Ridge回帰, Regularized trees, Memetic algorithm, Random multinomial logitなどがある。\n",
    "\n",
    "\n",
    "> 教師あり学習モデルを1つ用いてここの特徴量の重要性を判断し、重要なものだけを残す手法。特徴量選択に用いる教師あり学習モデルと最終的に使う教師あり学習モデルと同じでなくても良い。(RandomForestで特徴量の重要度を元に選択し、ロジスティック回帰で教師あり学習をする、など)\n",
    "\n",
    " - https://scikit-learn.org/stable/modules/generated/sklearn.feature_selection.SelectFromModel.html\n",
    " - 別名: **モデルベース特徴量選択**"
   ]
  },
  {
   "cell_type": "code",
   "execution_count": null,
   "metadata": {},
   "outputs": [],
   "source": []
  },
  {
   "cell_type": "code",
   "execution_count": null,
   "metadata": {},
   "outputs": [],
   "source": []
  },
  {
   "cell_type": "markdown",
   "metadata": {},
   "source": [
    "## 線形回帰\n",
    "<font color=\"red\">誤差項が正規分布だった場合に、有意性検定を行い、特徴選択が行える。</font>もし、誤差項が正規分布以外だった場合はこの方法は使えない。"
   ]
  },
  {
   "cell_type": "code",
   "execution_count": null,
   "metadata": {},
   "outputs": [],
   "source": []
  },
  {
   "cell_type": "code",
   "execution_count": null,
   "metadata": {},
   "outputs": [],
   "source": []
  },
  {
   "cell_type": "code",
   "execution_count": null,
   "metadata": {},
   "outputs": [],
   "source": []
  },
  {
   "cell_type": "markdown",
   "metadata": {},
   "source": [
    "## Lasso回帰\n",
    "例: モデルとしてLassoを指定したSelectFromModel関数を使うことで、13個あった特徴量を7個に減らしています。sfm.get_support()の出力でFalseになっている箇所が削除された部分です (なお、SelectFromModelは係数が0じゃなくても閾値以下の係数の特徴量を削除することができます。)。"
   ]
  },
  {
   "cell_type": "code",
   "execution_count": 46,
   "metadata": {},
   "outputs": [
    {
     "name": "stdout",
     "output_type": "stream",
     "text": [
      "[False  True False False False False  True False  True  True  True  True\n",
      "  True]\n",
      "original features count: 13, selected features count: 7\n"
     ]
    }
   ],
   "source": [
    "from sklearn.datasets import load_boston\n",
    "from sklearn.feature_selection import SelectFromModel\n",
    "from sklearn.linear_model import Lasso\n",
    "\n",
    "\n",
    "boston = load_boston()\n",
    "X, y = boston['data'], boston['target']\n",
    "\n",
    "lasso = Lasso(alpha=3)\n",
    "\n",
    "sfm = SelectFromModel(lasso)\n",
    "sfm.fit(X, y)\n",
    "n_features = sfm.transform(X).shape[1]\n",
    "\n",
    "print(sfm.get_support())\n",
    "print('original features count: {}, selected features count: {}'.format(X.shape[1], n_features))"
   ]
  },
  {
   "cell_type": "code",
   "execution_count": 183,
   "metadata": {},
   "outputs": [
    {
     "name": "stdout",
     "output_type": "stream",
     "text": [
      "[False False False  True  True  True False  True False False False False\n",
      " False]\n",
      "original features count: 13, selected features count: 4\n"
     ]
    }
   ],
   "source": [
    "from sklearn.datasets import load_boston\n",
    "from sklearn.feature_selection import SelectFromModel\n",
    "from sklearn.linear_model import Ridge\n",
    "\n",
    "\n",
    "boston = load_boston()\n",
    "X, y = boston['data'], boston['target']\n",
    "\n",
    "ridge = Ridge(alpha=3)\n",
    "\n",
    "sfm = SelectFromModel(ridge)\n",
    "sfm.fit(X, y)\n",
    "n_features = sfm.transform(X).shape[1]\n",
    "\n",
    "print(sfm.get_support())\n",
    "print('original features count: {}, selected features count: {}'.format(X.shape[1], n_features))"
   ]
  },
  {
   "cell_type": "code",
   "execution_count": 47,
   "metadata": {},
   "outputs": [
    {
     "name": "stdout",
     "output_type": "stream",
     "text": [
      "(150, 4)\n",
      "(150, 3)\n"
     ]
    }
   ],
   "source": [
    "from sklearn.svm import LinearSVC\n",
    "from sklearn.datasets import load_iris\n",
    "from sklearn.feature_selection import SelectFromModel\n",
    "\n",
    "\n",
    "iris = load_iris()\n",
    "X, y = iris.data, iris.target\n",
    "print(X.shape)\n",
    "\n",
    "lsvc = LinearSVC(C=0.01, penalty=\"l1\", dual=False)\n",
    "lsvc.fit(X, y)\n",
    "\n",
    "sfm = SelectFromModel(lsvc, prefit=True)\n",
    "X_new = sfm.transform(X)\n",
    "print(X_new.shape)"
   ]
  },
  {
   "cell_type": "code",
   "execution_count": null,
   "metadata": {},
   "outputs": [],
   "source": []
  },
  {
   "cell_type": "markdown",
   "metadata": {},
   "source": [
    "## Ridge回帰"
   ]
  },
  {
   "cell_type": "code",
   "execution_count": null,
   "metadata": {},
   "outputs": [],
   "source": []
  },
  {
   "cell_type": "code",
   "execution_count": null,
   "metadata": {},
   "outputs": [],
   "source": []
  },
  {
   "cell_type": "code",
   "execution_count": null,
   "metadata": {},
   "outputs": [],
   "source": []
  },
  {
   "cell_type": "markdown",
   "metadata": {},
   "source": [
    "## ロジスティック回帰"
   ]
  },
  {
   "cell_type": "code",
   "execution_count": null,
   "metadata": {},
   "outputs": [],
   "source": []
  },
  {
   "cell_type": "code",
   "execution_count": null,
   "metadata": {},
   "outputs": [],
   "source": []
  },
  {
   "cell_type": "code",
   "execution_count": null,
   "metadata": {},
   "outputs": [],
   "source": []
  },
  {
   "cell_type": "markdown",
   "metadata": {},
   "source": [
    "## 決定木"
   ]
  },
  {
   "cell_type": "code",
   "execution_count": null,
   "metadata": {},
   "outputs": [],
   "source": []
  },
  {
   "cell_type": "code",
   "execution_count": null,
   "metadata": {},
   "outputs": [],
   "source": []
  },
  {
   "cell_type": "code",
   "execution_count": null,
   "metadata": {},
   "outputs": [],
   "source": []
  },
  {
   "cell_type": "markdown",
   "metadata": {},
   "source": [
    "## ランダムフォレスト"
   ]
  },
  {
   "cell_type": "code",
   "execution_count": null,
   "metadata": {},
   "outputs": [],
   "source": []
  },
  {
   "cell_type": "code",
   "execution_count": null,
   "metadata": {},
   "outputs": [],
   "source": []
  },
  {
   "cell_type": "code",
   "execution_count": null,
   "metadata": {},
   "outputs": [],
   "source": []
  }
 ],
 "metadata": {
  "kernelspec": {
   "display_name": "Python 3",
   "language": "python",
   "name": "python3"
  },
  "language_info": {
   "codemirror_mode": {
    "name": "ipython",
    "version": 3
   },
   "file_extension": ".py",
   "mimetype": "text/x-python",
   "name": "python",
   "nbconvert_exporter": "python",
   "pygments_lexer": "ipython3",
   "version": "3.6.3"
  },
  "toc": {
   "nav_menu": {},
   "number_sections": true,
   "sideBar": true,
   "skip_h1_title": false,
   "toc_cell": false,
   "toc_position": {},
   "toc_section_display": "block",
   "toc_window_display": true
  }
 },
 "nbformat": 4,
 "nbformat_minor": 2
}
