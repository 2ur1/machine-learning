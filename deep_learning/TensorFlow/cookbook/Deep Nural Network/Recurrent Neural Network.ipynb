{
 "cells": [
  {
   "cell_type": "markdown",
   "metadata": {},
   "source": [
    "# Recurrent Neural Network(再帰型ニューラルネットワーク)\n",
    "\n",
    " - [EC購買サンプルデータセット](https://support.treasuredata.com/hc/ja/articles/213697057-%E3%82%B5%E3%83%B3%E3%83%97%E3%83%AB%E3%83%87%E3%83%BC%E3%82%BF%E3%82%BB%E3%83%83%E3%83%88-EC-)"
   ]
  },
  {
   "cell_type": "code",
   "execution_count": 3,
   "metadata": {},
   "outputs": [],
   "source": [
    "import numpy as np\n",
    "import pandas as pd\n",
    "\n",
    "import matplotlib.pyplot as plt\n",
    "import seaborn as sns\n",
    "\n",
    "%matplotlib inline"
   ]
  },
  {
   "cell_type": "markdown",
   "metadata": {},
   "source": [
    "## RNN\n",
    "### 時系列データ\n",
    " - 時系列データ : $x\\left(1\\right), \\dots, x\\left(t\\right), \\dots, x\\left(T\\right)$\n",
    "     - ex) 電車の乗客数、自動車の動き、店舗の売り上げ、株価、為替...\n",
    " - RNNでは、$T$個の時系列データが１つの入力データ群となり、このデータ群を複数扱うことになる\n",
    "     - 時系列データの並びに規則性・パターンがある(あるいはありそうに見える)データを学習することで、未知の時系列データが与えられたときに、そのデータの未来の状態を予測する"
   ]
  },
  {
   "cell_type": "markdown",
   "metadata": {},
   "source": [
    "### 問題 : sin波の予測\n",
    "$$\n",
    "\\begin{eqnarray}\n",
    "f\\left( t \\right) & = & \\sin {\\left( \\frac {2\\pi}{T} t \\right)} \\quad (t=1,\\dots,2T)\n",
    "\\end{eqnarray}\n",
    "$$\n",
    "\n",
    " - $T$ : sin波の周期\n",
    "\n",
    "<div style=\"text-align:center\">\n",
    "    <b>問題 : このsin波をニューラルネットワークで予測することができないか</b>\n",
    "</div>\n",
    "\n",
    "しかし、このままでは真の分布$f\\left( t \\right)$に従ったデータしか与えないことになってしまうので、下記のようにノイズ$u$を与えたsin波を考える。\n",
    "$$\n",
    "\\begin{eqnarray}\n",
    "f\\left( t \\right) & = & \\sin {\\left(\\frac {2\\pi}{T} t \\right)} + 0.05u\\\\\n",
    "u & \\sim & U\\left( -1.0, 1.0 \\right)\n",
    "\\end{eqnarray}\n",
    "$$\n",
    "\n",
    " - $U\\left( a, b \\right)$ : $a$から$b$までの一様分布\n",
    " \n",
    "> sin波は、音を表している　→　「音波」\n",
    ">\n",
    "> - 規則性のある式(1) : 雑音のない綺麗な音を表している\n",
    "> - ノイズの加わった式(2) : 雑音の混じった音を表している\n",
    ">\n",
    "> もしsin波をニューラルネットワークで学習できるのであれば、\n",
    "> 1. それを応用することで音声認識・音声解析にも活用することが考えられる。\n",
    "> 2. ノイズ入りのsin波から真の分布であるsin波を認識できれば、それはノイズの除去に相当する処理をニューラルネットワークによって実現できることにつながる。\n",
    "\n",
    "**損失関数**:　二乗誤差\n",
    "$$\n",
    "E\\left( \\mathrm {\\boldsymbol {w}} \\right) = \\frac {1}{2} \\sum _{t=1}^{T}{\\left[ \\boldsymbol {t}\\left(t\\right) - \\boldsymbol {y}\\left(t ; \\boldsymbol {\\mathrm {w}} \\right) \\right]^{2}}\n",
    "$$\n",
    "\n",
    " - $\\boldsymbol {y}\\left(t ; \\boldsymbol {\\mathrm {w}} \\right)$ : モデルの出力(予測値)\n",
    " - $ \\boldsymbol {t}\\left(t\\right)$ : 教師データ\n",
    "\n",
    "**逆伝播**: BPTT法"
   ]
  },
  {
   "cell_type": "markdown",
   "metadata": {},
   "source": [
    "### 実装 : 時系列データの生成"
   ]
  },
  {
   "cell_type": "code",
   "execution_count": 28,
   "metadata": {},
   "outputs": [],
   "source": [
    "def sin(x, T=100):\n",
    "    \"\"\"sin関数\"\"\"\n",
    "    return np.sin(2.0 * np.pi * x / T)\n",
    "\n",
    "def toy_problem(T=100, ampl=0.05):\n",
    "    \"\"\"サイン波 + ノイズのデータを生成する\"\"\"\n",
    "    x = np.arange(0, 2 * T + 1)\n",
    "    noise = ampl * np.random.uniform(low=-1.0, high=1.0, size=len(x))\n",
    "    return sin(x) + noise"
   ]
  },
  {
   "cell_type": "code",
   "execution_count": 29,
   "metadata": {},
   "outputs": [
    {
     "name": "stderr",
     "output_type": "stream",
     "text": [
      "/Users/taiyou/.pyenv/versions/anaconda3-5.0.1/lib/python3.6/site-packages/matplotlib/font_manager.py:1316: UserWarning: findfont: Font family ['[IPAexGothic]'] not found. Falling back to DejaVu Sans\n",
      "  (prop.get_family(), self.defaultFamily[fontext]))\n"
     ]
    },
    {
     "data": {
      "image/png": "[encoded data removed]",
      "text/plain": [
       "<matplotlib.figure.Figure at 0x1a17f193c8>"
      ]
     },
     "metadata": {},
     "output_type": "display_data"
    }
   ],
   "source": [
    "T = 100\n",
    "f = toy_problem(T)\n",
    "\n",
    "plt.title('sin data with noise : {0}'.format(f.size));\n",
    "plt.plot(f)\n",
    "plt.show()"
   ]
  },
  {
   "cell_type": "markdown",
   "metadata": {},
   "source": [
    "### 実装 : 教師データへの整形\n",
    "\n",
    "| 教師データ | 特徴ベクトル |\n",
    "|:-------------:|:---------------:|\n",
    "| $f\\left( \\tau + 1 \\right)$ | $f\\left( \\tau \\right), \\dots, f\\left( 1 \\right)$ |\n",
    "| $f\\left( \\tau + 2 \\right)$ | $f\\left( \\tau + 1 \\right), \\dots, f\\left( 2 \\right)$ |\n",
    "| $\\vdots $ | $\\vdots $ |\n",
    "| $f\\left( t + 1 \\right)$ | $f\\left( t \\right), \\dots, f\\left( t - \\tau + 1 \\right)$ |"
   ]
  },
  {
   "cell_type": "code",
   "execution_count": 30,
   "metadata": {},
   "outputs": [],
   "source": [
    "# τごとにデータを分割していく\n",
    "length_of_sequences = 2 * T    # 全時系列の長さ\n",
    "maxlen = 25    # 1つの時系列データの長さ\n",
    "\n",
    "data = []\n",
    "target = []\n",
    "\n",
    "for i in range(0, length_of_sequences - maxlen + 1):\n",
    "    data.append(f[i: i + maxlen])\n",
    "    target.append(f[i + maxlen])"
   ]
  },
  {
   "cell_type": "code",
   "execution_count": 35,
   "metadata": {},
   "outputs": [
    {
     "name": "stdout",
     "output_type": "stream",
     "text": [
      "[-0.0230298   0.10741237  0.08945708  0.17150963  0.25199043  0.34657357\n",
      "  0.33635162  0.37657686  0.50055346  0.55502585  0.60529002  0.64967511\n",
      "  0.63519615  0.69955374  0.74749467  0.83796091  0.87870313  0.87972478\n",
      "  0.9104736   0.93299022  0.91835464  0.96656311  0.93952608  0.94949945\n",
      "  0.96091004]\n",
      "0.9981846014545221\n"
     ]
    }
   ],
   "source": [
    "print(data[0])\n",
    "print(target[0])"
   ]
  },
  {
   "cell_type": "code",
   "execution_count": 41,
   "metadata": {},
   "outputs": [],
   "source": [
    "# 扱いやすい形状へ変更\n",
    "X = np.array(data).reshape(len(data), maxlen, 1)\n",
    "Y = np.array(target).reshape(len(data), 1)"
   ]
  },
  {
   "cell_type": "code",
   "execution_count": 42,
   "metadata": {
    "scrolled": true
   },
   "outputs": [
    {
     "name": "stdout",
     "output_type": "stream",
     "text": [
      "[[-0.0230298 ]\n",
      " [ 0.10741237]\n",
      " [ 0.08945708]\n",
      " [ 0.17150963]\n",
      " [ 0.25199043]\n",
      " [ 0.34657357]\n",
      " [ 0.33635162]\n",
      " [ 0.37657686]\n",
      " [ 0.50055346]\n",
      " [ 0.55502585]\n",
      " [ 0.60529002]\n",
      " [ 0.64967511]\n",
      " [ 0.63519615]\n",
      " [ 0.69955374]\n",
      " [ 0.74749467]\n",
      " [ 0.83796091]\n",
      " [ 0.87870313]\n",
      " [ 0.87972478]\n",
      " [ 0.9104736 ]\n",
      " [ 0.93299022]\n",
      " [ 0.91835464]\n",
      " [ 0.96656311]\n",
      " [ 0.93952608]\n",
      " [ 0.94949945]\n",
      " [ 0.96091004]]\n",
      "[0.9981846]\n"
     ]
    }
   ],
   "source": [
    "print(X[0])\n",
    "print(Y[0])"
   ]
  },
  {
   "cell_type": "code",
   "execution_count": 43,
   "metadata": {},
   "outputs": [],
   "source": [
    "from sklearn.model_selection import train_test_split\n",
    "\n",
    "\n",
    "X_train, X_test, Y_train, Y_test = train_test_split(X, Y, test_size=0.1, random_state=0)"
   ]
  },
  {
   "cell_type": "markdown",
   "metadata": {},
   "source": [
    "## TensorFlowによる実装"
   ]
  },
  {
   "cell_type": "code",
   "execution_count": null,
   "metadata": {},
   "outputs": [],
   "source": [
    "def inference(x, maxlen):\n",
    "    s = tanh(matmul(x, U) + matmul(s_prev, W) + b)\n",
    "    for t in range(maxlen):\n",
    "        s[t] = s[t - 1]\n",
    "    y = matmul(s[t], V) + c\n",
    "    return y"
   ]
  },
  {
   "cell_type": "code",
   "execution_count": null,
   "metadata": {},
   "outputs": [],
   "source": []
  },
  {
   "cell_type": "markdown",
   "metadata": {},
   "source": [
    "## Kerasによる実装\n",
    "\n",
    "### モデルの設定"
   ]
  },
  {
   "cell_type": "code",
   "execution_count": 51,
   "metadata": {},
   "outputs": [
    {
     "name": "stderr",
     "output_type": "stream",
     "text": [
      "/Users/taiyou/.pyenv/versions/anaconda3-5.0.1/lib/python3.6/site-packages/h5py/__init__.py:34: FutureWarning: Conversion of the second argument of issubdtype from `float` to `np.floating` is deprecated. In future, it will be treated as `np.float64 == np.dtype(float).type`.\n",
      "  from ._conv import register_converters as _register_converters\n",
      "Using TensorFlow backend.\n",
      "/Users/taiyou/.pyenv/versions/anaconda3-5.0.1/lib/python3.6/importlib/_bootstrap.py:219: RuntimeWarning: compiletime version 3.5 of module 'tensorflow.python.framework.fast_tensor_util' does not match runtime version 3.6\n",
      "  return f(*args, **kwds)\n"
     ]
    }
   ],
   "source": [
    "from keras.models import Sequential\n",
    "from keras.layers.core import Dense, Activation\n",
    "from keras.layers.recurrent import SimpleRNN\n",
    "from keras.optimizers import Adam\n",
    "from keras.callbacks import EarlyStopping\n",
    "from sklearn.model_selection import train_test_split\n",
    "from sklearn.utils import shuffle\n",
    "\n",
    "\n",
    "'''\n",
    "モデル設定\n",
    "'''\n",
    "n_in = len(X[0][0])  # 1\n",
    "n_hidden = 20\n",
    "n_out = len(Y[0])  # 1\n",
    "\n",
    "\n",
    "def weight_variable(shape, name=None):\n",
    "    return np.random.normal(scale=0.01, size=shape)\n",
    "\n",
    "\n",
    "early_stopping = EarlyStopping(monitor='val_loss', patience=10, verbose=1)\n",
    "\n",
    "model = Sequential()\n",
    "model.add(SimpleRNN(n_hidden,\n",
    "                    kernel_initializer=weight_variable,\n",
    "                    input_shape=(maxlen, n_in)))\n",
    "model.add(Dense(n_out, kernel_initializer=weight_variable))\n",
    "model.add(Activation('linear'))\n",
    "\n",
    "optimizer = Adam(lr=0.001, beta_1=0.9, beta_2=0.999)\n",
    "\n",
    "model.compile(\n",
    "    loss='mean_squared_error',\n",
    "    optimizer=optimizer\n",
    ")"
   ]
  },
  {
   "cell_type": "code",
   "execution_count": 53,
   "metadata": {
    "scrolled": true
   },
   "outputs": [
    {
     "name": "stdout",
     "output_type": "stream",
     "text": [
      "Train on 158 samples, validate on 18 samples\n",
      "Epoch 1/500\n",
      "158/158 [==============================] - 1s 4ms/step - loss: 0.4581 - val_loss: 0.5665\n",
      "Epoch 2/500\n",
      "158/158 [==============================] - 0s 771us/step - loss: 0.3552 - val_loss: 0.3834\n",
      "Epoch 3/500\n",
      "158/158 [==============================] - 0s 664us/step - loss: 0.2072 - val_loss: 0.1645\n",
      "Epoch 4/500\n",
      "158/158 [==============================] - 0s 667us/step - loss: 0.0901 - val_loss: 0.0775\n",
      "Epoch 5/500\n",
      "158/158 [==============================] - 0s 651us/step - loss: 0.0611 - val_loss: 0.0476\n",
      "Epoch 6/500\n",
      "158/158 [==============================] - 0s 638us/step - loss: 0.0458 - val_loss: 0.0370\n",
      "Epoch 7/500\n",
      "158/158 [==============================] - 0s 787us/step - loss: 0.0364 - val_loss: 0.0336\n",
      "Epoch 8/500\n",
      "158/158 [==============================] - 0s 664us/step - loss: 0.0314 - val_loss: 0.0359\n",
      "Epoch 9/500\n",
      "158/158 [==============================] - 0s 832us/step - loss: 0.0221 - val_loss: 0.0279\n",
      "Epoch 10/500\n",
      "158/158 [==============================] - 0s 706us/step - loss: 0.0209 - val_loss: 0.0243\n",
      "Epoch 11/500\n",
      "158/158 [==============================] - 0s 714us/step - loss: 0.0171 - val_loss: 0.0242\n",
      "Epoch 12/500\n",
      "158/158 [==============================] - 0s 757us/step - loss: 0.0124 - val_loss: 0.0149\n",
      "Epoch 13/500\n",
      "158/158 [==============================] - 0s 745us/step - loss: 0.0097 - val_loss: 0.0129\n",
      "Epoch 14/500\n",
      "158/158 [==============================] - 0s 771us/step - loss: 0.0076 - val_loss: 0.0098\n",
      "Epoch 15/500\n",
      "158/158 [==============================] - 0s 1ms/step - loss: 0.0069 - val_loss: 0.0085\n",
      "Epoch 16/500\n",
      "158/158 [==============================] - 0s 675us/step - loss: 0.0070 - val_loss: 0.0146\n",
      "Epoch 17/500\n",
      "158/158 [==============================] - 0s 788us/step - loss: 0.0079 - val_loss: 0.0081\n",
      "Epoch 18/500\n",
      "158/158 [==============================] - 0s 663us/step - loss: 0.0059 - val_loss: 0.0078\n",
      "Epoch 19/500\n",
      "158/158 [==============================] - 0s 699us/step - loss: 0.0070 - val_loss: 0.0069\n",
      "Epoch 20/500\n",
      "158/158 [==============================] - 0s 669us/step - loss: 0.0061 - val_loss: 0.0066\n",
      "Epoch 21/500\n",
      "158/158 [==============================] - 0s 639us/step - loss: 0.0063 - val_loss: 0.0065\n",
      "Epoch 22/500\n",
      "158/158 [==============================] - 0s 796us/step - loss: 0.0056 - val_loss: 0.0059\n",
      "Epoch 23/500\n",
      "158/158 [==============================] - 0s 905us/step - loss: 0.0050 - val_loss: 0.0075\n",
      "Epoch 24/500\n",
      "158/158 [==============================] - 0s 995us/step - loss: 0.0060 - val_loss: 0.0059\n",
      "Epoch 25/500\n",
      "158/158 [==============================] - 0s 692us/step - loss: 0.0067 - val_loss: 0.0056\n",
      "Epoch 26/500\n",
      "158/158 [==============================] - 0s 598us/step - loss: 0.0054 - val_loss: 0.0068\n",
      "Epoch 27/500\n",
      "158/158 [==============================] - 0s 631us/step - loss: 0.0052 - val_loss: 0.0049\n",
      "Epoch 28/500\n",
      "158/158 [==============================] - 0s 811us/step - loss: 0.0046 - val_loss: 0.0051\n",
      "Epoch 29/500\n",
      "158/158 [==============================] - 0s 656us/step - loss: 0.0050 - val_loss: 0.0061\n",
      "Epoch 30/500\n",
      "158/158 [==============================] - 0s 704us/step - loss: 0.0051 - val_loss: 0.0055\n",
      "Epoch 31/500\n",
      "158/158 [==============================] - 0s 706us/step - loss: 0.0044 - val_loss: 0.0049\n",
      "Epoch 32/500\n",
      "158/158 [==============================] - 0s 904us/step - loss: 0.0043 - val_loss: 0.0050\n",
      "Epoch 33/500\n",
      "158/158 [==============================] - 0s 647us/step - loss: 0.0042 - val_loss: 0.0048\n",
      "Epoch 34/500\n",
      "158/158 [==============================] - 0s 786us/step - loss: 0.0054 - val_loss: 0.0090\n",
      "Epoch 35/500\n",
      "158/158 [==============================] - 0s 646us/step - loss: 0.0068 - val_loss: 0.0048\n",
      "Epoch 36/500\n",
      "158/158 [==============================] - 0s 546us/step - loss: 0.0046 - val_loss: 0.0042\n",
      "Epoch 37/500\n",
      "158/158 [==============================] - 0s 612us/step - loss: 0.0040 - val_loss: 0.0056\n",
      "Epoch 38/500\n",
      "158/158 [==============================] - 0s 747us/step - loss: 0.0042 - val_loss: 0.0043\n",
      "Epoch 39/500\n",
      "158/158 [==============================] - 0s 783us/step - loss: 0.0047 - val_loss: 0.0057\n",
      "Epoch 40/500\n",
      "158/158 [==============================] - 0s 809us/step - loss: 0.0054 - val_loss: 0.0055\n",
      "Epoch 41/500\n",
      "158/158 [==============================] - 0s 969us/step - loss: 0.0038 - val_loss: 0.0038\n",
      "Epoch 42/500\n",
      "158/158 [==============================] - 0s 681us/step - loss: 0.0046 - val_loss: 0.0048\n",
      "Epoch 43/500\n",
      "158/158 [==============================] - 0s 549us/step - loss: 0.0043 - val_loss: 0.0058\n",
      "Epoch 44/500\n",
      "158/158 [==============================] - 0s 547us/step - loss: 0.0045 - val_loss: 0.0040\n",
      "Epoch 45/500\n",
      "158/158 [==============================] - 0s 582us/step - loss: 0.0032 - val_loss: 0.0037\n",
      "Epoch 46/500\n",
      "158/158 [==============================] - 0s 575us/step - loss: 0.0032 - val_loss: 0.0037\n",
      "Epoch 47/500\n",
      "158/158 [==============================] - 0s 548us/step - loss: 0.0034 - val_loss: 0.0041\n",
      "Epoch 48/500\n",
      "158/158 [==============================] - 0s 568us/step - loss: 0.0036 - val_loss: 0.0030\n",
      "Epoch 49/500\n",
      "158/158 [==============================] - 0s 564us/step - loss: 0.0035 - val_loss: 0.0071\n",
      "Epoch 50/500\n",
      "158/158 [==============================] - 0s 744us/step - loss: 0.0047 - val_loss: 0.0034\n",
      "Epoch 51/500\n",
      "158/158 [==============================] - 0s 546us/step - loss: 0.0037 - val_loss: 0.0031\n",
      "Epoch 52/500\n",
      "158/158 [==============================] - 0s 555us/step - loss: 0.0030 - val_loss: 0.0043\n",
      "Epoch 53/500\n",
      "158/158 [==============================] - 0s 603us/step - loss: 0.0031 - val_loss: 0.0031\n",
      "Epoch 54/500\n",
      "158/158 [==============================] - 0s 585us/step - loss: 0.0032 - val_loss: 0.0037\n",
      "Epoch 55/500\n",
      "158/158 [==============================] - 0s 553us/step - loss: 0.0033 - val_loss: 0.0030\n",
      "Epoch 56/500\n",
      "158/158 [==============================] - 0s 554us/step - loss: 0.0027 - val_loss: 0.0028\n",
      "Epoch 57/500\n",
      "158/158 [==============================] - 0s 563us/step - loss: 0.0048 - val_loss: 0.0033\n",
      "Epoch 58/500\n",
      "158/158 [==============================] - 0s 550us/step - loss: 0.0049 - val_loss: 0.0031\n",
      "Epoch 59/500\n",
      "158/158 [==============================] - 0s 545us/step - loss: 0.0028 - val_loss: 0.0027\n",
      "Epoch 60/500\n",
      "158/158 [==============================] - 0s 585us/step - loss: 0.0025 - val_loss: 0.0041\n",
      "Epoch 61/500\n",
      "158/158 [==============================] - 0s 559us/step - loss: 0.0025 - val_loss: 0.0026\n",
      "Epoch 62/500\n",
      "158/158 [==============================] - 0s 620us/step - loss: 0.0027 - val_loss: 0.0026\n",
      "Epoch 63/500\n",
      "158/158 [==============================] - 0s 756us/step - loss: 0.0028 - val_loss: 0.0025\n",
      "Epoch 64/500\n",
      "158/158 [==============================] - 0s 558us/step - loss: 0.0025 - val_loss: 0.0032\n",
      "Epoch 65/500\n",
      "158/158 [==============================] - 0s 559us/step - loss: 0.0031 - val_loss: 0.0026\n",
      "Epoch 66/500\n",
      "158/158 [==============================] - 0s 548us/step - loss: 0.0030 - val_loss: 0.0034\n",
      "Epoch 67/500\n",
      "158/158 [==============================] - 0s 616us/step - loss: 0.0039 - val_loss: 0.0034\n",
      "Epoch 68/500\n",
      "158/158 [==============================] - 0s 719us/step - loss: 0.0039 - val_loss: 0.0043\n",
      "Epoch 69/500\n",
      "158/158 [==============================] - 0s 561us/step - loss: 0.0029 - val_loss: 0.0029\n",
      "Epoch 70/500\n",
      "158/158 [==============================] - 0s 524us/step - loss: 0.0023 - val_loss: 0.0022\n",
      "Epoch 71/500\n",
      "158/158 [==============================] - 0s 718us/step - loss: 0.0028 - val_loss: 0.0036\n",
      "Epoch 72/500\n",
      "158/158 [==============================] - 0s 757us/step - loss: 0.0027 - val_loss: 0.0024\n",
      "Epoch 73/500\n",
      "158/158 [==============================] - 0s 561us/step - loss: 0.0027 - val_loss: 0.0021\n",
      "Epoch 74/500\n",
      "158/158 [==============================] - 0s 502us/step - loss: 0.0023 - val_loss: 0.0023\n",
      "Epoch 75/500\n",
      "158/158 [==============================] - 0s 532us/step - loss: 0.0018 - val_loss: 0.0021\n",
      "Epoch 76/500\n",
      "158/158 [==============================] - 0s 538us/step - loss: 0.0023 - val_loss: 0.0021\n",
      "Epoch 77/500\n",
      "158/158 [==============================] - 0s 616us/step - loss: 0.0026 - val_loss: 0.0045\n",
      "Epoch 78/500\n",
      "158/158 [==============================] - 0s 546us/step - loss: 0.0044 - val_loss: 0.0055\n",
      "Epoch 79/500\n"
     ]
    },
    {
     "name": "stdout",
     "output_type": "stream",
     "text": [
      "158/158 [==============================] - 0s 524us/step - loss: 0.0029 - val_loss: 0.0040\n",
      "Epoch 80/500\n",
      "158/158 [==============================] - 0s 603us/step - loss: 0.0023 - val_loss: 0.0020\n",
      "Epoch 81/500\n",
      "158/158 [==============================] - 0s 584us/step - loss: 0.0017 - val_loss: 0.0024\n",
      "Epoch 82/500\n",
      "158/158 [==============================] - 0s 718us/step - loss: 0.0018 - val_loss: 0.0018\n",
      "Epoch 83/500\n",
      "158/158 [==============================] - 0s 656us/step - loss: 0.0017 - val_loss: 0.0021\n",
      "Epoch 84/500\n",
      "158/158 [==============================] - 0s 622us/step - loss: 0.0018 - val_loss: 0.0018\n",
      "Epoch 85/500\n",
      "158/158 [==============================] - 0s 667us/step - loss: 0.0017 - val_loss: 0.0021\n",
      "Epoch 86/500\n",
      "158/158 [==============================] - 0s 628us/step - loss: 0.0017 - val_loss: 0.0017\n",
      "Epoch 87/500\n",
      "158/158 [==============================] - 0s 616us/step - loss: 0.0016 - val_loss: 0.0018\n",
      "Epoch 88/500\n",
      "158/158 [==============================] - 0s 664us/step - loss: 0.0016 - val_loss: 0.0021\n",
      "Epoch 89/500\n",
      "158/158 [==============================] - 0s 594us/step - loss: 0.0023 - val_loss: 0.0017\n",
      "Epoch 90/500\n",
      "158/158 [==============================] - 0s 621us/step - loss: 0.0018 - val_loss: 0.0021\n",
      "Epoch 91/500\n",
      "158/158 [==============================] - 0s 651us/step - loss: 0.0018 - val_loss: 0.0017\n",
      "Epoch 92/500\n",
      "158/158 [==============================] - 0s 734us/step - loss: 0.0020 - val_loss: 0.0020\n",
      "Epoch 93/500\n",
      "158/158 [==============================] - 0s 809us/step - loss: 0.0025 - val_loss: 0.0028\n",
      "Epoch 94/500\n",
      "158/158 [==============================] - 0s 697us/step - loss: 0.0020 - val_loss: 0.0015\n",
      "Epoch 95/500\n",
      "158/158 [==============================] - 0s 592us/step - loss: 0.0022 - val_loss: 0.0022\n",
      "Epoch 96/500\n",
      "158/158 [==============================] - 0s 607us/step - loss: 0.0021 - val_loss: 0.0021\n",
      "Epoch 97/500\n",
      "158/158 [==============================] - 0s 602us/step - loss: 0.0017 - val_loss: 0.0019\n",
      "Epoch 98/500\n",
      "158/158 [==============================] - 0s 623us/step - loss: 0.0015 - val_loss: 0.0015\n",
      "Epoch 99/500\n",
      "158/158 [==============================] - 0s 655us/step - loss: 0.0014 - val_loss: 0.0018\n",
      "Epoch 100/500\n",
      "158/158 [==============================] - 0s 624us/step - loss: 0.0014 - val_loss: 0.0016\n",
      "Epoch 101/500\n",
      "158/158 [==============================] - 0s 733us/step - loss: 0.0014 - val_loss: 0.0018\n",
      "Epoch 102/500\n",
      "158/158 [==============================] - 0s 572us/step - loss: 0.0017 - val_loss: 0.0016\n",
      "Epoch 103/500\n",
      "158/158 [==============================] - 0s 594us/step - loss: 0.0015 - val_loss: 0.0015\n",
      "Epoch 104/500\n",
      "158/158 [==============================] - 0s 679us/step - loss: 0.0013 - val_loss: 0.0014\n",
      "Epoch 105/500\n",
      "158/158 [==============================] - 0s 560us/step - loss: 0.0014 - val_loss: 0.0018\n",
      "Epoch 106/500\n",
      "158/158 [==============================] - 0s 626us/step - loss: 0.0015 - val_loss: 0.0015\n",
      "Epoch 107/500\n",
      "158/158 [==============================] - 0s 733us/step - loss: 0.0013 - val_loss: 0.0018\n",
      "Epoch 108/500\n",
      "158/158 [==============================] - 0s 641us/step - loss: 0.0022 - val_loss: 0.0019\n",
      "Epoch 109/500\n",
      "158/158 [==============================] - 0s 641us/step - loss: 0.0027 - val_loss: 0.0031\n",
      "Epoch 110/500\n",
      "158/158 [==============================] - 0s 644us/step - loss: 0.0015 - val_loss: 0.0015\n",
      "Epoch 111/500\n",
      "158/158 [==============================] - 0s 915us/step - loss: 0.0016 - val_loss: 0.0013\n",
      "Epoch 112/500\n",
      "158/158 [==============================] - 0s 585us/step - loss: 0.0014 - val_loss: 0.0018\n",
      "Epoch 113/500\n",
      "158/158 [==============================] - 0s 636us/step - loss: 0.0014 - val_loss: 0.0014\n",
      "Epoch 114/500\n",
      "158/158 [==============================] - 0s 529us/step - loss: 0.0014 - val_loss: 0.0018\n",
      "Epoch 115/500\n",
      "158/158 [==============================] - 0s 535us/step - loss: 0.0017 - val_loss: 0.0026\n",
      "Epoch 116/500\n",
      "158/158 [==============================] - 0s 557us/step - loss: 0.0016 - val_loss: 0.0021\n",
      "Epoch 117/500\n",
      "158/158 [==============================] - 0s 544us/step - loss: 0.0020 - val_loss: 0.0021\n",
      "Epoch 118/500\n",
      "158/158 [==============================] - 0s 532us/step - loss: 0.0017 - val_loss: 0.0019\n",
      "Epoch 119/500\n",
      "158/158 [==============================] - 0s 556us/step - loss: 0.0015 - val_loss: 0.0017\n",
      "Epoch 120/500\n",
      "158/158 [==============================] - 0s 551us/step - loss: 0.0016 - val_loss: 0.0017\n",
      "Epoch 121/500\n",
      "158/158 [==============================] - 0s 532us/step - loss: 0.0013 - val_loss: 0.0017\n",
      "Epoch 00121: early stopping\n"
     ]
    },
    {
     "data": {
      "text/plain": [
       "<keras.callbacks.History at 0x1a25c90eb8>"
      ]
     },
     "execution_count": 53,
     "metadata": {},
     "output_type": "execute_result"
    }
   ],
   "source": [
    "'''\n",
    "モデル学習\n",
    "'''\n",
    "epochs = 500\n",
    "batch_size = 10\n",
    "\n",
    "model.fit(X_train, Y_train,\n",
    "          batch_size=batch_size,\n",
    "          epochs=epochs,\n",
    "          validation_data=(X_test, Y_test),\n",
    "          callbacks=[early_stopping])"
   ]
  },
  {
   "cell_type": "code",
   "execution_count": null,
   "metadata": {},
   "outputs": [],
   "source": []
  }
 ],
 "metadata": {
  "kernelspec": {
   "display_name": "Python 3",
   "language": "python",
   "name": "python3"
  },
  "language_info": {
   "codemirror_mode": {
    "name": "ipython",
    "version": 3
   },
   "file_extension": ".py",
   "mimetype": "text/x-python",
   "name": "python",
   "nbconvert_exporter": "python",
   "pygments_lexer": "ipython3",
   "version": "3.6.3"
  },
  "toc": {
   "nav_menu": {},
   "number_sections": true,
   "sideBar": true,
   "skip_h1_title": false,
   "toc_cell": false,
   "toc_position": {},
   "toc_section_display": "block",
   "toc_window_display": true
  }
 },
 "nbformat": 4,
 "nbformat_minor": 2
}
