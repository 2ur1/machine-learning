{
 "cells": [
  {
   "cell_type": "markdown",
   "metadata": {},
   "source": [
    "# TensorFlowとは?\n",
    "> 計算グラフを用いた数値計算を行うためのオープンソースのライブラリ。\n",
    "\n",
    "**特徴**:\n",
    "\n",
    " - データの流れをエッジで表した計算グラフによる\"Define and Run\"\n",
    " - CPUやGPUといったデバイス単位だけでなく、ネットワーク上の他のマシンでも実行可能\n",
    " - PythonやC++のAPIの他にもJava, Go言語も使用可能\n",
    " - 深層学習以外の用途でも使われるように設計されている\n",
    "\n",
    "\n",
    "**インストール方法**:\n",
    "```bash\n",
    "pip install tensorflow\n",
    "```\n",
    "\n",
    "**Tensor(テンソル)の定義**:\n",
    "\n",
    "| 例 | テンソル | 説明 |\n",
    "|:--:|:----------:|:-----:|\n",
    "| $1,2,3,4$などのスカラー | 0階テンソル | - |\n",
    "| $\\left( 1, 2 \\right)$などの配列 | 1階テンソル | 何番目の数字かということだけを指定すれば最小構成単位の数字にアクセスできるため1階テンソルとなる. |\n",
    "| $\\begin{pmatrix} 1 & 2 \\\\ 3 & 4 \\end{pmatrix}$ | 2階テンソル | 行と列をそれぞれ指定しないと数字を一意に特定できないため2階テンソルとなる. |\n",
    "\n",
    "**計算グラフ**:<br>\n",
    "> データの演算処理をノードとエッジを用いて表したグラフのこと\n",
    "\n",
    "<img src=\"./imgs/TensorFlowの使い方/tensorflowの計算グラフ.png\" width=\"50%\">\n",
    "\n",
    "**\"*Define and Run*\"**\n",
    "```python\n",
    "# Define by Run\n",
    "z = x * y    # 掛け算した結果の数値がzに格納される\n",
    "\n",
    "# Define and Run\n",
    "c = tf.maltiply(a, b)    # 掛け算した結果の実際の数値がcに入るわけではない\n",
    "# 計算グラフ上のcというシンボリックを別に実行する必要がある\n",
    "```\n",
    "\n",
    " - *Define by Run* : TensorFlow, Theano\n",
    " - *Define and Run* : Chainer, Torch"
   ]
  },
  {
   "cell_type": "code",
   "execution_count": null,
   "metadata": {},
   "outputs": [],
   "source": []
  }
 ],
 "metadata": {
  "kernelspec": {
   "display_name": "Python 3",
   "language": "python",
   "name": "python3"
  },
  "language_info": {
   "codemirror_mode": {
    "name": "ipython",
    "version": 3
   },
   "file_extension": ".py",
   "mimetype": "text/x-python",
   "name": "python",
   "nbconvert_exporter": "python",
   "pygments_lexer": "ipython3",
   "version": "3.6.3"
  },
  "toc": {
   "nav_menu": {},
   "number_sections": true,
   "sideBar": true,
   "skip_h1_title": false,
   "toc_cell": false,
   "toc_position": {},
   "toc_section_display": "block",
   "toc_window_display": false
  }
 },
 "nbformat": 4,
 "nbformat_minor": 2
}
