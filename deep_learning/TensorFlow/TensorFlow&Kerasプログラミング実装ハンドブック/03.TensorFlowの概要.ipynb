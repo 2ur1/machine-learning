{
 "cells": [
  {
   "cell_type": "markdown",
   "metadata": {},
   "source": [
    "# TensorFlowのインストール\n",
    "```bash\n",
    "pip install tensorflow\n",
    "```\n",
    "もし使っているマシンがGPUに対応しているならば、下記のコマンドを使ってインストールしておくと、GPU環境でも簡単にTensorFlowを使うことができる。\n",
    "```bash\n",
    "pip install tensorflow-gpu\n",
    "```"
   ]
  },
  {
   "cell_type": "markdown",
   "metadata": {},
   "source": [
    "# TensorFlowの使い方の基本"
   ]
  },
  {
   "cell_type": "code",
   "execution_count": 2,
   "metadata": {},
   "outputs": [
    {
     "name": "stdout",
     "output_type": "stream",
     "text": [
      "RATE =  0.08\n",
      "tax =  80.0\n",
      "price =  1080.0\n"
     ]
    }
   ],
   "source": [
    "# 税込金額を計算するPythonプログラム\n",
    "RATE = 0.08\n",
    "price = 1000\n",
    "tax = RATE * price\n",
    "price_tax = price + tax\n",
    "\n",
    "price = price_tax\n",
    "\n",
    "\n",
    "print('RATE = ', RATE)\n",
    "print('tax = ', tax)\n",
    "print('price = ', price)"
   ]
  },
  {
   "cell_type": "markdown",
   "metadata": {},
   "source": [
    "計算過程が確認できるように、処理ごとにコードを分けていく。"
   ]
  },
  {
   "cell_type": "markdown",
   "metadata": {},
   "source": [
    "### `tf.constant()` : 定数のテンソルを作成\n",
    "```python\n",
    "tensorflow.constant(\n",
    "    value,\n",
    "    dtype=None,\n",
    "    shape=None,\n",
    "    name='Const',\n",
    "    verify_shape=False\n",
    ")\n",
    "```\n",
    "\n",
    "| 引数 | 説明 |\n",
    "|:------:|:----------------------------------------|\n",
    "| `value` | 定数値または定数値のリストを指定. 値がリストの場合は、shape引数でサイズ(長さ)を指定する際に、実際のサイズが収まるようにサイズ指定することが必要. リストの長さが指定された要素の数よりも少ない場合は、リストの最後の要素が残りの要素を埋めるために使用される. |\n",
    "| `dtype` | 型を指定. 指定されていない場合は、valueの値から推論された型がセットされる. |\n",
    "| `shape` | オプション. データのサイズ(長さ)を指定する |\n",
    "| `name` | 定数を内部的に識別するための名前. 指定しない場合はデフォルトのConstが使用される |\n",
    "| `verify_shape` | valueの形状を検証可能にするかどうかを論理値で指定する. デフォルトはFalse(検証可能にしない). |"
   ]
  },
  {
   "cell_type": "markdown",
   "metadata": {},
   "source": [
    "### `tf.Variable()` : 変数のテンソルを作成する\n",
    "**<font color=\"red\">※`tf.Variable()`を実行すると以下の初期化メソッドが呼ばれる</font>**.\n",
    "```python\n",
    "__init__(\n",
    "    initial_value=None,\n",
    "    trainable=True,\n",
    "    collections=None,\n",
    "    validate_shape=True,\n",
    "    caching_device=None,\n",
    "    name='Variable',\n",
    "    variable_def=None,\n",
    "    dtype=None,\n",
    "    expected_shape=None,\n",
    "    import_scope=None,\n",
    "    constraint=None\n",
    ")\n",
    "```\n",
    "\n",
    "| 引数名 | 説明 |\n",
    "| :------- | :------- |\n",
    "| `initial_value` | 変数の値として使用できるPythonオブジェクト. 初期値を設定しないことも可能だが、その場合は、dtype指定する必要がある.<br> 値がリストの場合は、shape引数でサイズ(長さ)を指定する際に、実際のサイズが収まるようにサイズ指定することが必要. リストの長さが指定された要素の数よりも少ない場合は、リストの最後の要素が残りの要素を埋めるために使用される. |\n",
    "| `trainable` | デフォルトのTrueで、変数をグラフに追加する. |\n",
    "| `collections` | グラフコレクションキーのリストで、変数はこれらのコレクションに追加される. デフォルトのNoneで[GraphKeys.GLOBAL_VARIABLES]が使われる. |\n",
    "| `validate_shape` | Falseに設定すると、変数が未知の値で初期化されるのを許可する. デフォルトのTrueは、initial_valueの値によって形状を決定する |\n",
    "| `caching_device` | 変数に読み込む値をキャッシュデータとして保存する場合を指定するためのオプション |\n",
    "| `name` | 変数を内部的に識別するための名前. 指定しない場合はデフォルトのVariableが使用される |\n",
    "| `expected_shape` | initial_valueの形状をあらかじめ指定する場合に使用する |\n",
    "| `import_scope` | 変数のスコープとして使用する文字列を設定するためのオプション. プロトコルバッファから初期化するときにのみ使用する |\n",
    "| `constraint` | 更新(値をセット)された後に変数に適用される関数を指定するオプション. |"
   ]
  },
  {
   "cell_type": "code",
   "execution_count": 4,
   "metadata": {},
   "outputs": [],
   "source": [
    "import tensorflow as tf    # TensorFlowのインポート\n",
    "\n",
    "# データフローグラフの作成\n",
    "rate = tf.constant(0.08, dtype=tf.float32)    # 消費税率(float32)のopノード\n",
    "price = tf.Variable(1000.0, dtype=tf.float32)    # 価格(float32)を保持する変数\n",
    "tax = tf.multiply(rate, price)    # 税額を計算するopノード\n",
    "price_tax = tf.add(tax, price)    # 税込金額を計算するopノード\n",
    "\n",
    "# 変数priceを更新するopノード\n",
    "update = tf.assign(price, price_tax)"
   ]
  },
  {
   "cell_type": "code",
   "execution_count": 5,
   "metadata": {},
   "outputs": [
    {
     "name": "stdout",
     "output_type": "stream",
     "text": [
      "rate          =  Tensor(\"Const_1:0\", shape=(), dtype=float32)\n",
      "price         = <tf.Variable 'Variable_1:0' shape=() dtype=float32_ref>\n",
      "tax            = Tensor(\"Mul_1:0\", shape=(), dtype=float32)\n",
      "price_tax =  Tensor(\"Add_1:0\", shape=(), dtype=float32)\n",
      "update     = Tensor(\"Assign_1:0\", shape=(), dtype=float32_ref)\n"
     ]
    }
   ],
   "source": [
    "#  データフローグラフの各要素を出力\n",
    "print('rate          = ', rate)\n",
    "print('price         =', price)\n",
    "print('tax            =', tax)\n",
    "print('price_tax = ', price_tax)\n",
    "print('update     =', update)"
   ]
  },
  {
   "cell_type": "markdown",
   "metadata": {},
   "source": [
    "## データフローグラフって何?\n",
    "↑これが「データフローグラフ」の実体。データフローグラフは、ノードと呼ばれる計算ブロックのようなものを「エッジ」と呼ばれる線で接続したもので、データはノードからノードへ、エッジのつながり方に従って受け渡され、計算が行われる。"
   ]
  },
  {
   "cell_type": "markdown",
   "metadata": {},
   "source": [
    "## データフローグラフの実行"
   ]
  },
  {
   "cell_type": "markdown",
   "metadata": {},
   "source": [
    "### `tf.Session()` : Seesionオブジェクトを生成する\n",
    "**<font color=\"red\">※`tf.Session()`を実行すると以下の初期化メソッドが呼ばれる</font>**\n",
    "\n",
    "```python\n",
    "__init__(\n",
    "    target='',\n",
    "    graph=None,\n",
    "    config=None\n",
    ")\n",
    "```\n",
    "\n",
    "| 引数 | 説明 |\n",
    "|:-----:|:------|\n",
    "| `target` | オプション。接続先の実行エンジンを指定する。 |\n",
    "| `graph` | オプション。使用するデータフローグラフを指定する場合に使用する。 |\n",
    "| `config` | オプション。セッションの構成オプションを指定する。 |\n",
    "\n",
    "```python\n",
    "# セッションスタート\n",
    "sess = tf.Session()\n",
    "```\n",
    "\n",
    "### `Sessionオブジェクト.run(opノード)` : opノード(Tensorオブジェクト)を評価し、計算操作の結果を返す\n",
    "```python\n",
    "run(\n",
    "    fetches,\n",
    "    feed_dict=None,\n",
    "    options=None,\n",
    "    run_metadata=None\n",
    ")\n",
    "```\n",
    "\n",
    "| 引数 | 説明 |\n",
    "|:-----:|:------|\n",
    "| fetches | 計算グラフのopノード(Tensorオブジェクト)を指定する。 |\n",
    "| feed_dict | 型を指定。指定されていない場合はfetchesから推論された型がセットされる。 |\n",
    "| options | オプション。このオプションを使って特定のステップの振る舞いを制御できる(トレースをオンにするなど)。 |\n",
    "| run_metadata | オプション。非テンソルからの出力を収集する。 |\n",
    "\n",
    "### `Variableオブジェクト.initializer` : 変数の初期化\n",
    "**変数(Variable)の初期化**\n",
    "```python\n",
    "# initializerプロパティの戻り値(初期化op)を取得する.\n",
    "Sessionオブジェクト.run(Variableオブジェクト.initializer)\n",
    "\n",
    "# 初期化が済むと他のopノードと同じ状態になる.\n",
    "Sessionオブジェクト.run(Variableオブジェクト)\n",
    "```"
   ]
  },
  {
   "cell_type": "code",
   "execution_count": 6,
   "metadata": {},
   "outputs": [
    {
     "name": "stdout",
     "output_type": "stream",
     "text": [
      "rate =  0.08\n",
      "price =  1000.0\n",
      "price(update) =  1080.0\n"
     ]
    }
   ],
   "source": [
    "# セッション部\n",
    "sess = tf.Session()    # セッションスタート\n",
    "print('rate = ', sess.run(rate))    # rateノードを実行\n",
    "sess.run(price.initializer)    # 変数priceは初期化が必要\n",
    "print('price = ', sess.run(price))    # 変数priceを出力\n",
    "\n",
    "sess.run(update)    # updateノードを実行\n",
    "print('price(update) = ', sess.run(price))    # 更新後のprice\n",
    "\n",
    "sess.close()    # セッションを閉じる"
   ]
  },
  {
   "cell_type": "markdown",
   "metadata": {},
   "source": [
    "# データフローグラフを実行するいくつかのパターン\n",
    "\n",
    "## `tf.global_variables_initializer()`で変数をまとめて初期化する\n",
    "`tf.global_variables_initializer()`は、定義済みのすべての変数をまとめて初期化する。\n",
    "\n",
    "> `tf.global_variables_initializer()` : **すべてのグローバル変数を初期化するための処理を返す。**\n",
    "\n",
    "```python\n",
    "Sessionオブジェクト.run(tf.global_variables_initializer())\n",
    "```"
   ]
  },
  {
   "cell_type": "code",
   "execution_count": 7,
   "metadata": {
    "code_folding": []
   },
   "outputs": [
    {
     "name": "stdout",
     "output_type": "stream",
     "text": [
      "rate =  0.08\n",
      "price =  1000.0\n",
      "price(update) =  1080.0\n"
     ]
    }
   ],
   "source": [
    "# 例)\n",
    "import tensorflow as tf\n",
    "\n",
    "# データフローグラフの作成\n",
    "rate = tf.constant(0.08, dtype=tf.float32)\n",
    "price = tf.Variable(1000.0, dtype=tf.float32)\n",
    "tax = tf.multiply(rate, price)\n",
    "price_tax = tf.add(tax, price)\n",
    "update = tf.assign(price, price_tax)\n",
    "\n",
    "# --- セッション部 ---\n",
    "sess = tf.Session()    # セッションスタート\n",
    "print('rate = ', sess.run(rate))    # rateノードを実行\n",
    "sess.run(tf.global_variables_initializer())\n",
    "print('price = ', sess.run(price))\n",
    "\n",
    "sess.run(update)    # updateノードを実行\n",
    "print('price(update) = ', sess.run(price))    # 更新後のpriceを出力\n",
    "\n",
    "sess.close()    # セッションクローズ\n",
    "# --- セッション部 ---"
   ]
  },
  {
   "cell_type": "markdown",
   "metadata": {},
   "source": [
    "## `tf.InteractiveSession()` : セッションをインタラクティブモードで実行する\n",
    "<div style=\"text-align:center\">\n",
    "    Sessionオブジェクト.run(opノード) → opノード.eval()\n",
    "</div>\n",
    "\n",
    "**<font color=\"red\">※InteractiveSessionオブジェクトを生成する</font>**\n",
    "```python\n",
    "__init__(\n",
    "    target='',\n",
    "    graph=None,\n",
    "    config=None\n",
    ")\n",
    "```\n",
    "\n",
    "| 引数名 | 説明 |\n",
    "|:--------|:-------|\n",
    "| `target` | オプション。接続先の実行エンジンを指定する。 |\n",
    "| `graph` | オプション。特に使用する計算グラフがある場合に指定する。 |\n",
    "| `config` | オプション。セッションの構成オプションを指定する。 |\n",
    "\n",
    " - 「セッションにテンソルオブジェクトを渡す必要がない」\n",
    " - Jupiter Notebookのような対話型(インタラクティブモード)の実行環境において、セッションを気にすることなく、コーディングに集中できるように用意された機能"
   ]
  },
  {
   "cell_type": "code",
   "execution_count": 8,
   "metadata": {},
   "outputs": [
    {
     "name": "stdout",
     "output_type": "stream",
     "text": [
      "rate =  0.08\n",
      "price =  1000.0\n",
      "price(update) =  1080.0\n"
     ]
    }
   ],
   "source": [
    "import tensorflow as tf\n",
    "\n",
    "# データフローグラフの作成\n",
    "rate = tf.constant(0.08, dtype=tf.float32)\n",
    "price = tf.Variable(1000.0, dtype=tf.float32)\n",
    "tax = tf.multiply(rate, price)\n",
    "price_tax = tf.add(tax, price)\n",
    "update = tf.assign(price, price_tax)\n",
    "\n",
    "# セッション部\n",
    "sess = tf.InteractiveSession() # インタラクティブモードでセッション開始\n",
    "sess.run(tf.global_variables_initializer())\n",
    "print('rate = ', rate.eval())\n",
    "print('price = ', price.eval())\n",
    "update.eval()\n",
    "print('price(update) = ', price.eval())\n",
    "\n",
    "sess.close() # セッションを閉じる"
   ]
  },
  {
   "cell_type": "markdown",
   "metadata": {},
   "source": [
    "## with文でセッション全体をラップする\n",
    "\n",
    " - メリット : セッション部とデータフローグラフ作成部を分け、セッションの処理を関数として定義することでわかりやすくする."
   ]
  },
  {
   "cell_type": "code",
   "execution_count": 9,
   "metadata": {},
   "outputs": [
    {
     "name": "stdout",
     "output_type": "stream",
     "text": [
      "rate =  0.08\n",
      "price =  1000.0\n",
      "price(update) =  1080.0\n"
     ]
    }
   ],
   "source": [
    "import tensorflow as tf\n",
    "\n",
    "# データフローグラフの作成\n",
    "rate = tf.constant(0.08, dtype=tf.float32)\n",
    "price = tf.Variable(1000.0, dtype=tf.float32)\n",
    "tax = tf.multiply(rate, price)\n",
    "price_tax = tf.add(tax, price)\n",
    "update = tf.assign(price, price_tax)\n",
    "\n",
    "# セッションの処理を実行する関数\n",
    "def run_session():\n",
    "    sess = tf.Session()    # セッションスタート\n",
    "    # すべての変数をまとめて初期化\n",
    "    sess.run(tf.global_variables_initializer())\n",
    "    print('rate = ', sess.run(rate))\n",
    "    print('price = ', sess.run(price))\n",
    "    sess.run(update)    # updateノードを実行\n",
    "    print('price(update) = ', sess.run(price))\n",
    "    sess.close()    # セッションクローズ\n",
    "\n",
    "# セッションを実行\n",
    "run_session()"
   ]
  },
  {
   "cell_type": "markdown",
   "metadata": {},
   "source": [
    "### `with`文でセッション全体をラップする\n",
    "\n",
    "```python\n",
    "with オブジェクトを生成するコード as 変数:\n",
    "    オブジェクトを用いた処理\n",
    "```"
   ]
  },
  {
   "cell_type": "code",
   "execution_count": 11,
   "metadata": {},
   "outputs": [
    {
     "name": "stdout",
     "output_type": "stream",
     "text": [
      "rate =  0.08\n",
      "price =  1000.0\n",
      "price(update) =  1080.0\n"
     ]
    }
   ],
   "source": [
    "import tensorflow as tf\n",
    "\n",
    "# データフローグラフの作成\n",
    "rate = tf.constant(0.08, dtype=tf.float32)\n",
    "price = tf.Variable(1000.0, dtype=tf.float32)\n",
    "tax = tf.multiply(rate, price)\n",
    "price_tax = tf.add(tax, price)\n",
    "update = tf.assign(price, price_tax)\n",
    "\n",
    "# セッションの処理\n",
    "with tf.Session() as sess:\n",
    "    sess.run(tf.global_variables_initializer())\n",
    "    print('rate = ', sess.run(rate))\n",
    "    print('price = ', sess.run(price))\n",
    "    sess.run(update)\n",
    "    print('price(update) = ', sess.run(price))"
   ]
  },
  {
   "cell_type": "markdown",
   "metadata": {},
   "source": [
    "<div style=\"text-align:center\">\n",
    "    <b>TensorFlowの演算子</b>\n",
    "</div>\n",
    "\n",
    "| 演算子 | 説明 |\n",
    "|:--------|:-------|\n",
    "| `tf.add(x, y)` | 同じ型のTensorを足し算する($x + y$)。 |\n",
    "| `tf.subtract(x, y)` | 同じ型のTensorを引き算する($x - y$)。 |\n",
    "| `tf.multiply(x, y)` | 2つのTensorに対して行列の積を求める。 |\n",
    "| `tf.pow(x, y)` | $x$の要素ごとに$y$乗する($x^{y}$)。 |\n",
    "| `tf.exp(x)` | $\\mathrm {exp}\\left( x \\right)$ |\n",
    "| `tf.sqrt(x)` | $x$の平方根を求める。 |\n",
    "| `tf.div(x, y)` | $x$と$y$の要素ごとの徐算を行う。 |\n",
    "| `tf.truediv(x, y)` | float型の引数をキャストする以外は、`div()`と同じ。 |\n",
    "| `tf.floordiv(x, y)` | 求めた値を整数に丸める以外は、`div()`と同じ。 |\n",
    "| `tf.mod(x, y)` | 要素ごとの剰余を求める。 |"
   ]
  },
  {
   "cell_type": "markdown",
   "metadata": {},
   "source": [
    "# `tf.placeholder`(プレースホルダー)\n",
    "定数(Constant)や変数(Variable)は、宣言時に初期値を設定する。ただ、処理によっては実際にプログラムを実行してみないことには値が決まらないこともある。そようなときに使うのが、`tf.placeholder`。\n",
    "\n",
    "```python\n",
    "tf.placeholder(\n",
    "    dtype,\n",
    "    shape=None,\n",
    "    name=None\n",
    ")\n",
    "```\n",
    "\n",
    "| 引数名 | 説明 |\n",
    "|:--------|:------|\n",
    "| `dtype` | 要素の型 |\n",
    "| `shape` | オプション。要素の形状を指定。 |\n",
    "| `name` | オプション。オペレーションの名前。 |"
   ]
  },
  {
   "cell_type": "markdown",
   "metadata": {},
   "source": [
    "## 実行時に確定する値をプレースホルダーで保持する\n",
    "例 : 「指数平滑法(しすうへいかつほう)」を使って時系列データから将来値を予測する処理を行う。\n",
    "\n",
    "指数平滑法:\n",
    "$$\n",
    "\\begin{eqnarray}\n",
    "\\hat {y}_{t} & = & \\alpha y_{t-1} + (1 - \\alpha) \\hat {y}_{t-1}\\\\\n",
    "& = & \\hat {y}_{t-1} + \\alpha \\left( y_{t-1} - \\hat {y}_{t-1} \\right)\n",
    "\\end{eqnarray}\n",
    "$$\n",
    "\n",
    " - $\\hat {y}_{t}$ : $t$の予測値\n",
    " - $y_{t}$ : 直前($t - 1$)の実測値\n",
    " - $\\hat {y}_{t-1}$ : 直前($t-1$)の予測値\n",
    " - $0 < \\alpha < 1$"
   ]
  },
  {
   "cell_type": "code",
   "execution_count": 12,
   "metadata": {
    "scrolled": true
   },
   "outputs": [
    {
     "name": "stdout",
     "output_type": "stream",
     "text": [
      "(measured) 9.346932570793134 (predicted) 0.46734664\n",
      "(measured) 10.366985388078238 (predicted) 0.9623286\n",
      "(measured) 9.566187865499398 (predicted) 1.3925216\n",
      "(measured) 8.767875092900873 (predicted) 1.7612892\n",
      "(measured) 10.990154347942353 (predicted) 2.2227325\n",
      "(measured) 10.36930543711687 (predicted) 2.6300611\n",
      "(measured) 10.596902354515937 (predicted) 3.0284033\n",
      "(measured) 9.67530567095879 (predicted) 3.3607483\n",
      "(measured) 8.959198803571688 (predicted) 3.6406708\n",
      "(measured) 8.699302080035249 (predicted) 3.8936024\n",
      "(measured) 12.369214799469734 (predicted) 4.317383\n",
      "(measured) 9.699843347142904 (predicted) 4.586506\n",
      "(measured) 10.230180595714181 (predicted) 4.8686895\n",
      "(measured) 9.99635225471173 (predicted) 5.1250725\n",
      "(measured) 9.564458473192829 (predicted) 5.3470416\n",
      "(measured) 11.050979889706088 (predicted) 5.6322384\n",
      "(measured) 9.197160528831416 (predicted) 5.8104844\n",
      "(measured) 10.755318115029366 (predicted) 6.057726\n",
      "(measured) 8.665273093095179 (predicted) 6.188103\n",
      "(measured) 9.541500808931099 (predicted) 6.355773\n",
      "(measured) 9.96481972276055 (predicted) 6.5362253\n",
      "(measured) 9.409728340353219 (predicted) 6.6799006\n",
      "(measured) 10.68852795818747 (predicted) 6.880332\n",
      "(measured) 10.723273872365002 (predicted) 7.0724792\n",
      "(measured) 8.658882350073563 (predicted) 7.151799\n",
      "(measured) 9.712589440636794 (predicted) 7.2798386\n",
      "(measured) 10.492046972221338 (predicted) 7.4404488\n",
      "(measured) 9.979177289651163 (predicted) 7.567385\n",
      "(measured) 11.538402761151126 (predicted) 7.765936\n",
      "(measured) 10.395139790124734 (predicted) 7.897396\n",
      "(measured) 9.66554710511709 (predicted) 7.9858036\n",
      "(measured) 12.538326109968594 (predicted) 8.213429\n",
      "(measured) 10.153782663606721 (predicted) 8.310447\n",
      "(measured) 8.987097210550354 (predicted) 8.344279\n",
      "(measured) 8.183578566259346 (predicted) 8.336245\n",
      "(measured) 8.579990943276588 (predicted) 8.348432\n",
      "(measured) 10.440054957360484 (predicted) 8.453012\n",
      "(measured) 9.661312074862254 (predicted) 8.513428\n",
      "(measured) 10.098073694173998 (predicted) 8.59266\n",
      "(measured) 10.528859642134389 (predicted) 8.68947\n",
      "(measured) 9.69018144869892 (predicted) 8.739506\n",
      "(measured) 11.372762194350509 (predicted) 8.871168\n",
      "(measured) 11.568010257998523 (predicted) 9.00601\n",
      "(measured) 8.109214178622102 (predicted) 8.96117\n",
      "(measured) 11.655989460374668 (predicted) 9.095911\n",
      "(measured) 9.461471835758521 (predicted) 9.114189\n",
      "(measured) 9.183275274317733 (predicted) 9.117643\n",
      "(measured) 7.936802574422817 (predicted) 9.058601\n",
      "(measured) 8.262750394195127 (predicted) 9.018808\n",
      "(measured) 9.608150812689294 (predicted) 9.048275\n",
      "(measured) 8.943801934709594 (predicted) 9.043052\n",
      "(measured) 12.927092560051655 (predicted) 9.237254\n",
      "(measured) 11.924948070820541 (predicted) 9.371639\n",
      "(measured) 9.662875674897709 (predicted) 9.386201\n",
      "(measured) 11.511155918746017 (predicted) 9.492449\n",
      "(measured) 9.831920532823435 (predicted) 9.509422\n",
      "(measured) 8.98282257300276 (predicted) 9.483092\n",
      "(measured) 10.223433280330381 (predicted) 9.520109\n",
      "(measured) 9.945982318540858 (predicted) 9.541403\n",
      "(measured) 10.162536662266252 (predicted) 9.572459\n",
      "(measured) 11.050245540653346 (predicted) 9.646349\n",
      "(measured) 8.337642040110154 (predicted) 9.580914\n",
      "(measured) 10.19385999065852 (predicted) 9.611561\n",
      "(measured) 9.945522626353833 (predicted) 9.628259\n",
      "(measured) 8.150540456065531 (predicted) 9.554373\n",
      "(measured) 8.581144224754174 (predicted) 9.505712\n",
      "(measured) 11.158336395465357 (predicted) 9.588343\n",
      "(measured) 10.607072105362604 (predicted) 9.639279\n",
      "(measured) 9.117976390357997 (predicted) 9.6132145\n",
      "(measured) 9.132815091293189 (predicted) 9.589194\n",
      "(measured) 12.292740812973665 (predicted) 9.724372\n",
      "(measured) 9.660639746190428 (predicted) 9.721186\n",
      "(measured) 10.452599930264878 (predicted) 9.757756\n",
      "(measured) 10.239665724487683 (predicted) 9.781852\n",
      "(measured) 10.181008885703676 (predicted) 9.801809\n",
      "(measured) 10.936899133892672 (predicted) 9.858563\n",
      "(measured) 10.32679103692839 (predicted) 9.881975\n",
      "(measured) 9.648215446863865 (predicted) 9.870287\n",
      "(measured) 10.088827251521547 (predicted) 9.881214\n",
      "(measured) 10.293481255679689 (predicted) 9.901828\n",
      "(measured) 10.845644122480081 (predicted) 9.9490185\n",
      "(measured) 11.660068636801356 (predicted) 10.034571\n",
      "(measured) 9.617435689825212 (predicted) 10.013714\n",
      "(measured) 10.366415502098828 (predicted) 10.031349\n",
      "(measured) 9.377703958064947 (predicted) 9.998667\n",
      "(measured) 9.137354930706437 (predicted) 9.955601\n",
      "(measured) 11.231092274390328 (predicted) 10.019375\n",
      "(measured) 9.64788220680896 (predicted) 10.0008\n",
      "(measured) 10.311112502280748 (predicted) 10.016315\n",
      "(measured) 9.970812870902664 (predicted) 10.01404\n",
      "(measured) 9.488250135630635 (predicted) 9.98775\n",
      "(measured) 8.06526089031348 (predicted) 9.891625\n",
      "(measured) 7.826577271407336 (predicted) 9.788373\n",
      "(measured) 9.354198049551506 (predicted) 9.7666645\n",
      "(measured) 10.365148455006336 (predicted) 9.796589\n",
      "(measured) 10.354956074068047 (predicted) 9.824507\n",
      "(measured) 12.202458320575387 (predicted) 9.943404\n",
      "(measured) 9.78639457381494 (predicted) 9.935554\n",
      "(measured) 10.730537052373185 (predicted) 9.975303\n",
      "(measured) 10.189166826319944 (predicted) 9.985996\n"
     ]
    }
   ],
   "source": [
    "import tensorflow as tf\n",
    "import numpy as np\n",
    "\n",
    "# ---データフローグラフの作成---\n",
    "nd_data = np.random.normal(10, 1, 100)    # 平均10,標準1の正規分布に従う乱数を100個生成するノード\n",
    "\n",
    "nd_alpha = tf.constant(0.05)    # 定数αノード(値0.05)\n",
    "nd_measured = tf.placeholder(tf.float32)    # 実測値を保持するプレースホルダーのノード\n",
    "val_predicted = tf.Variable(0.0) # 予測値を保持する変数(初期値0.0)\n",
    "\n",
    "nd_init = tf.global_variables_initializer()    # 変数を初期化するノード\n",
    "\n",
    "# 指数平滑法による予測値を求めるノード\n",
    "nd_predict = val_predicted + nd_alpha * (nd_measured - val_predicted)\n",
    "\n",
    "# ---セッションの処理---\n",
    "with tf.Session() as sess:\n",
    "    sess.run(nd_init)    # initノードを実行して変数を初期化\n",
    "    for i in range(len(nd_data)):    # 時系列データを抽出して予測値を求める\n",
    "        predict = sess.run(\n",
    "            nd_predict,    # 指数平滑法のop_predictノードを実行\n",
    "            feed_dict={\n",
    "                nd_measured: nd_data[i]   # プレースホルダーに時系列データをセット\n",
    "                }\n",
    "            )\n",
    "        sess.run(\n",
    "            tf.assign(\n",
    "                val_predicted,    # 変数val_predictedを予測値に更新する\n",
    "                predict    # 指数平滑法による予測値\n",
    "            ))\n",
    "        print(\n",
    "            '(measured)', nd_data[i],  # 実測値を出力\n",
    "            '(predicted)', predict     # 予測値を出力\n",
    "            )"
   ]
  },
  {
   "cell_type": "code",
   "execution_count": null,
   "metadata": {},
   "outputs": [],
   "source": []
  }
 ],
 "metadata": {
  "kernelspec": {
   "display_name": "Python 3",
   "language": "python",
   "name": "python3"
  },
  "language_info": {
   "codemirror_mode": {
    "name": "ipython",
    "version": 3
   },
   "file_extension": ".py",
   "mimetype": "text/x-python",
   "name": "python",
   "nbconvert_exporter": "python",
   "pygments_lexer": "ipython3",
   "version": "3.6.3"
  },
  "toc": {
   "nav_menu": {},
   "number_sections": true,
   "sideBar": true,
   "skip_h1_title": false,
   "toc_cell": false,
   "toc_position": {
    "height": "829px",
    "left": "0px",
    "right": "1432px",
    "top": "110px",
    "width": "248px"
   },
   "toc_section_display": "block",
   "toc_window_display": true
  }
 },
 "nbformat": 4,
 "nbformat_minor": 2
}
