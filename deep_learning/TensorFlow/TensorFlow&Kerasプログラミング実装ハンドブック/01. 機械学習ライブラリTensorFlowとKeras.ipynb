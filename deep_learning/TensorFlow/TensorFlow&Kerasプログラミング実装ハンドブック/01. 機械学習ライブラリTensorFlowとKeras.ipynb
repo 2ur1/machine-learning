{
 "cells": [
  {
   "cell_type": "markdown",
   "metadata": {},
   "source": [
    "# 機械学習ライブラリTensorFlowとKeras"
   ]
  },
  {
   "cell_type": "markdown",
   "metadata": {},
   "source": [
    "## Pythonで機械学習するためのライブラリ - TensorFlow\n",
    "\n",
    " -  TensorFlow : 機械学習のためのアルゴリズム\n",
    " - ソースコードからTensorFlowにアクセスすることで、機械学習のためのモデルをフローチャートとして記述するだけでプログラムとして実装できる\n",
    "\n",
    "## TensorFlowはニューラルネットワークをどのように実現するのか\n",
    "\n",
    " - TensorFlowでは、「**データフローグラフ**」の考え方に基づいて処理を作る\n",
    " - 機械学習では様々な計算式を用いて処理を行うが、プログラムとして書くからには、一つの計算式を関数として定義し、これを相互に呼び出し合って処理を進めていくことになる"
   ]
  },
  {
   "cell_type": "markdown",
   "metadata": {},
   "source": [
    "## 例) 消費税の計算を行うプログラム\n",
    "$$\n",
    "税込金額 = 価格 \\times 税率(1.08)\n",
    "$$\n",
    "\n",
    "> **処理の手順**\n",
    ">\n",
    "> 1. 価格に税率(0.08)を掛けて税額を求める\n",
    "> 2. 価格に税額を加算して税込金額を求める"
   ]
  },
  {
   "cell_type": "markdown",
   "metadata": {},
   "source": [
    "### データフローグラフの定義"
   ]
  },
  {
   "cell_type": "code",
   "execution_count": 2,
   "metadata": {},
   "outputs": [],
   "source": [
    "# データフローグラフとして次のように書く.\n",
    "import tensorflow as tf    # TensorFlowのインポート\n",
    "\n",
    "\n",
    "# データフローグラフの作成\n",
    "rate = tf.constant(0.08, dtype=tf.float32)    # 消費税率(float32)のopノード\n",
    "price = tf.Variable(1000.0, dtype=tf.float32) # 価格(float32)を保持する変数\n",
    "tax = tf.multiply(rate, price)                # 税額を計算するopノード\n",
    "price_tax = tf.add(tax, price)                # 税込み金額を計算するopノード\n",
    "update = tf.assign(price, price_tax)          # 変数priceを更新するopノード"
   ]
  },
  {
   "cell_type": "markdown",
   "metadata": {},
   "source": [
    " - rate : 税率(0.08)を保持する定数\n",
    " - price : 価格や税込価格を保持する変数\n",
    " - tax, price, update : op(オペレーション)ノードと呼ばれるデータフローグラフの構成要素\n",
    " - `tf.multipy(税率, 価格)` : 価格と税率の掛け算が行われる\n",
    " - `tf.assign()` : 「第１引数に指定した変数に第2引数で指定した処理結果を代入する」という処理を行う"
   ]
  },
  {
   "cell_type": "markdown",
   "metadata": {},
   "source": [
    "### データフローグラフの実行「セッション」\n",
    "定義したデータフローグラフを実行するのが「セッション」と呼ばれる部分"
   ]
  },
  {
   "cell_type": "code",
   "execution_count": 3,
   "metadata": {},
   "outputs": [
    {
     "name": "stdout",
     "output_type": "stream",
     "text": [
      "price(update) =  1080.0\n"
     ]
    }
   ],
   "source": [
    "# セッション部\n",
    "sess = tf.Session()                           # セッションスタート\n",
    "sess.run(price.initializer)                   # 変数priceは初期化が必要\n",
    "sess.run(update)                              # updateノードを実行\n",
    "print('price(update) = ', sess.run(price))    # 更新後のpriceを出力"
   ]
  },
  {
   "cell_type": "code",
   "execution_count": null,
   "metadata": {},
   "outputs": [],
   "source": []
  }
 ],
 "metadata": {
  "kernelspec": {
   "display_name": "Python 3",
   "language": "python",
   "name": "python3"
  },
  "language_info": {
   "codemirror_mode": {
    "name": "ipython",
    "version": 3
   },
   "file_extension": ".py",
   "mimetype": "text/x-python",
   "name": "python",
   "nbconvert_exporter": "python",
   "pygments_lexer": "ipython3",
   "version": "3.6.3"
  },
  "toc": {
   "nav_menu": {},
   "number_sections": true,
   "sideBar": true,
   "skip_h1_title": false,
   "toc_cell": false,
   "toc_position": {},
   "toc_section_display": "block",
   "toc_window_display": false
  }
 },
 "nbformat": 4,
 "nbformat_minor": 2
}
