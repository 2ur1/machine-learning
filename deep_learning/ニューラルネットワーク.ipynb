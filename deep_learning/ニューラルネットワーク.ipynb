{
 "cells": [
  {
   "cell_type": "markdown",
   "metadata": {},
   "source": [
    "本jupyterファイルでは、以下のニューラルネットを取り扱う\n",
    "\n",
    " - ロジスティック回帰\n",
    " - 多クラスロジスティック回帰\n",
    " - 多層パーセプトロン"
   ]
  },
  {
   "cell_type": "markdown",
   "metadata": {},
   "source": [
    "# ロジスティック回帰\n",
    "\n",
    "## モデル化\n",
    "$$\n",
    "p\\left( { y = 1 } | { \\boldsymbol {\\mathrm {x}} } \\right) \\approx f\\left( u \\right)\\\\\n",
    "p\\left( { y = 0 } | { \\boldsymbol {\\mathrm {x}} } \\right) \\approx 1 - f\\left( u \\right)\n",
    "$$\n",
    "\n",
    "### 活性化関数 : ロジスティックシグモイド関数\n",
    "$$\n",
    "f\\left( u \\right) = \\frac {1}{1 + e^{-u}}\\\\\n",
    "u = \\boldsymbol {\\mathrm {w}}^{T} \\boldsymbol {\\mathrm {x}} + \\boldsymbol {\\mathrm {b}}\n",
    "$$\n",
    "\n",
    "### 誤差関数 : 交差エントロピー\n",
    "$$\n",
    "L\\left( \\boldsymbol {\\mathrm {w}} ; \\boldsymbol {\\mathrm {x}} \\right) = \\prod _{i=1}^{N}{p\\left( { y_{i} } | { \\boldsymbol {\\mathrm {x}} ; \\boldsymbol {\\mathrm {w}}} \\right)} = \\prod _{i=1}^{N}{\\left\\{ f\\left( \\boldsymbol {\\mathrm {x}}_{i} ; \\boldsymbol {\\mathrm {w}} \\right) \\right\\}^{y_{i}} \\left\\{ 1 - f\\left( \\boldsymbol {\\mathrm {x}}_{i} ; \\boldsymbol {\\mathrm {w}} \\right) \\right\\}^{1 - y_{i}} }\\\\\n",
    "\\log {L\\left( \\boldsymbol {\\mathrm {w}} ; \\boldsymbol {\\mathrm {x}} \\right)} = \\sum _{i=1}^{N}{\\left\\{ y_{i} \\log {f\\left( \\boldsymbol {\\mathrm {x}}_{i} ; \\boldsymbol {\\mathrm {w}} \\right)} + (1 - y_{i}) \\log {\\left[ 1 - f\\left( \\boldsymbol {\\mathrm {x}}_{i} ; \\boldsymbol {\\mathrm {w}} \\right) \\right]} \\right\\}}\n",
    "$$\n",
    "上記の対数尤度関数の符号を反転した関数を誤差関数とし、この値の最小化を考える。\n",
    "$$\n",
    "E\\left( \\boldsymbol {\\mathrm {w}} \\right) = - \\sum _{i=1}^{N}{\\left\\{ y_{i} \\log {f\\left( \\boldsymbol {\\mathrm {x}}_{i} ; \\boldsymbol {\\mathrm {w}} \\right)} + (1 - y_{i}) \\log {\\left[ 1 - f\\left( \\boldsymbol {\\mathrm {x}}_{i} ; \\boldsymbol {\\mathrm {w}} \\right) \\right]} \\right\\}}\n",
    "$$\n",
    "\n",
    "### 勾配降下法\n",
    "$$\n",
    "\\boldsymbol {\\mathrm {w}} = arg \\min _{ \\boldsymbol {\\mathrm {w}} }{E\\left( \\boldsymbol {\\mathrm {w}} \\right)}\n",
    "$$"
   ]
  },
  {
   "cell_type": "code",
   "execution_count": null,
   "metadata": {},
   "outputs": [],
   "source": []
  }
 ],
 "metadata": {
  "kernelspec": {
   "display_name": "Python 3",
   "language": "python",
   "name": "python3"
  },
  "language_info": {
   "codemirror_mode": {
    "name": "ipython",
    "version": 3
   },
   "file_extension": ".py",
   "mimetype": "text/x-python",
   "name": "python",
   "nbconvert_exporter": "python",
   "pygments_lexer": "ipython3",
   "version": "3.6.3"
  },
  "toc": {
   "nav_menu": {},
   "number_sections": true,
   "sideBar": true,
   "skip_h1_title": false,
   "toc_cell": false,
   "toc_position": {},
   "toc_section_display": "block",
   "toc_window_display": false
  }
 },
 "nbformat": 4,
 "nbformat_minor": 2
}
