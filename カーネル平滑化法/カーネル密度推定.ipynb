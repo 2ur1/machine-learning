{
 "cells": [
  {
   "cell_type": "markdown",
   "metadata": {},
   "source": [
    "カーネル密度推定は、教師なし学習の手法の一つである。カーネル密度推定を用いることで、分類・回帰のためのノンパラメトリックな手法を自然に導くことができる。"
   ]
  },
  {
   "cell_type": "code",
   "execution_count": 1,
   "metadata": {
    "collapsed": true
   },
   "outputs": [],
   "source": [
    "import numpy as np\n",
    "import pandas as pd\n",
    "\n",
    "from pandas import DataFrame, Series\n",
    "\n",
    "import matplotlib.pyplot as plt\n",
    "import seaborn as sns\n",
    "\n",
    "%matplotlib inline"
   ]
  },
  {
   "cell_type": "markdown",
   "metadata": {},
   "source": [
    "# カーネル密度推定\n",
    "　確率密度$f_{X}\\left( x \\right)$から生成されたランダム標本$x_{1}, \\dots, x_{N}$が与えられており、$x_{0}$において$f_{X}$を推定したいとする。ここでは簡単のため$X \\in R$と仮定する。\n",
    " \n",
    "自然な局所推定値は\n",
    "$$\n",
    "{\\hat {f}}_{X}\\left( x_{0} \\right) = \\frac { \\#x_{i} \\in N\\left( x_{0} \\right)}{ N \\lambda }\n",
    "$$\n",
    "となる。\n",
    "\n",
    " - $N\\left( x_{0} \\right)$ : $x_{0}$周りの幅$\\lambda$での近傍\n",
    "\n",
    "上式の推定値は滑らかではないので、**平滑化パルツェン推定値**\n",
    "$$\n",
    "{\\hat {f}}_{X}\\left( x_{0} \\right) = \\frac {1}{N \\lambda} K_{\\lambda}\\left(x_{0}, ,x_{i}\\right)\n",
    "$$\n",
    "が好ましい。なぜなら、これは$x_{0}$に近い観測値を$x_{0}$からの距離に応じて減少する重みで割り引いて考慮するからである。"
   ]
  },
  {
   "cell_type": "code",
   "execution_count": null,
   "metadata": {
    "collapsed": true
   },
   "outputs": [],
   "source": []
  }
 ],
 "metadata": {
  "kernelspec": {
   "display_name": "Python 3",
   "language": "python",
   "name": "python3"
  },
  "language_info": {
   "codemirror_mode": {
    "name": "ipython",
    "version": 3
   },
   "file_extension": ".py",
   "mimetype": "text/x-python",
   "name": "python",
   "nbconvert_exporter": "python",
   "pygments_lexer": "ipython3",
   "version": "3.6.3"
  },
  "toc": {
   "nav_menu": {},
   "number_sections": true,
   "sideBar": true,
   "skip_h1_title": false,
   "toc_cell": false,
   "toc_position": {},
   "toc_section_display": "block",
   "toc_window_display": false
  }
 },
 "nbformat": 4,
 "nbformat_minor": 2
}
