{
 "cells": [
  {
   "cell_type": "code",
   "execution_count": 17,
   "metadata": {
    "collapsed": true
   },
   "outputs": [],
   "source": [
    "import numpy as np\n",
    "import pandas as pd\n",
    "\n",
    "import scipy as sp\n",
    "from scipy.stats import norm\n",
    "\n",
    "import seaborn as sns\n",
    "import matplotlib.pyplot as plt\n",
    "\n",
    "%matplotlib inline"
   ]
  },
  {
   "cell_type": "markdown",
   "metadata": {},
   "source": [
    "# マハラノビス距離に基づく外れ値検出\n",
    "\n",
    " - データは$n$次元連続値ベクトルであるとする\n",
    " - これまで得られたデータ列を$x^{m} = x_{1}, \\cdots , x_{m}$とし、$i$番目のデータは$x_{i} = {\\left(x_{i,1}, \\cdots, x_{i,n} \\right)}^{T} $と記す\n",
    " - 平均ベクトル$\\mu$,分散共分散行列$\\Sigma$は以下で求められる\n",
    "$$\n",
    "\\mu = \\frac {1}{m}\\sum _{i=1}^{m}{x_{i}}, \\quad \\Sigma = \\frac {1}{m}\\sum _{i=1}^{m}{ \\left(x_{i} - \\mu\\right)\\left(x_{i} - \\mu\\right)^{T} }\n",
    "$$\n",
    " - そこで、$\\theta$を閾値パラメータとして、新しいデータ$x$に対して、\n",
    " $$\n",
    " \\left\\{\\left(x - \\mu\\right)^{T} {\\Sigma}^{-1} \\left(x - \\mu\\right)\\right\\}^{1/2} > \\theta \\quad (3.1)\n",
    " $$\n",
    " を満たすならば$x$は外れ値であると判定する。式(3.1)の左辺は$x$と$\\mu$の**マハラノビス距離(Mahalanobis distance)**と呼ばれるもの\n",
    "である。\n",
    "\n",
    "以上の方法では、平均値と分散といった基本概念を通じて外れ値の概念を定式化している。しかし、平均値自身は外れ値の影響を大きく受け>るため、むしろ**中央値(median)**の考え方を利用して外れ値検出を行う方法も考えられる。"
   ]
  },
  {
   "cell_type": "code",
   "execution_count": null,
   "metadata": {
    "collapsed": true
   },
   "outputs": [],
   "source": [
    "def mahalanobis_dist(x):\n",
    "    mu = np.mean(x, axis=1, skipna=True)\n",
    "    cov = np.cov(x, rowvar=0, bias=1)\n",
    "    inv_cov = np.linalg.inv(cov)\n",
    "    mahal = np.dot()"
   ]
  },
  {
   "cell_type": "code",
   "execution_count": 1,
   "metadata": {},
   "outputs": [
    {
     "data": {
      "text/html": [
       "<div>\n",
       "<table border=\"1\" class=\"dataframe\">\n",
       "  <thead>\n",
       "    <tr style=\"text-align: right;\">\n",
       "      <th></th>\n",
       "      <th>satisfaction_level</th>\n",
       "      <th>last_evaluation</th>\n",
       "      <th>number_project</th>\n",
       "      <th>average_montly_hours</th>\n",
       "      <th>time_spend_company</th>\n",
       "      <th>Work_accident</th>\n",
       "      <th>left</th>\n",
       "      <th>promotion_last_5years</th>\n",
       "      <th>sales</th>\n",
       "      <th>salary</th>\n",
       "    </tr>\n",
       "  </thead>\n",
       "  <tbody>\n",
       "    <tr>\n",
       "      <th>0</th>\n",
       "      <td>0.38</td>\n",
       "      <td>0.53</td>\n",
       "      <td>2</td>\n",
       "      <td>157</td>\n",
       "      <td>3</td>\n",
       "      <td>0</td>\n",
       "      <td>1</td>\n",
       "      <td>0</td>\n",
       "      <td>sales</td>\n",
       "      <td>low</td>\n",
       "    </tr>\n",
       "    <tr>\n",
       "      <th>1</th>\n",
       "      <td>0.80</td>\n",
       "      <td>0.86</td>\n",
       "      <td>5</td>\n",
       "      <td>262</td>\n",
       "      <td>6</td>\n",
       "      <td>0</td>\n",
       "      <td>1</td>\n",
       "      <td>0</td>\n",
       "      <td>sales</td>\n",
       "      <td>medium</td>\n",
       "    </tr>\n",
       "    <tr>\n",
       "      <th>2</th>\n",
       "      <td>0.11</td>\n",
       "      <td>0.88</td>\n",
       "      <td>7</td>\n",
       "      <td>272</td>\n",
       "      <td>4</td>\n",
       "      <td>0</td>\n",
       "      <td>1</td>\n",
       "      <td>0</td>\n",
       "      <td>sales</td>\n",
       "      <td>medium</td>\n",
       "    </tr>\n",
       "    <tr>\n",
       "      <th>3</th>\n",
       "      <td>0.72</td>\n",
       "      <td>0.87</td>\n",
       "      <td>5</td>\n",
       "      <td>223</td>\n",
       "      <td>5</td>\n",
       "      <td>0</td>\n",
       "      <td>1</td>\n",
       "      <td>0</td>\n",
       "      <td>sales</td>\n",
       "      <td>low</td>\n",
       "    </tr>\n",
       "    <tr>\n",
       "      <th>4</th>\n",
       "      <td>0.37</td>\n",
       "      <td>0.52</td>\n",
       "      <td>2</td>\n",
       "      <td>159</td>\n",
       "      <td>3</td>\n",
       "      <td>0</td>\n",
       "      <td>1</td>\n",
       "      <td>0</td>\n",
       "      <td>sales</td>\n",
       "      <td>low</td>\n",
       "    </tr>\n",
       "  </tbody>\n",
       "</table>\n",
       "</div>"
      ],
      "text/plain": [
       "   satisfaction_level  last_evaluation  number_project  average_montly_hours  \\\n",
       "0                0.38             0.53               2                   157   \n",
       "1                0.80             0.86               5                   262   \n",
       "2                0.11             0.88               7                   272   \n",
       "3                0.72             0.87               5                   223   \n",
       "4                0.37             0.52               2                   159   \n",
       "\n",
       "   time_spend_company  Work_accident  left  promotion_last_5years  sales  \\\n",
       "0                   3              0     1                      0  sales   \n",
       "1                   6              0     1                      0  sales   \n",
       "2                   4              0     1                      0  sales   \n",
       "3                   5              0     1                      0  sales   \n",
       "4                   3              0     1                      0  sales   \n",
       "\n",
       "   salary  \n",
       "0     low  \n",
       "1  medium  \n",
       "2  medium  \n",
       "3     low  \n",
       "4     low  "
      ]
     },
     "execution_count": 1,
     "metadata": {},
     "output_type": "execute_result"
    }
   ],
   "source": [
    "HR_DATASET_PATH = 'datasets/HR_comma_sep.csv'\n",
    "hr_df = pd.read_csv(HR_DATASET_PATH)\n",
    "hr_df.head()"
   ]
  },
  {
   "cell_type": "code",
   "execution_count": 23,
   "metadata": {},
   "outputs": [
    {
     "data": {
      "text/plain": [
       "(array([ 0.01465612,  0.01905295,  0.01465612,  0.05862447,  0.14069874,\n",
       "         0.23742912,  0.29898481,  0.68004389,  1.23111393,  0.99954726,\n",
       "         0.14509557,  0.03224346,  0.10552405,  0.21251371,  0.28432869,\n",
       "         0.28432869,  0.14362996,  0.13776751,  0.12604262,  0.06741814]),\n",
       " array([ 1.03774975,  1.22881917,  1.41988859,  1.61095801,  1.80202744,\n",
       "         1.99309686,  2.18416628,  2.3752357 ,  2.56630512,  2.75737455,\n",
       "         2.94844397,  3.13951339,  3.33058281,  3.52165223,  3.71272166,\n",
       "         3.90379108,  4.0948605 ,  4.28592992,  4.47699934,  4.66806877,\n",
       "         4.85913819]),\n",
       " <a list of 20 Patch objects>)"
      ]
     },
     "execution_count": 23,
     "metadata": {},
     "output_type": "execute_result"
    },
    {
     "data": {
      "image/png": "[encoded data removed]",
      "text/plain": [
       "<matplotlib.figure.Figure at 0x110173978>"
      ]
     },
     "metadata": {},
     "output_type": "display_data"
    }
   ],
   "source": [
    "use_cols = [\n",
    "    'satisfaction_level',\n",
    "    'last_evaluation',\n",
    "    'number_project',\n",
    "    'average_montly_hours',\n",
    "    'time_spend_company'\n",
    "]\n",
    "\n",
    "train_x = hr_df[hr_df.left == 0][use_cols]\n",
    "test_x = hr_df[hr_df.left == 1][use_cols]\n",
    "\n",
    "# 平均ベクトル、共分散行列、逆行列を求める\n",
    "mu = np.mean(train_x.values, axis=0)\n",
    "cov = np.cov(train_x.values, rowvar=0, bias=1)\n",
    "inv_cov = np.linalg.inv(cov)\n",
    "\n",
    "\n",
    "mahal_list = []\n",
    "for x in train_x.values:\n",
    "    diff = (x - mu)\n",
    "    mahal = np.dot(diff.T, inv_cov).dot(diff)\n",
    "    mahal_list.append(np.sqrt(mahal))\n",
    "\n",
    "mahal_ser = Series(mahal_list)\n",
    "plt.hist(mahal_ser, normed=True, alpha=0.5, bins=20)\n",
    "\n",
    "mahal_list = []\n",
    "for x in test_x.values:\n",
    "    diff = (x - mu)\n",
    "    mahal = np.dot(diff.T, inv_cov).dot(diff)\n",
    "    mahal_list.append(np.sqrt(mahal))\n",
    "\n",
    "mahal_ser = Series(mahal_list)\n",
    "plt.hist(mahal_ser, normed=True, alpha=0.5, bins=20, color='indianred')"
   ]
  },
  {
   "cell_type": "code",
   "execution_count": 1,
   "metadata": {
    "collapsed": true
   },
   "outputs": [],
   "source": [
    "def local_norm(x):\n",
    "    \"\"\"\n",
    "    標準化変量 = (x - 平均値)/標準偏差\n",
    "    \"\"\"\n",
    "    means = np.mean(x, axis=1)\n",
    "    std = np.std(x, axis=1)\n",
    "    local_norm = (x - means[np.newaxis, :])/std[np.newaxis, :]\n",
    "    return local_norm\n",
    "\n",
    "\n",
    "def normal_pdf(x, mu, sigma):\n",
    "    m = x.shape[0]\n",
    "    epsi = 1.0e-6\n",
    "    exp_part = np.exp(-0.5 * np.dot(np.dot((x-mu).T, np.linalg.pinv(sigma)), x-mu))\n",
    "    norm_part = 1.0 / ((2.0*np.pi)**(m/2.0) * np.sqrt(np.linalg.det(sigma)))\n",
    "    return norm_part * exp_part"
   ]
  },
  {
   "cell_type": "code",
   "execution_count": null,
   "metadata": {
    "collapsed": true
   },
   "outputs": [],
   "source": []
  },
  {
   "cell_type": "code",
   "execution_count": 4,
   "metadata": {
    "collapsed": true
   },
   "outputs": [],
   "source": [
    "def SDLE_algo(x, r, beta):\n",
    "    pass\n",
    "\n",
    "\n",
    "def SDEM_algo(x, r, alpha, k):\n",
    "    pass"
   ]
  },
  {
   "cell_type": "code",
   "execution_count": null,
   "metadata": {
    "collapsed": true
   },
   "outputs": [],
   "source": []
  }
 ],
 "metadata": {
  "kernelspec": {
   "display_name": "Python 3",
   "language": "python",
   "name": "python3"
  },
  "language_info": {
   "codemirror_mode": {
    "name": "ipython",
    "version": 3
   },
   "file_extension": ".py",
   "mimetype": "text/x-python",
   "name": "python",
   "nbconvert_exporter": "python",
   "pygments_lexer": "ipython3",
   "version": "3.4.5"
  }
 },
 "nbformat": 4,
 "nbformat_minor": 2
}
