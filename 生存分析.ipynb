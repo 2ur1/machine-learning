{
 "cells": [
  {
   "cell_type": "markdown",
   "metadata": {},
   "source": [
    "# 生存分析(Survival Analysis)\n",
    "Survival analysis is a branch of statistics for analyzing the expected duration of time until one or more events happen, such as death in biological organisms and failure in mechanical systems. This topic is called reliability theory or reliability analysis in engineering, duration analysis or duration modelling in economics, and event history analysis in sociology.Survival analysis attempts to answer questions such as: what is the proportion of a population which will survive past a certain time? Of those that survive, at what rate will they die or fail? Can multiple causes of death or failure be taken into account? How do particular circumstances or characteristics increase or decrease the probability of survival?\n",
    "\n",
    "To answer such questions, it is necessary to define \"lifetime\". In the case of biological survival, death is unambiguous, but for mechanical reliability, failure may not be well-defined, for there may well be mechanical systems in which failure is partial, a matter of degree, or not otherwise localized in time. Even in biological problems, some events (for example, heart attack or other organ failure) may have the same ambiguity. The theory outlined below assumes well-defined events at specific times; other cases may be better treated by models which explicitly account for ambiguous events.\n",
    "\n",
    "### References\n",
    " - [Survival analysis - Wikipedia](https://en.wikipedia.org/wiki/Survival_analysis)"
   ]
  },
  {
   "cell_type": "markdown",
   "metadata": {},
   "source": [
    "---\n",
    "# Contents\n",
    "\n",
    " 1. 生存分析とは<br>\n",
    "     1.1. 生存分析における用語<br>\n",
    "     1.2. ex) 急性骨髄性白血病の生存データ<br>\n",
    "        1.2.1. Kaplan-Meier plot for the aml data\n",
    "        1.2.2. Life table for the aml data\n",
    "        1.2.3. Log-rank test: Testing for differences in survival in the aml data<br>\n",
    "     1.3.\tCox proportional hazards (PH) regression analysis<br>\n",
    "        1.3.1. Example: Cox proportional hazards regression analysis for melanoma\n",
    "        1.3.2. Cox model using a covariate in the melanoma data\n",
    "        1.3.3. Extensions to Cox models<br>\n",
    "     1.4.\tTree-structured survival models<br>\n",
    "        1.4.1. Example survival tree analysis\n",
    "        1.4.2. Survival random forests\n",
    " 2. 公式<br>\n",
    "     2.1. 生存関数(Survival function)<br>\n",
    "     2.2. 生存時間分布関数(Lifetime distribution function)とイベント密度(event density)<br>\n",
    "     2.3. ハザード関数(Hazard function)と累積ハザード関数(cumulative hazard function)<br>\n",
    "     2.4. Quantities derived from the survival distribution<br>\n",
    " 3. Censoring\n",
    " 4. Fitting parameters to data\n",
    " 5. Non-parametric estimation\n",
    "\n",
    "---"
   ]
  },
  {
   "cell_type": "markdown",
   "metadata": {},
   "source": [
    "# 1. 生存分析とは\n",
    "\n",
    "### 生存分析の分析手法\n",
    " - あるグループのメンバーの生存時間の解析(To describe the survival times of members of a group)\n",
    "    - [Life tables](https://en.wikipedia.org/wiki/Life_table)\n",
    "    - [カプラン・マイヤー曲線の推定(Kaplan-Meier curves)](https://en.wikipedia.org/wiki/Kaplan%E2%80%93Meier_estimator)\n",
    "    - [生存関数(Survival function)](https://en.wikipedia.org/wiki/Survival_function)\n",
    "    - [ハザード関数(Hazard function)](https://en.wikipedia.org/wiki/Failure_rate)\n",
    " - ２つ以上のグループ間での生存時間の比較(To compare the survival times of two or more groups)\n",
    "     - [Log-rank test](https://en.wikipedia.org/wiki/Log-rank_test)\n",
    " - 生存における多変数、けTo describe the effect of categorical or quantitative variables on survival\n",
    "     - [Cox比例ハザード回帰(Cox proportional hazards regression)]()\n",
    "     - [パラメトリック生存モデル(Parametric survival models)]()"
   ]
  },
  {
   "cell_type": "markdown",
   "metadata": {},
   "source": [
    "---\n",
    "# 2. 公式\n",
    "\n",
    "## 2.1. 生存関数(Survival function)\n",
    "生存関数は慣習的に$S$で表され、次式のように定義される\n",
    "$$\n",
    "S\\left(t\\right) = Pr\\left(T > t\\right)\n",
    "$$\n",
    "\n",
    " - $t$: 時間\n",
    " - $T$: 死亡時間を表す確率変数\n",
    " - $Pr$: 確率関数\n",
    "\n",
    "生存関数は死亡時間が指定した時間$t$よりも後である確率のことである。\n",
    "\n",
    "生存関数の制約・仮定\n",
    "\n",
    " - $S\\left(0\\right) = 1$: しかし、もし即死亡の可能性がある場合、1以下にすることができる\n",
    " - $S\\left(u\\right) > S\\left(t\\right) \\quad if \\quad u > t$: 生存関数は増加率が逓増しなければならない\n",
    " - $t \\rightarrow \\infty$のとき$S\\left(t\\right) = 0$: しかし、永遠に生存できる場合、極限値を0以上にできる。\n",
    "\n",
    "\n",
    "## 2.2. 生存時間分布関数(Lifetime distribution function)とイベント密度(event density)\n",
    "生存時間分布関数は慣習的に$F$で表され、次式のように定義される\n",
    "$$\n",
    "F\\left(t\\right) = Pr\\left(T > t\\right) = 1 - S\\left(t\\right)\n",
    "$$\n",
    "\n",
    "## 2.3. ハザード関数(Hazard function)と累積ハザード関数(cumulative hazard function)\n",
    "\n",
    "## 2.4. Quantities derived from the survival distribution"
   ]
  },
  {
   "cell_type": "code",
   "execution_count": null,
   "metadata": {
    "collapsed": true
   },
   "outputs": [],
   "source": []
  }
 ],
 "metadata": {
  "kernelspec": {
   "display_name": "Python 3",
   "language": "python",
   "name": "python3"
  },
  "language_info": {
   "codemirror_mode": {
    "name": "ipython",
    "version": 3
   },
   "file_extension": ".py",
   "mimetype": "text/x-python",
   "name": "python",
   "nbconvert_exporter": "python",
   "pygments_lexer": "ipython3",
   "version": "3.4.5"
  }
 },
 "nbformat": 4,
 "nbformat_minor": 2
}
