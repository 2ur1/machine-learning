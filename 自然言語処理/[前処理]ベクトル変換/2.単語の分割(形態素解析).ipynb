{
 "cells": [
  {
   "cell_type": "markdown",
   "metadata": {},
   "source": [
    "# 単語の分割(形態素解析)\n",
    "\n",
    "## MeCabのインストール\n",
    "環境はmac.\n",
    "\n",
    "**HomebrewでMeCabと辞書をインストール**\n",
    "```bash\n",
    "brew install mecab\n",
    "brew install mecab-ipadic\n",
    "```\n",
    "\n",
    "**gccのインストール**\n",
    "```bash\n",
    "brew install gcc\n",
    "ln -s /usr/local/bin/gcc-8 /usr/local/bin/gcc\n",
    "ln -s /usr/local/bin/g++-8 /usr/local/bin/g++\n",
    "```\n",
    ".bash_profile なり .zshrc なりを編集して、`which gcc`が`/usr/local/bin/gcc`となるようにする。\n",
    "\n",
    "\n",
    "**mecab-ipadic-NEologdをインストール**<br>\n",
    "これはWeb上の新語をデフォルトの辞書に追加したもの\n",
    "```bash\n",
    "brew install git curl xz\n",
    "git clone --depth 1 https://github.com/neologd/mecab-ipadic-neologd.git\n",
    "cd mecab-ipadic-neologd\n",
    "./bin/install-mecab-ipadic-neologd -n\n",
    "```\n",
    "\n",
    "**mecab-python3をインストール**\n",
    "```bash\n",
    "brew install swig\n",
    "pip install mecab-python3\n",
    "```\n",
    "\n",
    "**`MeCab.Tagger`のパス**<br>\n",
    "MeCab.Taggerで指定するパスは以下の結果\n",
    "```bash\n",
    "echo `mecab-config --dicdir`\"/mecab-ipadic-neologd\"\n",
    "```\n",
    "\n",
    "**実行**\n",
    "```python\n",
    "import MeCab\n",
    "\n",
    "m = MeCab.Tagger('-d /usr/local/lib/mecab/dic/mecab-ipadic-neologd')\n",
    "print(m.parse(\"コーヒー牛乳とラーメン\"))\n",
    "# コーヒー牛乳\t名詞,固有名詞,一般,*,*,*,コーヒー牛乳,コーヒーギュウニュウ,コーヒーギュウニュー\n",
    "# と\t助詞,並立助詞,*,*,*,*,と,ト,ト\n",
    "# ラーメン\t名詞,一般,*,*,*,*,ラーメン,ラーメン,ラーメン\n",
    "# EOS\n",
    "```"
   ]
  },
  {
   "cell_type": "code",
   "execution_count": null,
   "metadata": {},
   "outputs": [],
   "source": []
  }
 ],
 "metadata": {
  "kernelspec": {
   "display_name": "Python 3",
   "language": "python",
   "name": "python3"
  },
  "language_info": {
   "codemirror_mode": {
    "name": "ipython",
    "version": 3
   },
   "file_extension": ".py",
   "mimetype": "text/x-python",
   "name": "python",
   "nbconvert_exporter": "python",
   "pygments_lexer": "ipython3",
   "version": "3.6.5"
  },
  "toc": {
   "base_numbering": 1,
   "nav_menu": {},
   "number_sections": true,
   "sideBar": true,
   "skip_h1_title": false,
   "title_cell": "Table of Contents",
   "title_sidebar": "Contents",
   "toc_cell": false,
   "toc_position": {
    "height": "calc(100% - 180px)",
    "left": "10px",
    "top": "150px",
    "width": "260px"
   },
   "toc_section_display": true,
   "toc_window_display": true
  }
 },
 "nbformat": 4,
 "nbformat_minor": 2
}
