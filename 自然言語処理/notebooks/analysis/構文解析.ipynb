{
 "cells": [
  {
   "cell_type": "markdown",
   "metadata": {},
   "source": [
    "# 構文解析\n",
    "## 概要\n",
    "<div style=\"text-align:center;\">\n",
    "    <strong>テキスト</strong> → <strong>文法構造</strong>\n",
    "</div>\n",
    "\n",
    "## 用途\n",
    "\n",
    " - トレンドを調べるために、ニュース記事やブログの中で出現頻度が急激に増えている名詞を発見\n",
    " - 「太郎は東京で生まれたが、大阪で勤務している。」というテキストから勤務地を抽出する"
   ]
  },
  {
   "cell_type": "markdown",
   "metadata": {},
   "source": [
    "# [手法]係り受け解析(依存構造解析)"
   ]
  },
  {
   "cell_type": "code",
   "execution_count": null,
   "metadata": {},
   "outputs": [],
   "source": []
  }
 ],
 "metadata": {
  "kernelspec": {
   "display_name": "Python 3",
   "language": "python",
   "name": "python3"
  },
  "language_info": {
   "codemirror_mode": {
    "name": "ipython",
    "version": 3
   },
   "file_extension": ".py",
   "mimetype": "text/x-python",
   "name": "python",
   "nbconvert_exporter": "python",
   "pygments_lexer": "ipython3",
   "version": "3.6.5"
  },
  "toc": {
   "base_numbering": 1,
   "nav_menu": {},
   "number_sections": true,
   "sideBar": true,
   "skip_h1_title": false,
   "title_cell": "Table of Contents",
   "title_sidebar": "Contents",
   "toc_cell": false,
   "toc_position": {},
   "toc_section_display": true,
   "toc_window_display": false
  }
 },
 "nbformat": 4,
 "nbformat_minor": 2
}
