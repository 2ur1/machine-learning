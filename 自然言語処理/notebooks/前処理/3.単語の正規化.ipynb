{
 "cells": [
  {
   "cell_type": "markdown",
   "metadata": {},
   "source": [
    "# 単語の正規化\n",
    "\n",
    "## 参考資料\n",
    " - https://qiita.com/Hironsan/items/2466fe0f344115aff177#%E5%8D%98%E8%AA%9E%E3%81%AE%E6%AD%A3%E8%A6%8F%E5%8C%96\n",
    " - https://github.com/Hironsan/natural-language-preprocessings/blob/master/preprocessings/ja/normalization.py\n",
    "\n",
    "## 正規化のタスク\n",
    "\n",
    " - 文字種の統一\n",
    " - 数字の置き換え\n",
    " - 辞書を用いた単語の統一"
   ]
  },
  {
   "cell_type": "code",
   "execution_count": 1,
   "metadata": {
    "ExecuteTime": {
     "end_time": "2019-04-11T23:19:08.620821Z",
     "start_time": "2019-04-11T23:19:07.381851Z"
    }
   },
   "outputs": [],
   "source": [
    "import re\n",
    "import unicodedata\n",
    "\n",
    "import nltk\n",
    "from nltk.corpus import wordnet\n",
    "\n",
    "\n",
    "def normalize(text):\n",
    "    normalized_text = normalize_unicode(text)\n",
    "    normalized_text = normalize_number(normalized_text)\n",
    "    normalized_text = lower_text(normalized_text)\n",
    "    return normalized_text\n",
    "\n",
    "\n",
    "def lower_text(text):\n",
    "    \"\"\"小文字に変換\"\"\"\n",
    "    return text.lower()\n",
    "\n",
    "\n",
    "def normalize_unicode(text, form='NFKC'):\n",
    "    normalized_text = unicodedata.normalize(form, text)\n",
    "    return normalized_text\n",
    "\n",
    "\n",
    "def lemmatize_term(term, pos=None):\n",
    "    if pos is None:\n",
    "        synsets = wordnet.synsets(term)\n",
    "        if not synsets:\n",
    "            return term\n",
    "        pos = synsets[0].pos()\n",
    "        if pos == wordnet.ADJ_SAT:\n",
    "            pos = wordnet.ADJ\n",
    "    return nltk.WordNetLemmatizer().lemmatize(term, pos=pos)\n",
    "\n",
    "\n",
    "def normalize_number(text):\n",
    "    \"\"\"\n",
    "    pattern = r'\\d+'\n",
    "    replacer = re.compile(pattern)\n",
    "    result = replacer.sub('0', text)\n",
    "    \"\"\"\n",
    "    # 連続した数字を0で置換\n",
    "    replaced_text = re.sub(r'\\d+', '0', text)\n",
    "    return replaced_text"
   ]
  },
  {
   "cell_type": "code",
   "execution_count": 2,
   "metadata": {
    "ExecuteTime": {
     "end_time": "2019-04-11T23:23:57.186191Z",
     "start_time": "2019-04-11T23:23:57.179816Z"
    }
   },
   "outputs": [],
   "source": [
    "scouty_text = \"\"\"\n",
    "scoutyでは、退職率予測アルゴリズム・企業と候補者の最適なマッチング発見アルゴリズムなどの開発をマネージし、ビジネス上の問題解決につながるアルゴリズム開発のマネジメントを行なう「アルゴリズムマネージャ」のポジションを募集しています。\n",
    "\n",
    "アルゴリズムマネージャの詳細情報はこちら： http://ai-lab.scouty.co.jp/entry/2017/12/13/1230\n",
    "\n",
    "★Point1：90万人のオープンデータ解析に挑戦！ \n",
    "scoutyではWEB上のSNSデータを中心に「人」に関するデータをクロールして集め、約90万人（2017年12月時点）のデータベースを作りました。 \n",
    "scoutyのアルゴリズムは、人々の経歴・Twitterのつぶやき・参加イベント情報・GitHubでのコード内容・ブログの記事のデータを解析して、その人に一番マッチした企業とその人が次に退職しそうな時期を予測します。こういったアルゴリズムの仕様を定めるだけでなく、開発のマイルストンや事前リサーチ、技術選定を行い、アルゴリズム開発を通じてビジネスの問題を解決に導くアルゴリズムマネージャを募集しています。\n",
    "\n",
    "★Point2：アルゴリズムのプロダクトマネージャとなり、開発チームを率いてアルゴリズムのオーナーになれる！ \n",
    "アルゴリズムマネージャは、いわばアルゴリズムのプロダクトマネージャです。顧客のニーズをつかみ、ビジネスとアルゴリズムの接点を探り、開発のマイルストーンを定め、設計の指針をつくることができます。また、アルゴリズムマネージャはまだ認知度も低く、必要性も認知されていないので、イベント登壇やブログ記事の発信を通じて、アルゴリズムマネージャのロールモデルを作っていける方を募集しています。\n",
    "\n",
    "◎業務内容 \n",
    "・scoutyの機械学習アルゴリズム（転職可能性予測アルゴリズム、マッチングアルゴリズム等）の開発の進行・マネジメント \n",
    "・アルゴリズムがそもそもどうどのようにKGIに影響するか？というシステムダイナミクスの構築 \n",
    "・アルゴリズムのメトリクス（評価指標）の設計 \n",
    "・アルゴリズム構築の前の事前リサーチ \n",
    "・アルゴリズム開発のマイルストーン設定とスケジューリング \n",
    "・アルゴリズムに用いる技術選定・エンジニアとのディスカッション \n",
    "・（開発の状況とフェーズによって）アルゴリズムの実開発の一部\n",
    "\n",
    "◎歓迎する経験・スキル \n",
    "・各データ解析手法に関しての広い知識 \n",
    "・AI / ML系のライブラリ・クラウドサービスなどの広い知識（実装しなくて済む部分と実装が必要な部分の理解） \n",
    "・CRISP-DM などのデータ分析のプロセスモデルへの理解 \n",
    "・ クライアント・ユーザとの対話能力 \n",
    "・経営や事業上のKPIへの理解 \n",
    "・実装するエンジニアのマネジメント能力 \n",
    "・Pythonでの開発経験 \n",
    "・Jupyter Notebookの使用経験\n",
    "\"\"\""
   ]
  },
  {
   "cell_type": "code",
   "execution_count": 3,
   "metadata": {
    "ExecuteTime": {
     "end_time": "2019-04-11T23:25:29.434854Z",
     "start_time": "2019-04-11T23:25:29.421049Z"
    }
   },
   "outputs": [
    {
     "data": {
      "text/plain": [
       "'\\nscoutyでは、退職率予測アルゴリズム・企業と候補者の最適なマッチング発見アルゴリズムなどの開発をマネージし、ビジネス上の問題解決につながるアルゴリズム開発のマネジメントを行なう「アルゴリズムマネージャ」のポジションを募集しています。\\n\\nアルゴリズムマネージャの詳細情報はこちら: http://ai-lab.scouty.co.jp/entry/0/0/0/0\\n\\n★point0:0万人のオープンデータ解析に挑戦! \\nscoutyではweb上のsnsデータを中心に「人」に関するデータをクロールして集め、約0万人(0年0月時点)のデータベースを作りました。 \\nscoutyのアルゴリズムは、人々の経歴・twitterのつぶやき・参加イベント情報・githubでのコード内容・ブログの記事のデータを解析して、その人に一番マッチした企業とその人が次に退職しそうな時期を予測します。こういったアルゴリズムの仕様を定めるだけでなく、開発のマイルストンや事前リサーチ、技術選定を行い、アルゴリズム開発を通じてビジネスの問題を解決に導くアルゴリズムマネージャを募集しています。\\n\\n★point0:アルゴリズムのプロダクトマネージャとなり、開発チームを率いてアルゴリズムのオーナーになれる! \\nアルゴリズムマネージャは、いわばアルゴリズムのプロダクトマネージャです。顧客のニーズをつかみ、ビジネスとアルゴリズムの接点を探り、開発のマイルストーンを定め、設計の指針をつくることができます。また、アルゴリズムマネージャはまだ認知度も低く、必要性も認知されていないので、イベント登壇やブログ記事の発信を通じて、アルゴリズムマネージャのロールモデルを作っていける方を募集しています。\\n\\n◎業務内容 \\n・scoutyの機械学習アルゴリズム(転職可能性予測アルゴリズム、マッチングアルゴリズム等)の開発の進行・マネジメント \\n・アルゴリズムがそもそもどうどのようにkgiに影響するか?というシステムダイナミクスの構築 \\n・アルゴリズムのメトリクス(評価指標)の設計 \\n・アルゴリズム構築の前の事前リサーチ \\n・アルゴリズム開発のマイルストーン設定とスケジューリング \\n・アルゴリズムに用いる技術選定・エンジニアとのディスカッション \\n・(開発の状況とフェーズによって)アルゴリズムの実開発の一部\\n\\n◎歓迎する経験・スキル \\n・各データ解析手法に関しての広い知識 \\n・ai / ml系のライブラリ・クラウドサービスなどの広い知識(実装しなくて済む部分と実装が必要な部分の理解) \\n・crisp-dm などのデータ分析のプロセスモデルへの理解 \\n・ クライアント・ユーザとの対話能力 \\n・経営や事業上のkpiへの理解 \\n・実装するエンジニアのマネジメント能力 \\n・pythonでの開発経験 \\n・jupyter notebookの使用経験\\n'"
      ]
     },
     "execution_count": 3,
     "metadata": {},
     "output_type": "execute_result"
    }
   ],
   "source": [
    "normalize(scouty_text)"
   ]
  },
  {
   "cell_type": "code",
   "execution_count": null,
   "metadata": {},
   "outputs": [],
   "source": []
  }
 ],
 "metadata": {
  "kernelspec": {
   "display_name": "Python 3",
   "language": "python",
   "name": "python3"
  },
  "language_info": {
   "codemirror_mode": {
    "name": "ipython",
    "version": 3
   },
   "file_extension": ".py",
   "mimetype": "text/x-python",
   "name": "python",
   "nbconvert_exporter": "python",
   "pygments_lexer": "ipython3",
   "version": "3.6.5"
  },
  "toc": {
   "base_numbering": 1,
   "nav_menu": {},
   "number_sections": true,
   "sideBar": true,
   "skip_h1_title": false,
   "title_cell": "Table of Contents",
   "title_sidebar": "Contents",
   "toc_cell": false,
   "toc_position": {},
   "toc_section_display": true,
   "toc_window_display": false
  }
 },
 "nbformat": 4,
 "nbformat_minor": 2
}
