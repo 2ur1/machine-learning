{
 "cells": [
  {
   "cell_type": "markdown",
   "metadata": {
    "collapsed": true
   },
   "source": [
    "# 比例ハザードモデルの妥当性評価\n",
    "モデルに基づく推測は、当てはめた統計モデルに完全に依存する。したがって、この推測が\"妥当\"であることを保証するためには、当てはめたモデルが、データに基づいて妥当であるということを要約して説明しなければならない。"
   ]
  },
  {
   "cell_type": "markdown",
   "metadata": {},
   "source": [
    "## 1. 残差\n",
    "\n",
    " - $p$個の共変量をもつ$n$個の独立な時間の観測値があるとする\n",
    " - 時間の観測値、共変量および打ち切りお指示変数を$(t_{i}, x_{i}, c_{i})$の組で表すとする\n",
    "     - ただし、$i=1,2,\\cdots,n$であり、$c_{i} = 1$を打ち切りを受けなかった観測値とし、$c_{i}=0$を打ち切りを受けた観測値とする\n",
    "\n",
    "### Schoenfeld残差(Schoenfeld residuals)\n",
    "Schoenfeld残差は対数部分尤度の偏導関数に対する各被験者の寄与に基づいた残差である。\n",
    "\n",
    "$k$番目の共変量に対する対数部分尤度の偏導関数は、\n",
    "$$\n",
    "\\frac { \\partial \\log { { L }_{ p }\\left( \\beta  \\right)  }  }{ \\partial \\beta _{ k } } =\\sum _{ i=1 }^{ n }{ c_{ i }\\left\\{ x_{ ik }-\\frac { \\sum _{ j\\in R\\left( t_{ i } \\right)  }{ x_{ jk }e^{ x_{ \\prime  }^{ j }\\beta  } }  }{ \\sum _{ j\\in R\\left( t_{ i } \\right)  }{ e^{ x_{ \\prime  }^{ j }\\beta  } }  }  \\right\\}  } =\\sum _{ i=1 }^{ n }{ c_{ i }\\left\\{ x_{ ik }-{ \\bar { x }  }_{ w_{ i }k } \\right\\}  } \\qquad (5.1)\n",
    "$$\n",
    "である。ここで、\n",
    "$$\n",
    "{ \\bar { x }  }_{ w_{ i }k }=\\frac { \\sum _{ j\\in R\\left( t_{ i } \\right)  }{ x_{ jk }e^{ x_{ \\prime  }^{ j }\\beta  } }  }{ \\sum _{ j\\in R\\left( t_{ i } \\right)  }{ e^{ x_{ \\prime  }^{ j }\\beta  } }  } \\qquad (5.2)\n",
    "$$\n",
    "である。$k$番目の共変量に対する$i$番目のデータのSchoenfeld残差の推定量は、\n",
    "\n",
    "> $$\n",
    "\\hat { r_{ ik } } ={ c }_{ i }\\left( { x }_{ ik }-{ \\hat { \\overline { x }  }  }_{ { w }_{ i }k } \\right) \\qquad (5.3)\n",
    "$$\n",
    "\n",
    "であり、(5.1)式のパラメータを最大部分尤度推定量$\\hat {\\beta}$で置き換えたものから求められる。ここで、\n",
    "$$\n",
    "{ \\hat { \\overline { x }  }  }_{ { w }_{ i }k }=\\frac { \\sum _{ j\\in R\\left( t_{ i } \\right)  }{ { x }_{ jk }{ e }^{ { x }_{ j }\\hat { \\beta  }  } }  }{ \\sum _{ j\\in R\\left( t_{ i } \\right)  }{ { e }^{ { x }_{ j }\\hat { \\beta  }  } }  } \n",
    "$$\n",
    "はリスク集合で条件付けた共変量の条件付き平均の推定量である。\n",
    "\n",
    " - パラメータの最大部分尤度推定量は、(5.1)式を0とおいた方程式の解なので、Schoefeld残差の和は0になる\n",
    " - 打ち切りを受けたデータのSchoenfeld残差は$c_{i} = 0$なので0となる\n",
    "\n",
    "### スケール化Schoenfeld残差(scaled Schoenfeld residuals)\n",
    "スケール化Schoenfeld残差は標準化変量と似ており、Schoenfeld残差の期待値が分散に依存しないようにスケールを調整したものである。\n",
    "\n",
    "ここで、$i$番目のデータの$p$次元のSchoenfeld残差ベクトルを\n",
    "$$\n",
    "{\\hat { r }}_{i}^{\\prime} = \\left( \\hat {r}_{i1}, \\hat {r}_{i2}, \\cdots, \\hat {r}_{ip} \\right)\n",
    "$$\n",
    "とする。ただし、$\\hat {r}_{ik}$は(5.3)式の推定量であるため、$c_{i}$のとき$\\hat {r}_{ik}$は欠測になる。$i$番目のデータにおけるSchoenfeld残差ベクトルに対する$p \\times p$次元の共分散行列の推定量を$\\widehat { Var }\\left( \\hat {r}_{i}^{\\ast} \\right)$とし、$c_{i}=0$のときは共分散行列の推定量も欠測とする。\n",
    "\n",
    "> $$\n",
    "{ \\hat { r }  }_{ i }^{ \\ast  }={ \\left[ \\widehat { Var } \\left( { \\hat { r }  }_{ i } \\right)  \\right]  }^{ -1 }{ \\hat { r }  }_{ i } \\qquad (5.4)\n",
    "$$\n",
    "\n",
    "このとき、$i$番目のデータに対する共分散行列$\\widehat {Var}\\left( {\\hat {r}}_{i} \\right)$の対角要素は、\n",
    "$$\n",
    "\\widehat { Var } \\left( { \\hat { r }  }_{ i } \\right) _{ kk }=\\sum _{ j\\in R\\left( t_{ i } \\right)  }{ { \\hat { w }  }_{ ij }\\left( x_{ jk }-{ \\hat { \\overline { x }  }  }_{ w_{ i }k } \\right) ^{ 2 } } \n",
    "$$\n",
    "であり、非対角要素は、\n",
    "$$\n",
    "\\widehat { Var } \\left( { \\hat { r }  }_{ i } \\right) _{ kl }=\\sum _{ j\\in R\\left( t_{ i } \\right)  }{ { \\hat { w }  }_{ ij }\\left( x_{ jk }-{ \\hat { \\overline { x }  }  }_{ w_{ i }k } \\right) \\left( x_{ jl }-{ \\hat { \\overline { x }  }  }_{ w_{ i }l } \\right)  } \n",
    "$$\n",
    "である。ここで、重みは、\n",
    "$$\n",
    "{\\hat {w}}_{ij} = \\frac { e^{x_{j}\\hat {\\beta}} }{ \\sum _{l \\in R\\left( t_{i} \\right)}{ e^{x_{l}\\hat {\\beta}} } }\n",
    "$$\n",
    "である。\n",
    "\n",
    "> Grambsch and Therneau(1994)によるスケール化Schoenfeld残差に対する近似計算方法:\n",
    "> \n",
    "> $$\n",
    "{ \\left[ \\widehat { Var } \\left( { \\hat { r }  }_{ i } \\right)  \\right]  }^{ -1 }\\cong m\\widehat { Var } \\left( \\hat { \\beta  }  \\right) \\\\\n",
    "{\\hat {r}}_{i}^{\\ast} = m\\widehat { Var }\\left( \\hat {\\beta} \\right) {\\hat {r}}_{i} \\qquad (5.5)\n",
    "$$\n",
    ">\n",
    "> - $m$: イベント数\n",
    "> - 共分散$\\widehat { Var }\\left( {\\hat {r}}_{i} \\right)$が時間によらずほとんど一定の値になるという性質に基づく方法\n",
    "> - 異なるリスク集合に対して共変量の分布があまり変わらないという条件のもとで成り立つことが知られている"
   ]
  },
  {
   "cell_type": "code",
   "execution_count": null,
   "metadata": {
    "collapsed": true
   },
   "outputs": [],
   "source": []
  },
  {
   "cell_type": "markdown",
   "metadata": {},
   "source": [
    "### マルチンゲール残差(martingale residual)\n",
    "マルチンゲール残差は、計数過程による残差の定式化によってられた値。以下では、\n",
    "\n",
    " - 共変量(特徴量)ベクトル$x$をもつ1人の観察対象者を時間\"0\"から追跡し、興味のあるイベントが死亡であるという状況を想定する\n",
    " - イベントが必ず1回しか起こらない結果変数を扱う\n",
    "\n",
    "とする。計数過程を用いて比例ハザードモデルを表現すると、時間$t$でイベントが発生したかどうかの\"計数\"に対する線形モデル($y = \\beta_{0} + \\beta_{1}x + \\varepsilon$)のような形になる。\n",
    "$$\n",
    "N\\left(t\\right) = \\Lambda \\left( t,x,\\beta \\right) + M\\left(t\\right) \\qquad (5.6)\n",
    "$$\n",
    "\n",
    "\n",
    " - $N\\left(t\\right)$: ”計数”を表し、モデルの観測値部分に相当する。\n",
    " $$\n",
    " N\\left( t \\right) =\\begin{cases} 0\\quad t<追跡終了時 \\\\ 1\\quad t\\ge 追跡終了時 \\end{cases}\n",
    " $$\n",
    " - $\\Lambda \\left( t,x,\\beta \\right)$: モデルの\"系統成分\"(線形回帰式でいうと$\\beta_{0} + \\beta_{1}x$)。詳しい導出過程はここでは省略するが、比例ハザードモデルの系統成分は、観察対象者の追跡終了時までは時点$t$における累積ハザードに等しく、観察対象者の追跡終了時より後では0である。\n",
    " $$\n",
    " \\Lambda \\left( t,x,\\beta \\right) = H\\left(t,x,\\beta\\right)\\\\\n",
    " \\Lambda \\left( t,x,\\beta  \\right) =\\begin{cases} \\begin{matrix} { e }^{ x\\beta  }{ H }_{ 0 }\\left( t \\right)  & t\\le 追跡終了時 \\\\ 0 & t>追跡終了時 \\end{matrix} \\end{cases}\n",
    " $$\n",
    " - $M\\left(t\\right)$: モデルの\"誤差成分\"(線形回帰式でいうと$\\varepsilon$)\n",
    "     - マルチーンゲールという確率過程の性質をもつ\n",
    "     - 期待値が0になる\n",
    "\n",
    "> **マルチンゲール残差**<br>\n",
    "> (5.6)式を変形すると、$M\\left(t\\right)$を”残差”のような形式で表すことができる。\n",
    "> $$\n",
    "M\\left(t\\right) = N\\left(t\\right) - \\Lambda \\left( t,x,\\beta \\right) \\qquad (5.7)\n",
    "$$\n",
    "> 理論的には、マルチンゲール残差は各時間$t$で値をもつが、残差を求めるときは、実用上、**<font color=\"red\">追跡終了時の値が利用される</font>**。<br>\n",
    "> 観察対象者$i$における追跡終了時のマルチーンゲール残差: \n",
    "> $$\n",
    "M\\left(t_{i}\\right) = N\\left(t_{i}\\right) -  H\\left( t_{i},x_{i},\\beta \\right) \\qquad (5.8)\n",
    "$$\n",
    "\n",
    "### (修正)Cox-Snell残差\n",
    "追跡終了時の$N\\left(t\\right)$は1(イベント発生)か0(打ち切り)であるので$N\\left(t_{i}\\right) = c_{i}$となる。$H\\left(t_{i}, x_{i}, \\beta\\right)$を$\\hat {H}\\left( t_{i},x_{i},\\hat {\\beta} \\right)$で置き換えたマルチンゲール残差の推定量は以下である。\n",
    "$$\n",
    "\\hat {M}\\left(t_{i}\\right) = c_{i} - \\hat {H}\\left( t_{i},x_{i},\\hat {\\beta} \\right) \\qquad (5.9)\n",
    "$$\n",
    "\n",
    " - この残差は、一般的に用いられる残差の形式(結果変数の観測値と予測値の差)に一致する"
   ]
  },
  {
   "cell_type": "code",
   "execution_count": null,
   "metadata": {
    "collapsed": true
   },
   "outputs": [],
   "source": []
  },
  {
   "cell_type": "markdown",
   "metadata": {},
   "source": [
    "### スコア残差(score residual)\n",
    "次に示す残差は、(5.1)式の偏導関数を少し変形することでえられる。$k$番目の共変量のスコア関数は、\n",
    "$$\n",
    "\\frac { \\partial L_{p}\\left(\\beta\\right) }{ \\partial {\\beta}_{k} } = \\sum _{i=1}^{n}{L_{ik}} \\qquad (5.13)\n",
    "$$\n",
    "である。\n",
    "\n",
    "(5.13)式のうち、$i$番目の観察対象者の$k$番目の共変量(特徴量)に対するスコア残差は、\n",
    "$$\n",
    "L_{ik} = \\sum _{j=1}^{n}{\\left( x_{ik} - {\\bar {x}}_{w_{j}k} \\right)dM_{i}\\left(t_{j}\\right)} \\qquad (5.14)\n",
    "$$\n",
    "である。\n",
    "\n",
    " - ${\\bar {x}}_{w_{j}k}$: 時点$t_{j}$において(6.2)式から得られる\n",
    " - $d{M}_{i}\\left( t_{j} \\right)$: 時点$t_{j}$における$i$番目の観察対象者のマルチンゲール残差の変化量\n",
    " $$\n",
    " d{M}_{i}\\left( t_{j} \\right) = d{N}_{i}\\left( t_{j} \\right) - Y_{i}\\left( t_{j} \\right)e^{x_{i}\\beta}h_{0}\\left( t_{j} \\right) \\qquad (5.15)\n",
    " $$\n",
    "     - $d{N}_{i}\\left( t_{j} \\right)$: 時点$t_{j}$における$i$番目の観察対象者の計数関数の変化量。打ち切りのデータは常に0となり、そうでないデータについては実際に観測された生存時間の時点でのみ1であり、それ以外の時点では0となる。\n",
    "     - $Y_{i}\\left( t_{j} \\right)$: この関数は、リスク集合過程(at risk process)と呼ばれ、\n",
    "     $$\n",
    "     Y_{ i }\\left( t_{ j } \\right) =\\begin{cases} 1,\\quad t_{ j }\\le t_{ i } \\\\ 0,\\quad t_{ j }>t_{ i } \\end{cases}\n",
    "     $$\n",
    "     で定義される\n",
    "     - $h_{0}\\left( t_{j} \\right)$: 時点$t_{j}$における(5.10)式の値\n",
    "\n",
    "\n",
    "以上の式を代入し整理すると、スコア残差の推定量が得られる。\n",
    "$$\n",
    "\\hat { L } _{ ik }=c_{ i }\\cdot (x_{ ik }-{ \\hat { \\overline { x }  }  }_{ w_{ i }k })-x_{ ik }\\cdot \\hat { H } \\left( t_{ i },x_{ i },\\hat { \\beta  }  \\right) +x^{ x_{ i }\\hat { \\beta  }  }\\sum _{ t_{ j }\\le t_{ i } }{ { \\hat { \\overline { x }  }  }_{ w_{ j }k }\\frac { { c }_{ j } }{ \\sum _{ l\\in R\\left( t_{ j } \\right)  }{ { e }^{ { x }_{ l }\\beta  } }  }  }  \\qquad (5.16)\n",
    "$$\n",
    "さらに$i$番目の観察対象者に対する$p$次元のスコア残差ベクトルは、\n",
    "$$\n",
    "{\\hat {L}}_{i}^{\\prime} = \\left( {\\hat {L}}_{i1}, {\\hat {L}}_{i2}, \\cdots, {\\hat {L}}_{ip} \\right) \\qquad (5.17)\n",
    "$$\n",
    "で定義できる。\n",
    "\n",
    "\n",
    "### スケール化スコア残差(scaled score residual)\n",
    "(5.17)式のスコア残差のスケールを調整したものがスケール化スコア残差である。\n",
    "$$\n",
    "{\\hat {L}}_{i}^{\\ast} = \\widehat {Var}\\left(\\hat {\\beta}\\right){\\hat {L}}_{i} \\qquad (5.18)\n",
    "$$\n",
    "$\\widehat {Var}\\left( \\hat {\\beta} \\right)$は、パラメータベクトルをその推定量で置き換えたの共分散行列の推定量"
   ]
  },
  {
   "cell_type": "code",
   "execution_count": null,
   "metadata": {
    "collapsed": true
   },
   "outputs": [],
   "source": []
  },
  {
   "cell_type": "markdown",
   "metadata": {},
   "source": [
    "---\n",
    "## 2. 比例ハザード性の仮定の評価"
   ]
  },
  {
   "cell_type": "code",
   "execution_count": null,
   "metadata": {
    "collapsed": true
   },
   "outputs": [],
   "source": []
  },
  {
   "cell_type": "markdown",
   "metadata": {},
   "source": [
    "---\n",
    "## 3. 比例ハザードモデルにおける回帰診断\n",
    "モデル評価のうえでもう1つ重要なことは、次のようなデータが存在するかどうかを特定するために、回帰診断統計量(regression diagnostic statistics)を用いて診断を行うことである。\n",
    "\n",
    " 1. **他と極端に乖離した値の共変量をもつ観察対象者**\n",
    " 2. **パラメータ推定において、過度な影響を与えているデータ**\n",
    " 3. **モデルの当てはめにおいて、過度な影響を与えているデータ**\n",
    "\n",
    "\n",
    "> **<font color=\"blue\">てこ比</font>**(leverage): 各観察対象者の共変量(特徴量)の値の”極端な乖離”を測る診断統計量\n",
    ">\n",
    "> - てこ比はある意味で共変量に対する残差と解釈することが可。線形回帰モデルやロジスティック回帰モデルにおいて、てこ比は、**共変量(特徴量)全体の平均値と各観察対象者の共変量(特徴量)の値との距離として求められる**。→$(x - \\bar {x})^{2}$\n",
    "\n",
    "(5.16)式および(5.17)式で定義したスコア残差は、共変量の値$x_{ik}$と各時点のリスク集合における共変量の平均${\\hat {\\overline {x}}}_{w_{j}k}$の距離に対する重み付き平均であり、比例ハザードモデルの影響度診断の重要な一部分を担っている。スコア残差は、連続型共変量において、共変量の値が平均から離れるほど残差の値が大きくなるという線形回帰モデルのてこ比と同じ性質をもつ。\n",
    "\n",
    "上記の定義により、**<font color=\"red\">てこ比の値が大きい観測対象者は、パラメータ推定値に大きな影響を与える恐れがある</font>**。比例ハザードモデルにおいて影響度を診断するためには、線形回帰モデルやロジスティック回帰モデルにおけるCookの距離に類似した統計量が必要となる。\n",
    "\n",
    "> **<font color=\"blue\">Cook's Distance</font>**<br>\n",
    "> Cook距離の意義は、ある観察対象者をデータから除いた場合のパラメータ推定量の変化量を近似し、簡単に計算可能な統計量を与えることにある。\n",
    "> $$\n",
    "\\Delta \\hat {\\beta}_{ki} = \\hat {\\beta}_{k} - \\hat {\\beta}_{k(-i)} \\qquad (5.23)\n",
    "$$\n",
    ">\n",
    "> - $\\hat {\\beta}_{k}$: $n$人の観察対象者すべてを用いて計算されたパラメータの最大部分尤度推定量\n",
    "> - $\\hat {\\beta}_{k(-i)}$: $i$番目の被験者を除いたデータを用いて計算されたパラメータの最大部分尤度推定量\n",
    "\n",
    "<br>\n",
    "\n",
    "> **<font color=\"blue\">Cain and Lange</font>**(1984)による(5.23)式の近似推定量<br>\n",
    "> パラメータ推定値の変化を表す$k$次元ベクトルが\n",
    "> $$\n",
    "\\Delta \\hat {\\beta}_{i} = \\left(\\hat {\\beta} - \\hat {\\beta}_{(-i)}\\right) \\cong \\widehat {Var}\\left( \\hat {\\beta} \\right)\\hat {L}_{i} \\qquad (6.24)\n",
    "$$\n",
    "> となることを示した。※この近似式はスケール化スコア残差と呼ばれる。\n",
    ">\n",
    "> - $\\hat {L}_{i}$: (5.17)式のスコア残差ベクトル\n",
    "> - $\\widehat {Var}\\left( \\hat {\\beta} \\right)$: パラメータベクトルを推定値で置き換えた共分散行列の推定値"
   ]
  },
  {
   "cell_type": "code",
   "execution_count": null,
   "metadata": {
    "collapsed": true
   },
   "outputs": [],
   "source": []
  },
  {
   "cell_type": "markdown",
   "metadata": {},
   "source": [
    "線形回帰回帰モデルやロジスティック回帰モデルにおいては、Cook距離は、パラメータ推定量全体に対する被験者の影響度を要約した統計量を与えるために用いられる場合がある。全体に対する影響度の指標は、\n",
    "$$\n",
    "\\left( \\hat {\\beta} - \\hat {\\beta}_{(-i)} \\right)^{\\prime}\\left[ \\widehat {Var}\\left( \\hat {\\beta} \\right) \\right]^{-1}\\left( \\hat {\\beta} - \\hat {\\beta}_{(-i)} \\right)\n",
    "$$\n",
    "で定義されており、(5.24)式を用いて、\n",
    "$$\n",
    "{ld}_{i} = \\left( \\Delta \\hat { \\beta  } _{ (i) } \\right) ^{ \\prime  }\\left[ \\widehat { Var } \\left( \\hat { \\beta  }  \\right)  \\right] ^{ -1 }\\left( \\Delta \\hat { \\beta  } _{ (i) } \\right) \\\\\n",
    "\\cong \\left( { \\hat { L }  }_{ i } \\right) ^{ \\prime  }\\left[ \\widehat { Var } \\left( \\hat { \\beta  }  \\right)  \\right] \\left[ \\widehat { Var } \\left( \\hat { \\beta  }  \\right)  \\right] ^{ -1 }\\left[ \\widehat { Var } \\left( \\hat { \\beta  }  \\right)  \\right] \\left( { \\hat { L }  }_{ i } \\right) \n",
    "$$\n",
    "と近似することができる。したがって\n",
    "$$\n",
    "ld_{i} \\cong \\left( { \\hat { L }  }_{ i } \\right) ^{ \\prime  }\\left[ \\widehat { Var } \\left( \\hat { \\beta  }  \\right)  \\right] \\left( { \\hat { L }  }_{ i } \\right) \\qquad (5.25)\n",
    "$$\n",
    "となる。\n",
    "\n",
    "さらに、Pettitt and Bin Daud (1989)は、(5.25)式の統計量は$i$番目の被験者を除いたときの対数部分尤度の変化量の近似であることを示した。このような背景から、この統計量は**<font color=\"blue\">尤度変位統計量</font>**(likelihood displacement statistic)と呼ばれる。そのため、(5.25)式では$ld$という表記が用いられており、さらに、\n",
    "$$\n",
    "ld_{i} \\cong 2 \\left[ L_{p}\\left(\\hat {\\beta}\\right) - L_{p}\\left( \\hat {\\beta}_{(-i)} \\right) \\right] \\qquad (5.26)\n",
    "$$\n",
    "という近似が成立する。(5.25)式の$ld_{i}$とマルチンゲール残差の散布図は、影響力の大きい観察対象者を検討するうえで、最も理にかなっていると考えられる。"
   ]
  },
  {
   "cell_type": "code",
   "execution_count": null,
   "metadata": {
    "collapsed": true
   },
   "outputs": [],
   "source": []
  },
  {
   "cell_type": "markdown",
   "metadata": {},
   "source": [
    "---\n",
    "## 4. モデル適合度\n",
    "\n",
    "### May and Hosmer(1998)によるモデル適合度検定\n",
    "ロジスティック回帰モデルのHosmer–Lemesho 検定に近い発想のモデル適合度検定。データを$G$個のグループに分割し、各グループ内で観測値と期待値との乖離を検定する。ただし、ロジスティック回帰モデルのように全体の要約はできないので、全体の要約を行う場合は、グループ変数を共変量として追加したモデルの部分尤度比検定などを行う必要がある。 また、May&Hosmer(2004) シミュレーションから、経験的に良いグループ数\n",
    "$$\n",
    "G = \\max {\\left\\{ 2, \\min {\\left\\{ 10, {イベント数}/{40} \\right\\}} \\right\\}}\n",
    "$$\n",
    "が与えられている。\n",
    "\n",
    " 1. 推定済みモデルからマルチンゲール残差とリスクスコアを求める\n",
    "     - マルチンゲール残差: (5.9)式\n",
    "     - リスクスコア: $x_{i}\\hat {\\beta}$\n",
    " 2. リスクスコアを並べ替え、リスクスコアの$G$分位点に基づく$G$つのグループを作成する\n",
    " 3. 各グループの観察対象者の打ち切りの指示変数$c_{i}$を合計することで、各グループの観測イベント数を算出する\n",
    " 4. 打ち切りの指示変数$c_{i}$とマルチンゲール残差の差としてモデルの累積ハザードを求める\n",
    " 5. グループごとに各観察対象者の累積ハザードを合計して、各グループの期待イベント数を算出する"
   ]
  },
  {
   "cell_type": "code",
   "execution_count": null,
   "metadata": {
    "collapsed": true
   },
   "outputs": [],
   "source": []
  },
  {
   "cell_type": "markdown",
   "metadata": {},
   "source": [
    "### 比例ハザード用の決定係数$R^{2}$\n",
    "あらゆる回帰モデルで用いられる$R^{2}$のような指標をいくつか示す。\n",
    "\n",
    "**Nagelkerke**(1991)\n",
    ">$$\n",
    "{R_{p}}^{2} = 1 - \\left\\{ exp {\\left[ \\frac {2}{n} \\left(\\log {L_{0}} - \\log {L_{p}} \\right) \\right]} \\right\\}\n",
    "$$\n",
    ">\n",
    "> - $n$: データ数(打ち切りデータ、非打ち切りデータ)\n",
    "> - $L_{p}$: $p$個の共変量をもつモデルに対する対数部分尤度\n",
    "> - $L_{0}$: 共変量を持たないモデルに対する対数部分尤度\n",
    "\n",
    "**O'Quigley et al.**(2005)\n",
    "${R_{p}}^{2}$の拡張版で、${R_{p}}^{2}$の式の$n$を、観測されたイベント数$m$に置き換えたものである。そのため、**打ち切り割合にそれほど依存しない指標**である。\n",
    "> $$\n",
    "{R_{p,e}}^{2} = 1 - \\left\\{ exp {\\left[ \\frac {2}{m}\\left( \\log {L_{0}} - \\log {L_{p}} \\right) \\right]} \\right\\}\n",
    "$$\n",
    "> \"ランダム性を記述する指標(measure of explained randomness)\"と呼ばれる。\n",
    "> \n",
    "> - $m$: 観測されたイベント数\n",
    "\n",
    "**Royston**(2006)<br>\n",
    "${R_{p}}^{2}$の拡張版で、${R_{p}}^{2}$の式の$n$を、観測されたイベント数$m$に置き換えたものである。そのため、打ち切り割合にそれほど依存しない指標である。\n",
    "\n",
    ">$$\n",
    "{ R_{ p,v } }^{ 2 }=\\frac { { R_{ p,e } }^{ 2 } }{ { R_{ p,e } }^{ 2 }+\\cfrac { \\pi  }{ 6 } (1-{ R_{ p,e } }^{ 2 }) }\n",
    "$$\n",
    "> \"説明できる変動を記述する指標\"と呼ばれる。"
   ]
  },
  {
   "cell_type": "code",
   "execution_count": null,
   "metadata": {
    "collapsed": true
   },
   "outputs": [],
   "source": []
  }
 ],
 "metadata": {
  "kernelspec": {
   "display_name": "Python 3",
   "language": "python",
   "name": "python3"
  },
  "language_info": {
   "codemirror_mode": {
    "name": "ipython",
    "version": 3
   },
   "file_extension": ".py",
   "mimetype": "text/x-python",
   "name": "python",
   "nbconvert_exporter": "python",
   "pygments_lexer": "ipython3",
   "version": "3.4.5"
  }
 },
 "nbformat": 4,
 "nbformat_minor": 2
}
