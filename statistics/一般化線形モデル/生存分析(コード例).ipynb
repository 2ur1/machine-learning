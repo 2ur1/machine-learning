{
 "cells": [
  {
   "cell_type": "markdown",
   "metadata": {},
   "source": [
    "# 生存分析(Survival Analysis)\n",
    "**生存分析**は、生物の死や機械系の故障など、1つまたは複数の事象が起こるまでの予想される期間を分析するための統計の一分野です。"
   ]
  },
  {
   "cell_type": "markdown",
   "metadata": {},
   "source": [
    "## 環境\n",
    " - Python 3.4.5\n",
    " - anaconda3-2.3.0\n",
    "\n",
    "## 使用したパッケージ\n",
    "\n",
    " - [Survival analysis built on top of scikit-learn](https://github.com/sebp/scikit-survival)\n",
    " - [Survival analysis in Python http://lifelines.readthedocs.org](https://github.com/CamDavidsonPilon/lifelines)"
   ]
  },
  {
   "cell_type": "code",
   "execution_count": 1,
   "metadata": {
    "collapsed": true
   },
   "outputs": [],
   "source": [
    "import numpy as np\n",
    "import pandas as pd\n",
    "from pandas import DataFrame, Series\n",
    "\n",
    "import matplotlib as mpl\n",
    "import matplotlib.pyplot as plt\n",
    "import seaborn as sns\n",
    "\n",
    "# 日本語フォントを設定\n",
    "font = {'family': 'IPAexGothic'}\n",
    "mpl.rc('font', **font)\n",
    "\n",
    "%matplotlib inline"
   ]
  },
  {
   "cell_type": "code",
   "execution_count": 2,
   "metadata": {
    "collapsed": true
   },
   "outputs": [],
   "source": [
    "from sksurv.datasets import load_veterans_lung_cancer\n",
    "\n",
    "x, y = load_veterans_lung_cancer()"
   ]
  },
  {
   "cell_type": "code",
   "execution_count": 3,
   "metadata": {},
   "outputs": [
    {
     "data": {
      "text/html": [
       "<div>\n",
       "<style>\n",
       "    .dataframe thead tr:only-child th {\n",
       "        text-align: right;\n",
       "    }\n",
       "\n",
       "    .dataframe thead th {\n",
       "        text-align: left;\n",
       "    }\n",
       "\n",
       "    .dataframe tbody tr th {\n",
       "        vertical-align: top;\n",
       "    }\n",
       "</style>\n",
       "<table border=\"1\" class=\"dataframe\">\n",
       "  <thead>\n",
       "    <tr style=\"text-align: right;\">\n",
       "      <th></th>\n",
       "      <th>Age_in_years</th>\n",
       "      <th>Celltype</th>\n",
       "      <th>Karnofsky_score</th>\n",
       "      <th>Months_from_Diagnosis</th>\n",
       "      <th>Prior_therapy</th>\n",
       "      <th>Treatment</th>\n",
       "    </tr>\n",
       "  </thead>\n",
       "  <tbody>\n",
       "    <tr>\n",
       "      <th>0</th>\n",
       "      <td>69.0</td>\n",
       "      <td>'squamous'</td>\n",
       "      <td>60.0</td>\n",
       "      <td>7.0</td>\n",
       "      <td>'no'</td>\n",
       "      <td>'standard'</td>\n",
       "    </tr>\n",
       "    <tr>\n",
       "      <th>1</th>\n",
       "      <td>64.0</td>\n",
       "      <td>'squamous'</td>\n",
       "      <td>70.0</td>\n",
       "      <td>5.0</td>\n",
       "      <td>'yes'</td>\n",
       "      <td>'standard'</td>\n",
       "    </tr>\n",
       "    <tr>\n",
       "      <th>2</th>\n",
       "      <td>38.0</td>\n",
       "      <td>'squamous'</td>\n",
       "      <td>60.0</td>\n",
       "      <td>3.0</td>\n",
       "      <td>'no'</td>\n",
       "      <td>'standard'</td>\n",
       "    </tr>\n",
       "    <tr>\n",
       "      <th>3</th>\n",
       "      <td>63.0</td>\n",
       "      <td>'squamous'</td>\n",
       "      <td>60.0</td>\n",
       "      <td>9.0</td>\n",
       "      <td>'yes'</td>\n",
       "      <td>'standard'</td>\n",
       "    </tr>\n",
       "    <tr>\n",
       "      <th>4</th>\n",
       "      <td>65.0</td>\n",
       "      <td>'squamous'</td>\n",
       "      <td>70.0</td>\n",
       "      <td>11.0</td>\n",
       "      <td>'yes'</td>\n",
       "      <td>'standard'</td>\n",
       "    </tr>\n",
       "  </tbody>\n",
       "</table>\n",
       "</div>"
      ],
      "text/plain": [
       "   Age_in_years    Celltype  Karnofsky_score  Months_from_Diagnosis  \\\n",
       "0          69.0  'squamous'             60.0                    7.0   \n",
       "1          64.0  'squamous'             70.0                    5.0   \n",
       "2          38.0  'squamous'             60.0                    3.0   \n",
       "3          63.0  'squamous'             60.0                    9.0   \n",
       "4          65.0  'squamous'             70.0                   11.0   \n",
       "\n",
       "  Prior_therapy   Treatment  \n",
       "0          'no'  'standard'  \n",
       "1         'yes'  'standard'  \n",
       "2          'no'  'standard'  \n",
       "3         'yes'  'standard'  \n",
       "4         'yes'  'standard'  "
      ]
     },
     "execution_count": 3,
     "metadata": {},
     "output_type": "execute_result"
    }
   ],
   "source": [
    "x.head()"
   ]
  },
  {
   "cell_type": "markdown",
   "metadata": {},
   "source": [
    " - `Age_in_years`: 年齢\n",
    " - `Celltype`: 細胞の種類; `[squamous(扁平上皮), small cell, adeno(腺癌), large]`\n",
    " - `Karnofsky_score`: カルノフスキースコア(がん患者の日常活動を遂行する能力を計るための標準的な値.0~100)\n",
    " - `Months_from_Diagnosis`: 診断からの経過月数\n",
    " - `Prior_therapy`: 前に治療したかいなか; `[yes, no]`\n",
    " - `Treatment`: 肺癌治療のタイプ; `[standard, test drug]`"
   ]
  },
  {
   "cell_type": "code",
   "execution_count": 4,
   "metadata": {},
   "outputs": [
    {
     "data": {
      "text/plain": [
       "array([( True,   72.), ( True,  411.), ( True,  228.), ( True,  126.),\n",
       "       ( True,  118.), ( True,   10.), ( True,   82.), ( True,  110.),\n",
       "       ( True,  314.), (False,  100.), ( True,   42.), ( True,    8.),\n",
       "       ( True,  144.), (False,   25.), ( True,   11.), ( True,   30.),\n",
       "       ( True,  384.), ( True,    4.), ( True,   54.), ( True,   13.),\n",
       "       (False,  123.), (False,   97.), ( True,  153.), ( True,   59.),\n",
       "       ( True,  117.), ( True,   16.), ( True,  151.), ( True,   22.),\n",
       "       ( True,   56.), ( True,   21.), ( True,   18.), ( True,  139.),\n",
       "       ( True,   20.), ( True,   31.), ( True,   52.), ( True,  287.),\n",
       "       ( True,   18.), ( True,   51.), ( True,  122.), ( True,   27.),\n",
       "       ( True,   54.), ( True,    7.), ( True,   63.), ( True,  392.),\n",
       "       ( True,   10.), ( True,    8.), ( True,   92.), ( True,   35.),\n",
       "       ( True,  117.), ( True,  132.), ( True,   12.), ( True,  162.),\n",
       "       ( True,    3.), ( True,   95.), ( True,  177.), ( True,  162.),\n",
       "       ( True,  216.), ( True,  553.), ( True,  278.), ( True,   12.),\n",
       "       ( True,  260.), ( True,  200.), ( True,  156.), (False,  182.),\n",
       "       ( True,  143.), ( True,  105.), ( True,  103.), ( True,  250.),\n",
       "       ( True,  100.), ( True,  999.), ( True,  112.), (False,   87.),\n",
       "       (False,  231.), ( True,  242.), ( True,  991.), ( True,  111.),\n",
       "       ( True,    1.), ( True,  587.), ( True,  389.), ( True,   33.),\n",
       "       ( True,   25.), ( True,  357.), ( True,  467.), ( True,  201.),\n",
       "       ( True,    1.), ( True,   30.), ( True,   44.), ( True,  283.),\n",
       "       ( True,   15.), ( True,   25.), (False,  103.), ( True,   21.),\n",
       "       ( True,   13.), ( True,   87.), ( True,    2.), ( True,   20.),\n",
       "       ( True,    7.), ( True,   24.), ( True,   99.), ( True,    8.),\n",
       "       ( True,   99.), ( True,   61.), ( True,   25.), ( True,   95.),\n",
       "       ( True,   80.), ( True,   51.), ( True,   29.), ( True,   24.),\n",
       "       ( True,   18.), (False,   83.), ( True,   31.), ( True,   51.),\n",
       "       ( True,   90.), ( True,   52.), ( True,   73.), ( True,    8.),\n",
       "       ( True,   36.), ( True,   48.), ( True,    7.), ( True,  140.),\n",
       "       ( True,  186.), ( True,   84.), ( True,   19.), ( True,   45.),\n",
       "       ( True,   80.), ( True,   52.), ( True,  164.), ( True,   19.),\n",
       "       ( True,   53.), ( True,   15.), ( True,   43.), ( True,  340.),\n",
       "       ( True,  133.), ( True,  111.), ( True,  231.), ( True,  378.),\n",
       "       ( True,   49.)],\n",
       "      dtype=[('Status', '?'), ('Survival_in_days', '<f8')])"
      ]
     },
     "execution_count": 4,
     "metadata": {},
     "output_type": "execute_result"
    }
   ],
   "source": [
    "y"
   ]
  },
  {
   "cell_type": "markdown",
   "metadata": {
    "collapsed": true
   },
   "source": [
    "観測期間中に死亡した場合は`Status`が`True`になり、`False`の場合は右側打切りである。"
   ]
  },
  {
   "cell_type": "code",
   "execution_count": 5,
   "metadata": {},
   "outputs": [
    {
     "data": {
      "text/plain": [
       "(array([ 84.,  29.,  11.,   7.,   2.,   2.,   0.,   0.,   0.,   2.]),\n",
       " array([   1. ,  100.8,  200.6,  300.4,  400.2,  500. ,  599.8,  699.6,\n",
       "         799.4,  899.2,  999. ]),\n",
       " <a list of 10 Patch objects>)"
      ]
     },
     "execution_count": 5,
     "metadata": {},
     "output_type": "execute_result"
    },
    {
     "data": {
      "image/png": "[encoded data removed]",
      "text/plain": [
       "<matplotlib.figure.Figure at 0x10b82c7b8>"
      ]
     },
     "metadata": {},
     "output_type": "display_data"
    }
   ],
   "source": [
    "plt.hist(y['Survival_in_days'])"
   ]
  },
  {
   "cell_type": "code",
   "execution_count": 6,
   "metadata": {},
   "outputs": [
    {
     "name": "stdout",
     "output_type": "stream",
     "text": [
      "9\n",
      "128\n"
     ]
    }
   ],
   "source": [
    "print(y[y['Status'] == False].shape[0])\n",
    "print(y[y['Status'] == True].shape[0])"
   ]
  },
  {
   "cell_type": "code",
   "execution_count": 16,
   "metadata": {},
   "outputs": [
    {
     "data": {
      "text/plain": [
       "<matplotlib.text.Text at 0x10c189f98>"
      ]
     },
     "execution_count": 16,
     "metadata": {},
     "output_type": "execute_result"
    },
    {
     "data": {
      "image/png": "[encoded data removed]",
      "text/plain": [
       "<matplotlib.figure.Figure at 0x10bb994a8>"
      ]
     },
     "metadata": {},
     "output_type": "display_data"
    }
   ],
   "source": [
    "# scikit-survival\n",
    "from sksurv.nonparametric import kaplan_meier_estimator\n",
    "\n",
    "time, survival_prob = kaplan_meier_estimator(y['Status'], y['Survival_in_days'])\n",
    "\n",
    "plt.step(time, survival_prob, where=\"post\")\n",
    "plt.ylim(0, 1)\n",
    "plt.ylabel(\"est. probability of survival $\\hat{S}(t)$\")\n",
    "plt.xlabel(\"time $t$\")"
   ]
  },
  {
   "cell_type": "code",
   "execution_count": 8,
   "metadata": {},
   "outputs": [
    {
     "data": {
      "image/png": "[encoded data removed]",
      "text/plain": [
       "<matplotlib.figure.Figure at 0x10bb09630>"
      ]
     },
     "metadata": {},
     "output_type": "display_data"
    }
   ],
   "source": [
    "for treatment_type in x.Treatment.unique():\n",
    "    target_indexs = x[x.Treatment == treatment_type].index\n",
    "    time, survival_prob = kaplan_meier_estimator(\n",
    "        y[target_indexs]['Status'], \n",
    "        y[target_indexs]['Survival_in_days']\n",
    "    )\n",
    "    plt.step(time, survival_prob, where=\"post\", label='Treatment = {0}'.format(treatment_type))\n",
    "\n",
    "plt.ylim(0, 1)\n",
    "plt.ylabel(\"生存関数 $\\hat{S}(t)$\")\n",
    "plt.xlabel(\"生存時間 $t$\")\n",
    "plt.legend()\n",
    "plt.show()"
   ]
  },
  {
   "cell_type": "code",
   "execution_count": 17,
   "metadata": {},
   "outputs": [
    {
     "data": {
      "image/png": "[encoded data removed]",
      "text/plain": [
       "<matplotlib.figure.Figure at 0x10c16e550>"
      ]
     },
     "metadata": {},
     "output_type": "display_data"
    }
   ],
   "source": [
    "# lifelines\n",
    "from lifelines import KaplanMeierFitter\n",
    "\n",
    "kmf = KaplanMeierFitter()\n",
    "kmf.fit(y['Survival_in_days'], event_observed=y['Status'])\n",
    "\n",
    "kmf.plot()\n",
    "plt.show()"
   ]
  },
  {
   "cell_type": "code",
   "execution_count": 15,
   "metadata": {},
   "outputs": [
    {
     "data": {
      "image/png": "[encoded data removed]",
      "text/plain": [
       "<matplotlib.figure.Figure at 0x10bc26860>"
      ]
     },
     "metadata": {},
     "output_type": "display_data"
    }
   ],
   "source": [
    "ax = None\n",
    "\n",
    "for treatment_type in x.Treatment.unique():\n",
    "    target_indexs = x[x.Treatment == treatment_type].index\n",
    "    kmf = KaplanMeierFitter()\n",
    "    kmf.fit(y[target_indexs]['Survival_in_days'], event_observed=y[target_indexs]['Status'], label='Treatment = {0}'.format(treatment_type))\n",
    "    \n",
    "    if ax is None:\n",
    "        ax = kmf.plot()\n",
    "    else:\n",
    "        ax = kmf.plot(ax=ax)\n",
    "\n",
    "plt.xlim(0, 1000)\n",
    "plt.ylabel(\"生存関数 $\\hat{S}(t)$\")\n",
    "plt.xlabel(\"生存時間 $t$\")\n",
    "plt.show()"
   ]
  },
  {
   "cell_type": "code",
   "execution_count": null,
   "metadata": {
    "collapsed": true
   },
   "outputs": [],
   "source": []
  }
 ],
 "metadata": {
  "kernelspec": {
   "display_name": "Python 3",
   "language": "python",
   "name": "python3"
  },
  "language_info": {
   "codemirror_mode": {
    "name": "ipython",
    "version": 3
   },
   "file_extension": ".py",
   "mimetype": "text/x-python",
   "name": "python",
   "nbconvert_exporter": "python",
   "pygments_lexer": "ipython3",
   "version": "3.4.5"
  }
 },
 "nbformat": 4,
 "nbformat_minor": 2
}
