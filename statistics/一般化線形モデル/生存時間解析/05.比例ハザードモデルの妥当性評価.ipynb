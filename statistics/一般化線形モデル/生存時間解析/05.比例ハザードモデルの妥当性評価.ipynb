{
 "cells": [
  {
   "cell_type": "markdown",
   "metadata": {
    "collapsed": true
   },
   "source": [
    "# 比例ハザードモデルの妥当性評価\n",
    "モデルに基づく推測は、当てはめた統計モデルに完全に依存する。したがって、この推測が\"妥当\"であることを保証するためには、当てはめたモデルが、データに基づいて妥当であるということを要約して説明しなければならない。つまり、モデルの妥当性評価は、非常に重要であるといえる。"
   ]
  },
  {
   "attachments": {},
   "cell_type": "markdown",
   "metadata": {},
   "source": [
    "## 残差\n",
    "\n",
    " - $p$個の共変量をもつ$n$個の独立な時間の観測値があるとする\n",
    " - 時間の観測値、共変量および打ち切りお指示変数を$(t_{i}, x_{i}, c_{i})$の組で表すとする\n",
    "     - ただし、$i=1,2,\\cdots,n$であり、$c_{i}$を打ち切りを受けなかった観測値とし、$c_{i}=0$を打ち切りを受けた観測値とする\n",
    "\n",
    "#### Schoenfeld残差(Schoenfeld residuals)\n",
    "Schoenfeld残差は対数部分尤度の偏導関数に対する各被験者の寄与に基づいた残差である。\n",
    "\n",
    "$k$番目の共変量に対する対数部分尤度の偏導関数は、\n",
    "$$\n",
    "\\frac { \\partial \\log { { L }_{ p }\\left( \\beta  \\right)  }  }{ \\partial \\beta _{ k } } =\\sum _{ i=1 }^{ n }{ c_{ i }\\left\\{ x_{ ik }-\\frac { \\sum _{ j\\in R\\left( t_{ i } \\right)  }{ x_{ jk }e^{ x_{ \\prime  }^{ j }\\beta  } }  }{ \\sum _{ j\\in R\\left( t_{ i } \\right)  }{ e^{ x_{ \\prime  }^{ j }\\beta  } }  }  \\right\\}  } =\\sum _{ i=1 }^{ n }{ c_{ i }\\left\\{ x_{ ik }-{ \\bar { x }  }_{ w_{ i }k } \\right\\}  } \n",
    "$$\n",
    "である。ここで、\n",
    "$$\n",
    "{ \\bar { x }  }_{ w_{ i }k }=\\frac { \\sum _{ j\\in R\\left( t_{ i } \\right)  }{ x_{ jk }e^{ x_{ \\prime  }^{ j }\\beta  } }  }{ \\sum _{ j\\in R\\left( t_{ i } \\right)  }{ e^{ x_{ \\prime  }^{ j }\\beta  } }  } \n",
    "$$\n",
    "である。\n",
    "\n",
    "#### スケール化Schoenfeld残差(scaled Schoenfeld residuals)\n",
    "\n",
    "\n",
    "#### マルチンゲール残差(martingale residual)\n",
    "\n",
    "\n",
    "#### (修正)Cox-Snell残差\n",
    "\n",
    "\n",
    "#### スコア残差(score residual)\n",
    "\n",
    "\n",
    "#### スケール化スコア残差(scaled score residual)"
   ]
  },
  {
   "cell_type": "markdown",
   "metadata": {},
   "source": [
    "## 比例ハザード性の仮定の評価"
   ]
  },
  {
   "cell_type": "markdown",
   "metadata": {},
   "source": [
    "## モデル適合度\n",
    "\n",
    "### 比例ハザード用の決定係数$R^{2}$\n",
    "あらゆる回帰モデルで用いられる$R^{2}$のような指標をいくつか示す。\n",
    "\n",
    "**Nagelkerke**(1991)\n",
    "$$\n",
    "{R_{p}}^{2} = 1 - \\left\\{ exp {\\left[ \\frac {2}{n} \\left(\\log {L_{0}} - \\log {L_{p}} \\right) \\right]} \\right\\}\n",
    "$$\n",
    "\n",
    " - $n$: データ数(打ち切りデータ、非打ち切りデータ)\n",
    " - $L_{p}$: $p$個の共変量をもつモデルに対する対数部分尤度\n",
    " - $L_{0}$: 共変量を持たないモデルに対する対数部分尤度\n",
    "\n",
    "**Royston**(2006)<br>\n",
    "${R_{p}}^{2}$の拡張版で、${R_{p}}^{2}$の式の$n$を、観測されたイベント数$m$に置き換えたものである。そのため、打ち切り割合にそれほど依存しない指標である。\n",
    "\n",
    "$$\n",
    "{R_{p,e}}^{2} = 1 - \\left\\{ exp {\\left[ \\frac {2}{m}\\left( \\log {L_{0}} - \\log {L_{p}} \\right) \\right]} \\right\\}\n",
    "$$\n",
    "\n",
    " - $m$: 観測されたイベント数"
   ]
  },
  {
   "cell_type": "code",
   "execution_count": null,
   "metadata": {
    "collapsed": true
   },
   "outputs": [],
   "source": []
  }
 ],
 "metadata": {
  "kernelspec": {
   "display_name": "Python 3",
   "language": "python",
   "name": "python3"
  },
  "language_info": {
   "codemirror_mode": {
    "name": "ipython",
    "version": 3
   },
   "file_extension": ".py",
   "mimetype": "text/x-python",
   "name": "python",
   "nbconvert_exporter": "python",
   "pygments_lexer": "ipython3",
   "version": "3.4.5"
  }
 },
 "nbformat": 4,
 "nbformat_minor": 2
}
