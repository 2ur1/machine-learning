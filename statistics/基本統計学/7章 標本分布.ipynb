{
 "cells": [
  {
   "cell_type": "code",
   "execution_count": 3,
   "metadata": {
    "collapsed": false
   },
   "outputs": [],
   "source": [
    "import seaborn as sns\n",
    "%matplotlib inline"
   ]
  },
  {
   "cell_type": "markdown",
   "metadata": {},
   "source": [
    "### 4) 3割の打撃力をもつ野球選手が20打数で2割5分以下の比率しかあげられない確率はいくらか。また、100打数でならばどうか。"
   ]
  },
  {
   "cell_type": "code",
   "execution_count": 2,
   "metadata": {
    "collapsed": false
   },
   "outputs": [
    {
     "data": {
      "text/plain": [
       "0.31279261576216266"
      ]
     },
     "execution_count": 2,
     "metadata": {},
     "output_type": "execute_result"
    }
   ],
   "source": [
    "from scipy.stats import norm # 正規分布\n",
    "import math\n",
    "\n",
    "### ２０打数の場合\n",
    "\n",
    "p = 0.3 # 打撃力\n",
    "n = 20 # 標本数\n",
    "var = p*(1-p)/n # 分散\n",
    "\n",
    "# 標準化変量\n",
    "z = (0.25 - p)/math.sqrt(var)\n",
    "\n",
    "#２０打数で2割5分以下の比率になる確率は？\n",
    "norm.cdf(z)"
   ]
  },
  {
   "cell_type": "code",
   "execution_count": 4,
   "metadata": {
    "collapsed": false
   },
   "outputs": [
    {
     "data": {
      "text/plain": [
       "0.31279261576216266"
      ]
     },
     "execution_count": 4,
     "metadata": {},
     "output_type": "execute_result"
    }
   ],
   "source": [
    "# 次のほうが簡単\n",
    "norm.cdf(x=0.25, loc=p, scale=math.sqrt(var))"
   ]
  },
  {
   "cell_type": "code",
   "execution_count": 5,
   "metadata": {
    "collapsed": false
   },
   "outputs": [
    {
     "data": {
      "text/plain": [
       "0.13761676203741718"
      ]
     },
     "execution_count": 5,
     "metadata": {},
     "output_type": "execute_result"
    }
   ],
   "source": [
    "### 100打数の場合\n",
    "\n",
    "n = 100 # 標本数\n",
    "var = p*(1-p)/n # 分散\n",
    "\n",
    "# 標準化変量\n",
    "z = (0.25 - p)/math.sqrt(var)\n",
    "\n",
    "# 100打数で2割5分以下の比率になる確率は？\n",
    "norm.cdf(z)"
   ]
  },
  {
   "cell_type": "code",
   "execution_count": 6,
   "metadata": {
    "collapsed": false
   },
   "outputs": [
    {
     "data": {
      "text/plain": [
       "0.13761676203741718"
      ]
     },
     "execution_count": 6,
     "metadata": {},
     "output_type": "execute_result"
    }
   ],
   "source": [
    "# 次のほうが簡単\n",
    "norm.cdf(x=0.25, loc=p, scale=math.sqrt(var))"
   ]
  },
  {
   "cell_type": "markdown",
   "metadata": {},
   "source": [
    "### 7) 母集団の分布がN(50,64)であるとき、n=100の確率標本で平均値が49以下となる確率はいくらか。また、n=400の場合はどうか。"
   ]
  },
  {
   "cell_type": "code",
   "execution_count": 7,
   "metadata": {
    "collapsed": false
   },
   "outputs": [
    {
     "data": {
      "text/plain": [
       "0.10564977366685535"
      ]
     },
     "execution_count": 7,
     "metadata": {},
     "output_type": "execute_result"
    }
   ],
   "source": [
    "### n=100の場合\n",
    "\n",
    "n = 100\n",
    "u = 50 # 平均\n",
    "var = 64/n # 分散\n",
    "\n",
    "# 標準化変量\n",
    "z = (49 - u)/math.sqrt(var)\n",
    "\n",
    "# 100の確率標本で平均値が49以下になる確率\n",
    "norm.cdf(z)"
   ]
  },
  {
   "cell_type": "code",
   "execution_count": 8,
   "metadata": {
    "collapsed": false
   },
   "outputs": [
    {
     "data": {
      "text/plain": [
       "0.10564977366685535"
      ]
     },
     "execution_count": 8,
     "metadata": {},
     "output_type": "execute_result"
    }
   ],
   "source": [
    "norm.cdf(x=49, loc=u, scale=math.sqrt(var))"
   ]
  },
  {
   "cell_type": "code",
   "execution_count": 9,
   "metadata": {
    "collapsed": false
   },
   "outputs": [
    {
     "data": {
      "text/plain": [
       "0.0062096653257761323"
      ]
     },
     "execution_count": 9,
     "metadata": {},
     "output_type": "execute_result"
    }
   ],
   "source": [
    "### n=400\n",
    "\n",
    "n = 400\n",
    "var = 64/n\n",
    "\n",
    "# 標準化変量\n",
    "z = (49 - u)/math.sqrt(var)\n",
    "\n",
    "# 400の確率標本で平均値が49以下になる確率\n",
    "norm.cdf(z)"
   ]
  },
  {
   "cell_type": "code",
   "execution_count": 10,
   "metadata": {
    "collapsed": false
   },
   "outputs": [
    {
     "data": {
      "text/plain": [
       "0.0062096653257761323"
      ]
     },
     "execution_count": 10,
     "metadata": {},
     "output_type": "execute_result"
    }
   ],
   "source": [
    "norm.cdf(x=49, loc=u, scale=math.sqrt(var))"
   ]
  },
  {
   "cell_type": "markdown",
   "metadata": {
    "collapsed": true
   },
   "source": [
    "### 9) 長期間にわたって収集された統計によると、ある市場で売買された食肉牛の体重は、平均860kg、標準偏差180kgの正規分布でよく近似できることがわかっている。これらの食肉牛400頭からなる無作為標本の平均体重が"
   ]
  },
  {
   "cell_type": "markdown",
   "metadata": {},
   "source": [
    "### (a) 850kg未満である確率"
   ]
  },
  {
   "cell_type": "code",
   "execution_count": 13,
   "metadata": {
    "collapsed": false
   },
   "outputs": [
    {
     "data": {
      "text/plain": [
       "0.13326026290250537"
      ]
     },
     "execution_count": 13,
     "metadata": {},
     "output_type": "execute_result"
    }
   ],
   "source": [
    "u = 860 # 平均\n",
    "std = 180 # 標準偏差\n",
    "n= 400 # 標本数\n",
    "\n",
    "norm.cdf(x=850, loc=u, scale=std/math.sqrt(n))"
   ]
  },
  {
   "cell_type": "markdown",
   "metadata": {},
   "source": [
    "### (b) 875kgよりも重い確率"
   ]
  },
  {
   "cell_type": "code",
   "execution_count": 15,
   "metadata": {
    "collapsed": false
   },
   "outputs": [
    {
     "data": {
      "text/plain": [
       "0.047790352272814703"
      ]
     },
     "execution_count": 15,
     "metadata": {},
     "output_type": "execute_result"
    }
   ],
   "source": [
    "norm.sf(x=875, loc=u, scale=std/math.sqrt(n))"
   ]
  },
  {
   "cell_type": "markdown",
   "metadata": {},
   "source": [
    "### (c)845kgから870kgの間にある確率"
   ]
  },
  {
   "cell_type": "code",
   "execution_count": 16,
   "metadata": {
    "collapsed": false
   },
   "outputs": [
    {
     "data": {
      "text/plain": [
       "0.81894938482467994"
      ]
     },
     "execution_count": 16,
     "metadata": {},
     "output_type": "execute_result"
    }
   ],
   "source": [
    "propability1 = norm.cdf(x=870, loc=u, scale=std/math.sqrt(n)) - 0.5\n",
    "propability2 = norm.sf(x=845, loc=u, scale=std/math.sqrt(n)) - 0.5\n",
    "\n",
    "propability1 + propability2"
   ]
  },
  {
   "cell_type": "markdown",
   "metadata": {},
   "source": [
    "### (d)840kg未満であるか、あるいは880kgよりも重い確率"
   ]
  },
  {
   "cell_type": "code",
   "execution_count": 17,
   "metadata": {
    "collapsed": false
   },
   "outputs": [
    {
     "data": {
      "text/plain": [
       "0.026268291382042234"
      ]
     },
     "execution_count": 17,
     "metadata": {},
     "output_type": "execute_result"
    }
   ],
   "source": [
    "norm.cdf(x=840, loc=u, scale=std/math.sqrt(n)) + norm.sf(x=880, loc=u, scale=std/math.sqrt(n))"
   ]
  },
  {
   "cell_type": "code",
   "execution_count": null,
   "metadata": {
    "collapsed": true
   },
   "outputs": [],
   "source": []
  }
 ],
 "metadata": {
  "kernelspec": {
   "display_name": "Python 3",
   "language": "python",
   "name": "python3"
  },
  "language_info": {
   "codemirror_mode": {
    "name": "ipython",
    "version": 3
   },
   "file_extension": ".py",
   "mimetype": "text/x-python",
   "name": "python",
   "nbconvert_exporter": "python",
   "pygments_lexer": "ipython3",
   "version": "3.4.5"
  }
 },
 "nbformat": 4,
 "nbformat_minor": 0
}
